{
 "cells": [
  {
   "cell_type": "code",
   "execution_count": 1,
   "id": "e3ab9be8-d755-476f-be33-d4801db23364",
   "metadata": {},
   "outputs": [],
   "source": [
    "import pandas as pd\n",
    "import numpy as np\n",
    "import re\n",
    "import emoji\n",
    "import string\n",
    "from nltk.corpus import stopwords\n",
    "from nltk.stem import WordNetLemmatizer\n",
    "from nltk.stem import PorterStemmer\n",
    "from nltk.tokenize import word_tokenize\n",
    "from functools import reduce\n",
    "import contractions"
   ]
  },
  {
   "cell_type": "code",
   "execution_count": 2,
   "id": "7dbbe6b9-9cf2-4bb2-bbd2-9a8384ed5634",
   "metadata": {},
   "outputs": [],
   "source": [
    "#Opening .csv file\n",
    "df = pd.read_csv('../../data/updated_tweets.csv')\n",
    "\n",
    "#Define stop words for text cleaning\n",
    "stop_words = set(stopwords.words('english'))\n",
    "\n",
    "lemmatizer = WordNetLemmatizer()\n",
    "\n",
    "ps = PorterStemmer()"
   ]
  },
  {
   "cell_type": "code",
   "execution_count": 3,
   "id": "eb9cf31c-06d4-4e42-a3f3-e96231749b4a",
   "metadata": {},
   "outputs": [],
   "source": [
    "#Replace all emojis in the string with null character\n",
    "def remove_emojis(tweet):\n",
    "    tweet = re.sub(r\"(:[Pp3Oo\\(\\)])|(:'[\\)\\(])|(;[\\)\\(])|(-.-)|(^[._]^)|(x[\\(\\)])\", '', tweet)\n",
    "    return emoji.replace_emoji(tweet,'')\n",
    "\n",
    "\n",
    "\n",
    "#RIGUARDARE\n",
    "def remove_links(tweet):\n",
    "    return re.sub(r\"(?:\\@|https?\\://)\\S+\", '', tweet)\n",
    "\n",
    "\n",
    "def remove_hashtag(tweet):\n",
    "    tweet = re.sub(r\"(\\s+#[\\w-]+)+\\s*$\", '', tweet)\n",
    "    return re.sub(r\"#([\\w-]+)\", r'\\1', tweet)\n",
    "\n",
    "\n",
    "\n",
    "def remove_spaces(tweet):\n",
    "    tweet = re.sub(r\"\\s{2,}\", ' ', tweet)\n",
    "    tweet = re.sub(r\"^\\s\", '', tweet)\n",
    "    return re.sub(r\"\\s$\", '', tweet)\n",
    "\n",
    "\n",
    "\n",
    "def remove_not_ASCII(tweet):\n",
    "    return tweet.encode(\"ascii\", errors=\"ignore\").decode()\n",
    "\n",
    "\n",
    "\n",
    "# Expand contractions\n",
    "def remove_contractions(tweet):\n",
    "    return contractions.fix(tweet,slang=True)\n",
    "\n",
    "\n",
    "#Pensarci meglio\n",
    "def remove_stopwords(tweet):\n",
    "    for word in stop_words:\n",
    "        tweet = tweet.replace(word, '')\n",
    "    return tweet\n",
    "\n",
    "\n",
    "def remove_punctuation(tweet):\n",
    "    return tweet.translate(str.maketrans(\"\", \"\", string.punctuation))\n",
    "\n",
    "\n",
    "#Controllare\n",
    "def lematization(tweet):\n",
    "    return lemmatizer.lemmatize(tweet)\n",
    "\n",
    "\n",
    "#Ok\n",
    "def stemming(tweet):\n",
    "    tmp_tweet = word_tokenize(tweet)\n",
    "    return reduce(lambda x, y: x + \" \" + ps.stem(y), tmp_tweet, \"\")\n",
    "\n",
    "\n",
    "def remove_elongated_words(tweet):\n",
    "    return re.sub(r'(.)\\1+', r'\\1\\1', tweet)"
   ]
  },
  {
   "cell_type": "code",
   "execution_count": 4,
   "id": "503f31a9-dfd4-454b-9c17-9d478cfff076",
   "metadata": {},
   "outputs": [],
   "source": [
    "def normalize_tweet(tweet):\n",
    "    tweet = remove_emojis(tweet)\n",
    "    tweet = remove_links(tweet)\n",
    "    tweet = remove_hashtag(tweet)\n",
    "    tweet = remove_spaces(tweet)\n",
    "    tweet = remove_not_ASCII(tweet)\n",
    "    tweet = remove_contractions(tweet)\n",
    "    tweet = remove_stopwords(tweet)\n",
    "    tweet = remove_punctuation(tweet)\n",
    "    tweet = lematization(tweet)\n",
    "    return tweet"
   ]
  },
  {
   "cell_type": "code",
   "execution_count": null,
   "id": "1fe5c6c7-6b78-47df-9796-dccf221c953e",
   "metadata": {},
   "outputs": [],
   "source": [
    "df.tweet_text = [normalize_tweet(tweet) for tweet in df.tweet_text]\n",
    "df.to_csv(r\"../../data/normalized_tweets.csv\", index=False)"
   ]
  },
  {
   "cell_type": "code",
   "execution_count": null,
   "id": "8f1307f3-a856-4f35-a2ad-4fb3de2f5c85",
   "metadata": {},
   "outputs": [],
   "source": []
  }
 ],
 "metadata": {
  "kernelspec": {
   "display_name": "Python 3 (ipykernel)",
   "language": "python",
   "name": "python3"
  },
  "language_info": {
   "codemirror_mode": {
    "name": "ipython",
    "version": 3
   },
   "file_extension": ".py",
   "mimetype": "text/x-python",
   "name": "python",
   "nbconvert_exporter": "python",
   "pygments_lexer": "ipython3",
   "version": "3.11.8"
  }
 },
 "nbformat": 4,
 "nbformat_minor": 5
}
