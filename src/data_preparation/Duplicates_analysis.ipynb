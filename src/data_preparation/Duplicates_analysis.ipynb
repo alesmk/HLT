{
 "cells": [
  {
   "cell_type": "markdown",
   "id": "a5cce3d6-b50d-4ecf-a376-435a8f128e1d",
   "metadata": {},
   "source": [
    "# 1. Duplicates analysis"
   ]
  },
  {
   "cell_type": "code",
   "execution_count": 1,
   "id": "a6c42a96-393f-4c55-bbca-75eb49b7f0bf",
   "metadata": {
    "tags": []
   },
   "outputs": [],
   "source": [
    "import pandas as pd\n",
    "import numpy as np\n",
    "\n",
    "df = pd.read_csv('../../data/tweets.csv')"
   ]
  },
  {
   "cell_type": "markdown",
   "id": "47684c61-6671-4b2b-b266-9acfeeeeb1ce",
   "metadata": {},
   "source": [
    "Check duplicated rows"
   ]
  },
  {
   "cell_type": "code",
   "execution_count": 2,
   "id": "275f1499-9de0-4f44-84d6-7b74a68f51aa",
   "metadata": {
    "tags": []
   },
   "outputs": [
    {
     "data": {
      "text/plain": [
       "36"
      ]
     },
     "execution_count": 2,
     "metadata": {},
     "output_type": "execute_result"
    }
   ],
   "source": [
    "df.duplicated().sum()   # 36 duplicated entries on both tweet_text and cyberbullying_type"
   ]
  },
  {
   "cell_type": "code",
   "execution_count": 3,
   "id": "b9ded864-d641-4a62-b9f7-a8022b9561d7",
   "metadata": {
    "tags": []
   },
   "outputs": [
    {
     "data": {
      "text/html": [
       "<div>\n",
       "<style scoped>\n",
       "    .dataframe tbody tr th:only-of-type {\n",
       "        vertical-align: middle;\n",
       "    }\n",
       "\n",
       "    .dataframe tbody tr th {\n",
       "        vertical-align: top;\n",
       "    }\n",
       "\n",
       "    .dataframe thead th {\n",
       "        text-align: right;\n",
       "    }\n",
       "</style>\n",
       "<table border=\"1\" class=\"dataframe\">\n",
       "  <thead>\n",
       "    <tr style=\"text-align: right;\">\n",
       "      <th></th>\n",
       "      <th>tweet_text</th>\n",
       "      <th>cyberbullying_type</th>\n",
       "    </tr>\n",
       "  </thead>\n",
       "  <tbody>\n",
       "    <tr>\n",
       "      <th>829</th>\n",
       "      <td>Our pancakes are selling like hotcakes Shaz - ...</td>\n",
       "      <td>not_cyberbullying</td>\n",
       "    </tr>\n",
       "    <tr>\n",
       "      <th>1712</th>\n",
       "      <td>This is the opportunity to prove ourselves lik...</td>\n",
       "      <td>not_cyberbullying</td>\n",
       "    </tr>\n",
       "    <tr>\n",
       "      <th>1758</th>\n",
       "      <td>Our pancakes are selling like hotcakes Shaz - ...</td>\n",
       "      <td>not_cyberbullying</td>\n",
       "    </tr>\n",
       "    <tr>\n",
       "      <th>1984</th>\n",
       "      <td>@TVWEEKmag: There is only 1 way to stay in the...</td>\n",
       "      <td>not_cyberbullying</td>\n",
       "    </tr>\n",
       "    <tr>\n",
       "      <th>2611</th>\n",
       "      <td>It wouldn't be fair. Kat knows NOTHING of fair...</td>\n",
       "      <td>not_cyberbullying</td>\n",
       "    </tr>\n",
       "    <tr>\n",
       "      <th>...</th>\n",
       "      <td>...</td>\n",
       "      <td>...</td>\n",
       "    </tr>\n",
       "    <tr>\n",
       "      <th>20604</th>\n",
       "      <td>A Pakistani court has sentenced 86 members of ...</td>\n",
       "      <td>religion</td>\n",
       "    </tr>\n",
       "    <tr>\n",
       "      <th>41403</th>\n",
       "      <td>Still, Davis, who is gay, said he pays a socia...</td>\n",
       "      <td>ethnicity</td>\n",
       "    </tr>\n",
       "    <tr>\n",
       "      <th>46915</th>\n",
       "      <td>Racism won't stop as long as u stil select ur ...</td>\n",
       "      <td>ethnicity</td>\n",
       "    </tr>\n",
       "    <tr>\n",
       "      <th>46962</th>\n",
       "      <td>Still, Davis, who is gay, said he pays a socia...</td>\n",
       "      <td>ethnicity</td>\n",
       "    </tr>\n",
       "    <tr>\n",
       "      <th>47397</th>\n",
       "      <td>Racism won't stop as long as u stil select ur ...</td>\n",
       "      <td>ethnicity</td>\n",
       "    </tr>\n",
       "  </tbody>\n",
       "</table>\n",
       "<p>72 rows × 2 columns</p>\n",
       "</div>"
      ],
      "text/plain": [
       "                                              tweet_text cyberbullying_type\n",
       "829    Our pancakes are selling like hotcakes Shaz - ...  not_cyberbullying\n",
       "1712   This is the opportunity to prove ourselves lik...  not_cyberbullying\n",
       "1758   Our pancakes are selling like hotcakes Shaz - ...  not_cyberbullying\n",
       "1984   @TVWEEKmag: There is only 1 way to stay in the...  not_cyberbullying\n",
       "2611   It wouldn't be fair. Kat knows NOTHING of fair...  not_cyberbullying\n",
       "...                                                  ...                ...\n",
       "20604  A Pakistani court has sentenced 86 members of ...           religion\n",
       "41403  Still, Davis, who is gay, said he pays a socia...          ethnicity\n",
       "46915  Racism won't stop as long as u stil select ur ...          ethnicity\n",
       "46962  Still, Davis, who is gay, said he pays a socia...          ethnicity\n",
       "47397  Racism won't stop as long as u stil select ur ...          ethnicity\n",
       "\n",
       "[72 rows x 2 columns]"
      ]
     },
     "execution_count": 3,
     "metadata": {},
     "output_type": "execute_result"
    }
   ],
   "source": [
    "df[df.duplicated(keep=False)]       # Duplicated with equal tweet_text and equal cyberbullying_type     (DROP)"
   ]
  },
  {
   "cell_type": "code",
   "execution_count": 4,
   "id": "e56777bf-1c9c-4665-9a66-3672f1908989",
   "metadata": {
    "tags": []
   },
   "outputs": [],
   "source": [
    "df = df.drop_duplicates()"
   ]
  },
  {
   "cell_type": "code",
   "execution_count": 5,
   "id": "ef5b4185-295a-49fb-95f6-3add2899b43f",
   "metadata": {},
   "outputs": [],
   "source": [
    "df.to_csv(r\"../../data/updated_tweets.csv\", index=False)"
   ]
  },
  {
   "cell_type": "markdown",
   "id": "a59998a6-3857-4c1c-94a8-f4f6bf4d0f9d",
   "metadata": {},
   "source": [
    "### Now, we also observe tweets that are identical in tweet text but differ in cyberbullying type"
   ]
  },
  {
   "cell_type": "code",
   "execution_count": 6,
   "id": "449295bd-c09c-48e5-a9ec-258ea7f8b530",
   "metadata": {
    "tags": []
   },
   "outputs": [
    {
     "data": {
      "text/html": [
       "<div>\n",
       "<style scoped>\n",
       "    .dataframe tbody tr th:only-of-type {\n",
       "        vertical-align: middle;\n",
       "    }\n",
       "\n",
       "    .dataframe tbody tr th {\n",
       "        vertical-align: top;\n",
       "    }\n",
       "\n",
       "    .dataframe thead th {\n",
       "        text-align: right;\n",
       "    }\n",
       "</style>\n",
       "<table border=\"1\" class=\"dataframe\">\n",
       "  <thead>\n",
       "    <tr style=\"text-align: right;\">\n",
       "      <th></th>\n",
       "      <th>tweet_text</th>\n",
       "      <th>cyberbullying_type</th>\n",
       "    </tr>\n",
       "  </thead>\n",
       "  <tbody>\n",
       "    <tr>\n",
       "      <th>3</th>\n",
       "      <td>@Jason_Gio meh. :P  thanks for the heads up, b...</td>\n",
       "      <td>not_cyberbullying</td>\n",
       "    </tr>\n",
       "    <tr>\n",
       "      <th>8</th>\n",
       "      <td>@stockputout everything but mostly my priest</td>\n",
       "      <td>not_cyberbullying</td>\n",
       "    </tr>\n",
       "    <tr>\n",
       "      <th>17</th>\n",
       "      <td>@0xabad1dea @kelseytheodore2 twitter is basica...</td>\n",
       "      <td>not_cyberbullying</td>\n",
       "    </tr>\n",
       "    <tr>\n",
       "      <th>24</th>\n",
       "      <td>Wishing my arena partner was on. &amp;gt;.&amp;gt;  Re...</td>\n",
       "      <td>not_cyberbullying</td>\n",
       "    </tr>\n",
       "    <tr>\n",
       "      <th>27</th>\n",
       "      <td>@gcarothers eek. i can't stand split keyboards...</td>\n",
       "      <td>not_cyberbullying</td>\n",
       "    </tr>\n",
       "    <tr>\n",
       "      <th>...</th>\n",
       "      <td>...</td>\n",
       "      <td>...</td>\n",
       "    </tr>\n",
       "    <tr>\n",
       "      <th>41356</th>\n",
       "      <td>@YTM1staWu1fy Sweden, man.  The Swedish men ar...</td>\n",
       "      <td>ethnicity</td>\n",
       "    </tr>\n",
       "    <tr>\n",
       "      <th>44474</th>\n",
       "      <td>@GarrettaBrown85 @5Candrew Why do people even ...</td>\n",
       "      <td>ethnicity</td>\n",
       "    </tr>\n",
       "    <tr>\n",
       "      <th>45718</th>\n",
       "      <td>@SFtheWolf @max2000warlord people confuse empa...</td>\n",
       "      <td>ethnicity</td>\n",
       "    </tr>\n",
       "    <tr>\n",
       "      <th>46360</th>\n",
       "      <td>RT @AntonioFrench: I spent the morning at the ...</td>\n",
       "      <td>ethnicity</td>\n",
       "    </tr>\n",
       "    <tr>\n",
       "      <th>46556</th>\n",
       "      <td>He can't be a server at our restaurant, that b...</td>\n",
       "      <td>ethnicity</td>\n",
       "    </tr>\n",
       "  </tbody>\n",
       "</table>\n",
       "<p>3278 rows × 2 columns</p>\n",
       "</div>"
      ],
      "text/plain": [
       "                                              tweet_text cyberbullying_type\n",
       "3      @Jason_Gio meh. :P  thanks for the heads up, b...  not_cyberbullying\n",
       "8           @stockputout everything but mostly my priest  not_cyberbullying\n",
       "17     @0xabad1dea @kelseytheodore2 twitter is basica...  not_cyberbullying\n",
       "24     Wishing my arena partner was on. &gt;.&gt;  Re...  not_cyberbullying\n",
       "27     @gcarothers eek. i can't stand split keyboards...  not_cyberbullying\n",
       "...                                                  ...                ...\n",
       "41356  @YTM1staWu1fy Sweden, man.  The Swedish men ar...          ethnicity\n",
       "44474  @GarrettaBrown85 @5Candrew Why do people even ...          ethnicity\n",
       "45718  @SFtheWolf @max2000warlord people confuse empa...          ethnicity\n",
       "46360  RT @AntonioFrench: I spent the morning at the ...          ethnicity\n",
       "46556  He can't be a server at our restaurant, that b...          ethnicity\n",
       "\n",
       "[3278 rows x 2 columns]"
      ]
     },
     "execution_count": 6,
     "metadata": {},
     "output_type": "execute_result"
    }
   ],
   "source": [
    "d = df[df.duplicated(subset=['tweet_text'], keep = False)]      \n",
    "d"
   ]
  },
  {
   "cell_type": "code",
   "execution_count": 7,
   "id": "84caceb8-a554-4aba-9119-2c86e404090b",
   "metadata": {
    "tags": []
   },
   "outputs": [
    {
     "data": {
      "text/html": [
       "<div>\n",
       "<style scoped>\n",
       "    .dataframe tbody tr th:only-of-type {\n",
       "        vertical-align: middle;\n",
       "    }\n",
       "\n",
       "    .dataframe tbody tr th {\n",
       "        vertical-align: top;\n",
       "    }\n",
       "\n",
       "    .dataframe thead th {\n",
       "        text-align: right;\n",
       "    }\n",
       "</style>\n",
       "<table border=\"1\" class=\"dataframe\">\n",
       "  <thead>\n",
       "    <tr style=\"text-align: right;\">\n",
       "      <th></th>\n",
       "      <th>tweet_text</th>\n",
       "      <th>cyberbullying_type</th>\n",
       "    </tr>\n",
       "  </thead>\n",
       "  <tbody>\n",
       "    <tr>\n",
       "      <th>15961</th>\n",
       "      <td>You're not going to get the response you're lo...</td>\n",
       "      <td>religion</td>\n",
       "    </tr>\n",
       "    <tr>\n",
       "      <th>16146</th>\n",
       "      <td>@moderncomments Liberals suddenly consider ISI...</td>\n",
       "      <td>religion</td>\n",
       "    </tr>\n",
       "    <tr>\n",
       "      <th>17483</th>\n",
       "      <td>RT @AntonioFrench: I spent the morning at the ...</td>\n",
       "      <td>religion</td>\n",
       "    </tr>\n",
       "    <tr>\n",
       "      <th>20109</th>\n",
       "      <td>He can't be a server at our restaurant, that b...</td>\n",
       "      <td>religion</td>\n",
       "    </tr>\n",
       "    <tr>\n",
       "      <th>20535</th>\n",
       "      <td>@GarrettaBrown85 @5Candrew Why do people even ...</td>\n",
       "      <td>religion</td>\n",
       "    </tr>\n",
       "    <tr>\n",
       "      <th>22994</th>\n",
       "      <td>RT @harikondabolu: In his #Ferguson testimony,...</td>\n",
       "      <td>religion</td>\n",
       "    </tr>\n",
       "  </tbody>\n",
       "</table>\n",
       "</div>"
      ],
      "text/plain": [
       "                                              tweet_text cyberbullying_type\n",
       "15961  You're not going to get the response you're lo...           religion\n",
       "16146  @moderncomments Liberals suddenly consider ISI...           religion\n",
       "17483  RT @AntonioFrench: I spent the morning at the ...           religion\n",
       "20109  He can't be a server at our restaurant, that b...           religion\n",
       "20535  @GarrettaBrown85 @5Candrew Why do people even ...           religion\n",
       "22994  RT @harikondabolu: In his #Ferguson testimony,...           religion"
      ]
     },
     "execution_count": 7,
     "metadata": {},
     "output_type": "execute_result"
    }
   ],
   "source": [
    "d[d['cyberbullying_type']=='religion']"
   ]
  },
  {
   "cell_type": "code",
   "execution_count": 8,
   "id": "da803da2-1600-4687-8db4-8cbd310b99c1",
   "metadata": {
    "tags": []
   },
   "outputs": [
    {
     "data": {
      "text/html": [
       "<div>\n",
       "<style scoped>\n",
       "    .dataframe tbody tr th:only-of-type {\n",
       "        vertical-align: middle;\n",
       "    }\n",
       "\n",
       "    .dataframe tbody tr th {\n",
       "        vertical-align: top;\n",
       "    }\n",
       "\n",
       "    .dataframe thead th {\n",
       "        text-align: right;\n",
       "    }\n",
       "</style>\n",
       "<table border=\"1\" class=\"dataframe\">\n",
       "  <thead>\n",
       "    <tr style=\"text-align: right;\">\n",
       "      <th></th>\n",
       "      <th>tweet_text</th>\n",
       "      <th>cyberbullying_type</th>\n",
       "    </tr>\n",
       "  </thead>\n",
       "  <tbody>\n",
       "    <tr>\n",
       "      <th>40015</th>\n",
       "      <td>RT @harikondabolu: In his #Ferguson testimony,...</td>\n",
       "      <td>ethnicity</td>\n",
       "    </tr>\n",
       "    <tr>\n",
       "      <th>41174</th>\n",
       "      <td>@freebsdglrI awww. someone's mad. &amp;lt;3</td>\n",
       "      <td>ethnicity</td>\n",
       "    </tr>\n",
       "    <tr>\n",
       "      <th>41356</th>\n",
       "      <td>@YTM1staWu1fy Sweden, man.  The Swedish men ar...</td>\n",
       "      <td>ethnicity</td>\n",
       "    </tr>\n",
       "    <tr>\n",
       "      <th>44474</th>\n",
       "      <td>@GarrettaBrown85 @5Candrew Why do people even ...</td>\n",
       "      <td>ethnicity</td>\n",
       "    </tr>\n",
       "    <tr>\n",
       "      <th>45718</th>\n",
       "      <td>@SFtheWolf @max2000warlord people confuse empa...</td>\n",
       "      <td>ethnicity</td>\n",
       "    </tr>\n",
       "    <tr>\n",
       "      <th>46360</th>\n",
       "      <td>RT @AntonioFrench: I spent the morning at the ...</td>\n",
       "      <td>ethnicity</td>\n",
       "    </tr>\n",
       "    <tr>\n",
       "      <th>46556</th>\n",
       "      <td>He can't be a server at our restaurant, that b...</td>\n",
       "      <td>ethnicity</td>\n",
       "    </tr>\n",
       "  </tbody>\n",
       "</table>\n",
       "</div>"
      ],
      "text/plain": [
       "                                              tweet_text cyberbullying_type\n",
       "40015  RT @harikondabolu: In his #Ferguson testimony,...          ethnicity\n",
       "41174            @freebsdglrI awww. someone's mad. &lt;3          ethnicity\n",
       "41356  @YTM1staWu1fy Sweden, man.  The Swedish men ar...          ethnicity\n",
       "44474  @GarrettaBrown85 @5Candrew Why do people even ...          ethnicity\n",
       "45718  @SFtheWolf @max2000warlord people confuse empa...          ethnicity\n",
       "46360  RT @AntonioFrench: I spent the morning at the ...          ethnicity\n",
       "46556  He can't be a server at our restaurant, that b...          ethnicity"
      ]
     },
     "execution_count": 8,
     "metadata": {},
     "output_type": "execute_result"
    }
   ],
   "source": [
    "d[d['cyberbullying_type']=='ethnicity']"
   ]
  },
  {
   "cell_type": "code",
   "execution_count": 9,
   "id": "85e839db-ed67-4e4a-9c45-ed8e0b0fb404",
   "metadata": {
    "tags": []
   },
   "outputs": [
    {
     "data": {
      "text/html": [
       "<div>\n",
       "<style scoped>\n",
       "    .dataframe tbody tr th:only-of-type {\n",
       "        vertical-align: middle;\n",
       "    }\n",
       "\n",
       "    .dataframe tbody tr th {\n",
       "        vertical-align: top;\n",
       "    }\n",
       "\n",
       "    .dataframe thead th {\n",
       "        text-align: right;\n",
       "    }\n",
       "</style>\n",
       "<table border=\"1\" class=\"dataframe\">\n",
       "  <thead>\n",
       "    <tr style=\"text-align: right;\">\n",
       "      <th></th>\n",
       "      <th>tweet_text</th>\n",
       "      <th>cyberbullying_type</th>\n",
       "    </tr>\n",
       "  </thead>\n",
       "  <tbody>\n",
       "    <tr>\n",
       "      <th>8</th>\n",
       "      <td>@stockputout everything but mostly my priest</td>\n",
       "      <td>not_cyberbullying</td>\n",
       "    </tr>\n",
       "    <tr>\n",
       "      <th>31583</th>\n",
       "      <td>@stockputout everything but mostly my priest</td>\n",
       "      <td>other_cyberbullying</td>\n",
       "    </tr>\n",
       "  </tbody>\n",
       "</table>\n",
       "</div>"
      ],
      "text/plain": [
       "                                         tweet_text   cyberbullying_type\n",
       "8      @stockputout everything but mostly my priest    not_cyberbullying\n",
       "31583  @stockputout everything but mostly my priest  other_cyberbullying"
      ]
     },
     "execution_count": 9,
     "metadata": {},
     "output_type": "execute_result"
    }
   ],
   "source": [
    "d[d['tweet_text'] == \"@stockputout everything but mostly my priest\"]"
   ]
  },
  {
   "cell_type": "code",
   "execution_count": 10,
   "id": "0091bcd5-56a5-4370-946b-179cddc34020",
   "metadata": {
    "tags": []
   },
   "outputs": [
    {
     "data": {
      "text/html": [
       "<div>\n",
       "<style scoped>\n",
       "    .dataframe tbody tr th:only-of-type {\n",
       "        vertical-align: middle;\n",
       "    }\n",
       "\n",
       "    .dataframe tbody tr th {\n",
       "        vertical-align: top;\n",
       "    }\n",
       "\n",
       "    .dataframe thead th {\n",
       "        text-align: right;\n",
       "    }\n",
       "</style>\n",
       "<table border=\"1\" class=\"dataframe\">\n",
       "  <thead>\n",
       "    <tr style=\"text-align: right;\">\n",
       "      <th></th>\n",
       "      <th>tweet_text</th>\n",
       "      <th>cyberbullying_type</th>\n",
       "    </tr>\n",
       "  </thead>\n",
       "  <tbody>\n",
       "    <tr>\n",
       "      <th>3</th>\n",
       "      <td>@Jason_Gio meh. :P  thanks for the heads up, b...</td>\n",
       "      <td>not_cyberbullying</td>\n",
       "    </tr>\n",
       "    <tr>\n",
       "      <th>28158</th>\n",
       "      <td>@Jason_Gio meh. :P  thanks for the heads up, b...</td>\n",
       "      <td>other_cyberbullying</td>\n",
       "    </tr>\n",
       "  </tbody>\n",
       "</table>\n",
       "</div>"
      ],
      "text/plain": [
       "                                              tweet_text   cyberbullying_type\n",
       "3      @Jason_Gio meh. :P  thanks for the heads up, b...    not_cyberbullying\n",
       "28158  @Jason_Gio meh. :P  thanks for the heads up, b...  other_cyberbullying"
      ]
     },
     "execution_count": 10,
     "metadata": {},
     "output_type": "execute_result"
    }
   ],
   "source": [
    "d[d['tweet_text'] == \"@Jason_Gio meh. :P  thanks for the heads up, but not too concerned about another angry dude on twitter.\"]"
   ]
  },
  {
   "cell_type": "markdown",
   "id": "c0201a8e-4ec9-461d-b34a-3eca6fa43057",
   "metadata": {},
   "source": [
    "#### From observing the outputs, we have understood that there are duplicates like these because messages can be tagged with different types; thus, they are not errors, and we do not drop them"
   ]
  }
 ],
 "metadata": {
  "kernelspec": {
   "display_name": "Python 3 (ipykernel)",
   "language": "python",
   "name": "python3"
  },
  "language_info": {
   "codemirror_mode": {
    "name": "ipython",
    "version": 3
   },
   "file_extension": ".py",
   "mimetype": "text/x-python",
   "name": "python",
   "nbconvert_exporter": "python",
   "pygments_lexer": "ipython3",
   "version": "3.11.5"
  }
 },
 "nbformat": 4,
 "nbformat_minor": 5
}
