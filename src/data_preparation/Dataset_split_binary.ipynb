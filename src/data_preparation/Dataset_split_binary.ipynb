{
 "cells": [
  {
   "cell_type": "markdown",
   "id": "31892409-7b69-4814-9a4e-6fbd8d39bdf1",
   "metadata": {},
   "source": [
    "## Binary Datasets"
   ]
  },
  {
   "cell_type": "code",
   "execution_count": 1,
   "id": "7cba2e53-b1c8-4db6-9527-c1b6f7dd5a4e",
   "metadata": {},
   "outputs": [],
   "source": [
    "import pandas as pd\n",
    "from colorama import Fore, Style"
   ]
  },
  {
   "cell_type": "code",
   "execution_count": 2,
   "id": "0a76ef2f-9ba0-41b6-884a-aaa051ca9578",
   "metadata": {},
   "outputs": [],
   "source": [
    "# Funzione per binarizzare un singolo Dataframe\n",
    "def binarize_single_df(df):\n",
    "\n",
    "    # Conto quanti elementi hanno categoria not_cyberbullying e calcolo quanti elementi devo selezionare per categoria,\n",
    "    # per ottenere un risultato bilanciato\n",
    "    count_negative = (df['cyberbullying_type'].value_counts())['not_cyberbullying']\n",
    "    count_positive_single = count_negative // 4\n",
    "\n",
    "    # Seleziono solo i primi 'count_positive_single' elementi per ogni categoria\n",
    "    print(Fore.BLUE + Style.BRIGHT + f\"\\n Inizialmente sono presenti {count_negative} elementi negativi e {len(df) - count_negative} elementi positivi.\" + Style.RESET_ALL)\n",
    "    df_religion = df[df['cyberbullying_type'] == 'religion'].head(count_positive_single)\n",
    "    df_age = df[df['cyberbullying_type'] == 'age'].head(count_positive_single)\n",
    "    df_ethnicity = df[df['cyberbullying_type'] == 'ethnicity'].head(count_positive_single)\n",
    "    df_gender = df[df['cyberbullying_type'] == 'gender'].head(count_positive_single)\n",
    "    \n",
    "    df_negative = df[df['cyberbullying_type'] == 'not_cyberbullying']\n",
    "    \n",
    "    # Uniamo i due Dataframe filtrati\n",
    "    final_df = pd.concat([df_negative, df_religion, df_age, df_ethnicity, df_gender])\n",
    "\n",
    "    # Applica la funzione ai dataset di train ed evaluation\n",
    "    final_df['cyberbullying_type'] = final_df['cyberbullying_type'].apply(lambda x: 0 if x == 'not_cyberbullying' else 1)\n",
    "\n",
    "    return final_df\n",
    "\n",
    "# Funzione per binarizzare tutti e 3 i Dataframe\n",
    "def binarize_dfs(train_df_url, eval_df_url, test_df_url):\n",
    "    train_df = pd.read_csv(train_df_url)\n",
    "    eval_df = pd.read_csv(eval_df_url)\n",
    "    test_df = pd.read_csv(test_df_url)\n",
    "\n",
    "    print(\"Train set: \", end=\"\"); train_set_binarized = binarize_single_df(train_df)\n",
    "    print(\"Evaluation set: \", end=\"\"); evaluation_set_binarized = binarize_single_df(eval_df)\n",
    "    print(\"Test set: \", end=\"\"); test_set_binarized = binarize_single_df(test_df)\n",
    "\n",
    "    file_name_suff = \"_binary.csv\"\n",
    "    train_set_binarized.to_csv(train_df_url.split(\".csv\")[0] + file_name_suff, index=False)\n",
    "    evaluation_set_binarized.to_csv(eval_df_url.split(\".csv\")[0] + file_name_suff, index=False)\n",
    "    test_set_binarized.to_csv(test_df_url.split(\".csv\")[0] + file_name_suff, index=False)\n",
    "    \n",
    "    return train_set_binarized, evaluation_set_binarized, test_set_binarized"
   ]
  },
  {
   "cell_type": "code",
   "execution_count": 3,
   "id": "46108956-4ef2-4cf8-8ca6-6b6466bbf05c",
   "metadata": {},
   "outputs": [
    {
     "name": "stdout",
     "output_type": "stream",
     "text": [
      "Train set: \u001b[34m\u001b[1m\n",
      " Inizialmente sono presenti 4952 elementi negativi e 20203 elementi positivi.\u001b[0m\n",
      "Evaluation set: \u001b[34m\u001b[1m\n",
      " Inizialmente sono presenti 1246 elementi negativi e 5079 elementi positivi.\u001b[0m\n",
      "Test set: \u001b[34m\u001b[1m\n",
      " Inizialmente sono presenti 1338 elementi negativi e 6181 elementi positivi.\u001b[0m\n"
     ]
    }
   ],
   "source": [
    "train_set_binarized_BERT, evaluation_set_binarized_BERT, test_set_binarized_BERT = binarize_dfs('../../data/New dataset/BERT/train_tweets_Transformers_new.csv',\n",
    "                                                                                                '../../data/New dataset/BERT/eval_tweets_Transformers_new.csv',\n",
    "                                                                                                '../../data/New dataset/BERT/test_tweets_Transformers_new.csv')"
   ]
  },
  {
   "cell_type": "code",
   "execution_count": 4,
   "id": "afdc9aad-a7fd-4601-ac34-05f728f2394c",
   "metadata": {},
   "outputs": [
    {
     "name": "stdout",
     "output_type": "stream",
     "text": [
      "Train set: \u001b[34m\u001b[1m\n",
      " Inizialmente sono presenti 4162 elementi negativi e 19627 elementi positivi.\u001b[0m\n",
      "Evaluation set: \u001b[34m\u001b[1m\n",
      " Inizialmente sono presenti 1066 elementi negativi e 4962 elementi positivi.\u001b[0m\n",
      "Test set: \u001b[34m\u001b[1m\n",
      " Inizialmente sono presenti 1338 elementi negativi e 6181 elementi positivi.\u001b[0m\n"
     ]
    }
   ],
   "source": [
    "train_set_binarized_LSTM, evaluation_set_binarized_LSTM, test_set_binarized_LSTM = binarize_dfs('../../data/New dataset/LSTM/preprocessing/train_tweets_LSTM_pre_new.csv',\n",
    "                                                                                                '../../data/New dataset/LSTM/preprocessing/eval_tweets_LSTM_pre_new.csv',\n",
    "                                                                                                '../../data/New dataset/LSTM/preprocessing/test_tweets_LSTM_p_new.csv')"
   ]
  },
  {
   "cell_type": "code",
   "execution_count": 5,
   "id": "5c992a4f-4e57-4fca-bf24-8a3a76dbe239",
   "metadata": {},
   "outputs": [
    {
     "name": "stdout",
     "output_type": "stream",
     "text": [
      "Train set: \u001b[34m\u001b[1m\n",
      " Inizialmente sono presenti 4319 elementi negativi e 19846 elementi positivi.\u001b[0m\n",
      "Evaluation set: \u001b[34m\u001b[1m\n",
      " Inizialmente sono presenti 1101 elementi negativi e 5000 elementi positivi.\u001b[0m\n",
      "Test set: \u001b[34m\u001b[1m\n",
      " Inizialmente sono presenti 1338 elementi negativi e 6181 elementi positivi.\u001b[0m\n"
     ]
    }
   ],
   "source": [
    "train_set_binarized_NB, evaluation_set_binarized_NB, test_set_binarized_NB = binarize_dfs('../../data/New dataset/Naive Bayes/train_tweets_Naive_Bayes_new.csv',\n",
    "                                                                                          '../../data/New dataset/Naive Bayes/eval_tweets_Naive_Bayes_new.csv',\n",
    "                                                                                          '../../data/New dataset/Naive Bayes/test_tweets_Naive_Bayes_new.csv')"
   ]
  },
  {
   "cell_type": "markdown",
   "id": "b5fc2104-f1dd-4f52-bbb6-e5e47f1e6fa3",
   "metadata": {},
   "source": [
    "### Test set"
   ]
  },
  {
   "cell_type": "code",
   "execution_count": 6,
   "id": "78b607c8-1300-4bde-ae86-779c3a30b6df",
   "metadata": {},
   "outputs": [
    {
     "name": "stdout",
     "output_type": "stream",
     "text": [
      "cyberbullying_type\n",
      "0    1338\n",
      "1    1336\n",
      "Name: count, dtype: int64\n",
      "cyberbullying_type\n",
      "0    1338\n",
      "1    1336\n",
      "Name: count, dtype: int64\n",
      "cyberbullying_type\n",
      "0    1338\n",
      "1    1336\n",
      "Name: count, dtype: int64\n"
     ]
    }
   ],
   "source": [
    "print(test_set_binarized_BERT['cyberbullying_type'].value_counts())\n",
    "print(test_set_binarized_LSTM['cyberbullying_type'].value_counts())\n",
    "print(test_set_binarized_NB['cyberbullying_type'].value_counts())"
   ]
  },
  {
   "cell_type": "code",
   "execution_count": 7,
   "id": "3f677f8d-dead-4499-9ac0-04f6e8922cbe",
   "metadata": {},
   "outputs": [
    {
     "data": {
      "text/html": [
       "<div>\n",
       "<style scoped>\n",
       "    .dataframe tbody tr th:only-of-type {\n",
       "        vertical-align: middle;\n",
       "    }\n",
       "\n",
       "    .dataframe tbody tr th {\n",
       "        vertical-align: top;\n",
       "    }\n",
       "\n",
       "    .dataframe thead th {\n",
       "        text-align: right;\n",
       "    }\n",
       "</style>\n",
       "<table border=\"1\" class=\"dataframe\">\n",
       "  <thead>\n",
       "    <tr style=\"text-align: right;\">\n",
       "      <th></th>\n",
       "      <th>tweet_text</th>\n",
       "      <th>cyberbullying_type</th>\n",
       "    </tr>\n",
       "  </thead>\n",
       "  <tbody>\n",
       "    <tr>\n",
       "      <th>2</th>\n",
       "      <td>it's nikki's hot pot but she has katie make th...</td>\n",
       "      <td>0</td>\n",
       "    </tr>\n",
       "    <tr>\n",
       "      <th>3</th>\n",
       "      <td>omg we still have 15 minutes</td>\n",
       "      <td>0</td>\n",
       "    </tr>\n",
       "    <tr>\n",
       "      <th>4</th>\n",
       "      <td>haters always will be haters.. don't care abou...</td>\n",
       "      <td>0</td>\n",
       "    </tr>\n",
       "    <tr>\n",
       "      <th>5</th>\n",
       "      <td>akhir2 ini disekolah jadi serba salah, di bull...</td>\n",
       "      <td>0</td>\n",
       "    </tr>\n",
       "    <tr>\n",
       "      <th>18</th>\n",
       "      <td>smh her mother sent her to school with unfinis...</td>\n",
       "      <td>0</td>\n",
       "    </tr>\n",
       "  </tbody>\n",
       "</table>\n",
       "</div>"
      ],
      "text/plain": [
       "                                           tweet_text  cyberbullying_type\n",
       "2   it's nikki's hot pot but she has katie make th...                   0\n",
       "3                       omg we still have 15 minutes                    0\n",
       "4   haters always will be haters.. don't care abou...                   0\n",
       "5   akhir2 ini disekolah jadi serba salah, di bull...                   0\n",
       "18  smh her mother sent her to school with unfinis...                   0"
      ]
     },
     "execution_count": 7,
     "metadata": {},
     "output_type": "execute_result"
    }
   ],
   "source": [
    "test_set_binarized_BERT.head()"
   ]
  },
  {
   "cell_type": "code",
   "execution_count": 8,
   "id": "bef69805-8cd3-483f-bc73-2d5ced0f4c33",
   "metadata": {},
   "outputs": [
    {
     "data": {
      "text/html": [
       "<div>\n",
       "<style scoped>\n",
       "    .dataframe tbody tr th:only-of-type {\n",
       "        vertical-align: middle;\n",
       "    }\n",
       "\n",
       "    .dataframe tbody tr th {\n",
       "        vertical-align: top;\n",
       "    }\n",
       "\n",
       "    .dataframe thead th {\n",
       "        text-align: right;\n",
       "    }\n",
       "</style>\n",
       "<table border=\"1\" class=\"dataframe\">\n",
       "  <thead>\n",
       "    <tr style=\"text-align: right;\">\n",
       "      <th></th>\n",
       "      <th>tweet_text</th>\n",
       "      <th>cyberbullying_type</th>\n",
       "    </tr>\n",
       "  </thead>\n",
       "  <tbody>\n",
       "    <tr>\n",
       "      <th>2</th>\n",
       "      <td>nick s hot pot hate make</td>\n",
       "      <td>0</td>\n",
       "    </tr>\n",
       "    <tr>\n",
       "      <th>3</th>\n",
       "      <td>om still 15 minutes</td>\n",
       "      <td>0</td>\n",
       "    </tr>\n",
       "    <tr>\n",
       "      <th>4</th>\n",
       "      <td>always care live moment happy baby never forget</td>\n",
       "      <td>0</td>\n",
       "    </tr>\n",
       "    <tr>\n",
       "      <th>5</th>\n",
       "      <td>awhirl in jade sera salad salah i di bully mul...</td>\n",
       "      <td>0</td>\n",
       "    </tr>\n",
       "    <tr>\n",
       "      <th>18</th>\n",
       "      <td>sh mother sent school unfinished micro</td>\n",
       "      <td>0</td>\n",
       "    </tr>\n",
       "  </tbody>\n",
       "</table>\n",
       "</div>"
      ],
      "text/plain": [
       "                                           tweet_text  cyberbullying_type\n",
       "2                            nick s hot pot hate make                   0\n",
       "3                                 om still 15 minutes                   0\n",
       "4     always care live moment happy baby never forget                   0\n",
       "5   awhirl in jade sera salad salah i di bully mul...                   0\n",
       "18             sh mother sent school unfinished micro                   0"
      ]
     },
     "execution_count": 8,
     "metadata": {},
     "output_type": "execute_result"
    }
   ],
   "source": [
    "test_set_binarized_LSTM.head()"
   ]
  },
  {
   "cell_type": "code",
   "execution_count": 9,
   "id": "bff4ddc0-2d16-4b06-90ee-c212d0b8dae2",
   "metadata": {},
   "outputs": [
    {
     "data": {
      "text/html": [
       "<div>\n",
       "<style scoped>\n",
       "    .dataframe tbody tr th:only-of-type {\n",
       "        vertical-align: middle;\n",
       "    }\n",
       "\n",
       "    .dataframe tbody tr th {\n",
       "        vertical-align: top;\n",
       "    }\n",
       "\n",
       "    .dataframe thead th {\n",
       "        text-align: right;\n",
       "    }\n",
       "</style>\n",
       "<table border=\"1\" class=\"dataframe\">\n",
       "  <thead>\n",
       "    <tr style=\"text-align: right;\">\n",
       "      <th></th>\n",
       "      <th>tweet_text</th>\n",
       "      <th>cyberbullying_type</th>\n",
       "    </tr>\n",
       "  </thead>\n",
       "  <tbody>\n",
       "    <tr>\n",
       "      <th>2</th>\n",
       "      <td>nikki s hot pot katie make sausage</td>\n",
       "      <td>0</td>\n",
       "    </tr>\n",
       "    <tr>\n",
       "      <th>3</th>\n",
       "      <td>omg still 15 minute</td>\n",
       "      <td>0</td>\n",
       "    </tr>\n",
       "    <tr>\n",
       "      <th>4</th>\n",
       "      <td>hater always hater care live moment happy baby...</td>\n",
       "      <td>0</td>\n",
       "    </tr>\n",
       "    <tr>\n",
       "      <th>5</th>\n",
       "      <td>akhir2 ini disekolah jadi serba salah di bully...</td>\n",
       "      <td>0</td>\n",
       "    </tr>\n",
       "    <tr>\n",
       "      <th>18</th>\n",
       "      <td>smh mother send school unfinished micro braid</td>\n",
       "      <td>0</td>\n",
       "    </tr>\n",
       "  </tbody>\n",
       "</table>\n",
       "</div>"
      ],
      "text/plain": [
       "                                           tweet_text  cyberbullying_type\n",
       "2                  nikki s hot pot katie make sausage                   0\n",
       "3                                 omg still 15 minute                   0\n",
       "4   hater always hater care live moment happy baby...                   0\n",
       "5   akhir2 ini disekolah jadi serba salah di bully...                   0\n",
       "18      smh mother send school unfinished micro braid                   0"
      ]
     },
     "execution_count": 9,
     "metadata": {},
     "output_type": "execute_result"
    }
   ],
   "source": [
    "test_set_binarized_NB.head()"
   ]
  },
  {
   "cell_type": "markdown",
   "id": "885acd4f-cd00-49f3-8391-fef7d959c1e2",
   "metadata": {},
   "source": [
    "### Train set"
   ]
  },
  {
   "cell_type": "code",
   "execution_count": 10,
   "id": "0dda0b2c-d938-404f-8b29-f60e00978851",
   "metadata": {},
   "outputs": [
    {
     "name": "stdout",
     "output_type": "stream",
     "text": [
      "cyberbullying_type\n",
      "0    4952\n",
      "1    4952\n",
      "Name: count, dtype: int64\n",
      "cyberbullying_type\n",
      "0    4162\n",
      "1    4160\n",
      "Name: count, dtype: int64\n",
      "cyberbullying_type\n",
      "0    4319\n",
      "1    4316\n",
      "Name: count, dtype: int64\n"
     ]
    }
   ],
   "source": [
    "print(train_set_binarized_BERT['cyberbullying_type'].value_counts())\n",
    "print(train_set_binarized_LSTM['cyberbullying_type'].value_counts())\n",
    "print(train_set_binarized_NB['cyberbullying_type'].value_counts())"
   ]
  },
  {
   "cell_type": "code",
   "execution_count": 11,
   "id": "34ff392a-2e96-4932-8371-e9a027a2460e",
   "metadata": {},
   "outputs": [
    {
     "data": {
      "text/html": [
       "<div>\n",
       "<style scoped>\n",
       "    .dataframe tbody tr th:only-of-type {\n",
       "        vertical-align: middle;\n",
       "    }\n",
       "\n",
       "    .dataframe tbody tr th {\n",
       "        vertical-align: top;\n",
       "    }\n",
       "\n",
       "    .dataframe thead th {\n",
       "        text-align: right;\n",
       "    }\n",
       "</style>\n",
       "<table border=\"1\" class=\"dataframe\">\n",
       "  <thead>\n",
       "    <tr style=\"text-align: right;\">\n",
       "      <th></th>\n",
       "      <th>tweet_text</th>\n",
       "      <th>cyberbullying_type</th>\n",
       "    </tr>\n",
       "  </thead>\n",
       "  <tbody>\n",
       "    <tr>\n",
       "      <th>3</th>\n",
       "      <td>nah dont need explain hope ur well how r u</td>\n",
       "      <td>0</td>\n",
       "    </tr>\n",
       "    <tr>\n",
       "      <th>4</th>\n",
       "      <td>hahahaha</td>\n",
       "      <td>0</td>\n",
       "    </tr>\n",
       "    <tr>\n",
       "      <th>5</th>\n",
       "      <td>kkkkkkkkkkk eu e a mamae zombando com o que a ...</td>\n",
       "      <td>0</td>\n",
       "    </tr>\n",
       "    <tr>\n",
       "      <th>11</th>\n",
       "      <td>which was my first choice.</td>\n",
       "      <td>0</td>\n",
       "    </tr>\n",
       "    <tr>\n",
       "      <th>14</th>\n",
       "      <td>'bezza?' 'omg this is bezza' 'becca?' this is ...</td>\n",
       "      <td>0</td>\n",
       "    </tr>\n",
       "  </tbody>\n",
       "</table>\n",
       "</div>"
      ],
      "text/plain": [
       "                                           tweet_text  cyberbullying_type\n",
       "3          nah dont need explain hope ur well how r u                   0\n",
       "4                                            hahahaha                   0\n",
       "5   kkkkkkkkkkk eu e a mamae zombando com o que a ...                   0\n",
       "11                         which was my first choice.                   0\n",
       "14  'bezza?' 'omg this is bezza' 'becca?' this is ...                   0"
      ]
     },
     "execution_count": 11,
     "metadata": {},
     "output_type": "execute_result"
    }
   ],
   "source": [
    "train_set_binarized_BERT.head()"
   ]
  },
  {
   "cell_type": "code",
   "execution_count": 12,
   "id": "8f8aad0f-76d9-45f2-a0e3-093f978a1e0a",
   "metadata": {},
   "outputs": [
    {
     "data": {
      "text/html": [
       "<div>\n",
       "<style scoped>\n",
       "    .dataframe tbody tr th:only-of-type {\n",
       "        vertical-align: middle;\n",
       "    }\n",
       "\n",
       "    .dataframe tbody tr th {\n",
       "        vertical-align: top;\n",
       "    }\n",
       "\n",
       "    .dataframe thead th {\n",
       "        text-align: right;\n",
       "    }\n",
       "</style>\n",
       "<table border=\"1\" class=\"dataframe\">\n",
       "  <thead>\n",
       "    <tr style=\"text-align: right;\">\n",
       "      <th></th>\n",
       "      <th>tweet_text</th>\n",
       "      <th>cyberbullying_type</th>\n",
       "    </tr>\n",
       "  </thead>\n",
       "  <tbody>\n",
       "    <tr>\n",
       "      <th>3</th>\n",
       "      <td>need explain hope well r</td>\n",
       "      <td>0</td>\n",
       "    </tr>\n",
       "    <tr>\n",
       "      <th>4</th>\n",
       "      <td>ka e eu e mama commando come due muller fall b...</td>\n",
       "      <td>0</td>\n",
       "    </tr>\n",
       "    <tr>\n",
       "      <th>12</th>\n",
       "      <td>pizza om pizza mecca om</td>\n",
       "      <td>0</td>\n",
       "    </tr>\n",
       "    <tr>\n",
       "      <th>25</th>\n",
       "      <td>would pay money see feline mother</td>\n",
       "      <td>0</td>\n",
       "    </tr>\n",
       "    <tr>\n",
       "      <th>31</th>\n",
       "      <td>yep plenty barney council anything else honest</td>\n",
       "      <td>0</td>\n",
       "    </tr>\n",
       "  </tbody>\n",
       "</table>\n",
       "</div>"
      ],
      "text/plain": [
       "                                           tweet_text  cyberbullying_type\n",
       "3                            need explain hope well r                   0\n",
       "4   ka e eu e mama commando come due muller fall b...                   0\n",
       "12                            pizza om pizza mecca om                   0\n",
       "25                  would pay money see feline mother                   0\n",
       "31     yep plenty barney council anything else honest                   0"
      ]
     },
     "execution_count": 12,
     "metadata": {},
     "output_type": "execute_result"
    }
   ],
   "source": [
    "train_set_binarized_LSTM.head()"
   ]
  },
  {
   "cell_type": "code",
   "execution_count": 13,
   "id": "861107df-4496-41b6-8c28-a3f8083f9b37",
   "metadata": {},
   "outputs": [
    {
     "data": {
      "text/html": [
       "<div>\n",
       "<style scoped>\n",
       "    .dataframe tbody tr th:only-of-type {\n",
       "        vertical-align: middle;\n",
       "    }\n",
       "\n",
       "    .dataframe tbody tr th {\n",
       "        vertical-align: top;\n",
       "    }\n",
       "\n",
       "    .dataframe thead th {\n",
       "        text-align: right;\n",
       "    }\n",
       "</style>\n",
       "<table border=\"1\" class=\"dataframe\">\n",
       "  <thead>\n",
       "    <tr style=\"text-align: right;\">\n",
       "      <th></th>\n",
       "      <th>tweet_text</th>\n",
       "      <th>cyberbullying_type</th>\n",
       "    </tr>\n",
       "  </thead>\n",
       "  <tbody>\n",
       "    <tr>\n",
       "      <th>3</th>\n",
       "      <td>nah need explain hope well r</td>\n",
       "      <td>0</td>\n",
       "    </tr>\n",
       "    <tr>\n",
       "      <th>4</th>\n",
       "      <td>kk eu e mamae zombando com que mulher fala pra...</td>\n",
       "      <td>0</td>\n",
       "    </tr>\n",
       "    <tr>\n",
       "      <th>12</th>\n",
       "      <td>bezza omg bezza becca omg bully</td>\n",
       "      <td>0</td>\n",
       "    </tr>\n",
       "    <tr>\n",
       "      <th>25</th>\n",
       "      <td>would pay money see celine mother eliminate</td>\n",
       "      <td>0</td>\n",
       "    </tr>\n",
       "    <tr>\n",
       "      <th>31</th>\n",
       "      <td>yep plenty clichs barnet council expect anythi...</td>\n",
       "      <td>0</td>\n",
       "    </tr>\n",
       "  </tbody>\n",
       "</table>\n",
       "</div>"
      ],
      "text/plain": [
       "                                           tweet_text  cyberbullying_type\n",
       "3                        nah need explain hope well r                   0\n",
       "4   kk eu e mamae zombando com que mulher fala pra...                   0\n",
       "12                    bezza omg bezza becca omg bully                   0\n",
       "25        would pay money see celine mother eliminate                   0\n",
       "31  yep plenty clichs barnet council expect anythi...                   0"
      ]
     },
     "execution_count": 13,
     "metadata": {},
     "output_type": "execute_result"
    }
   ],
   "source": [
    "train_set_binarized_NB.head()"
   ]
  },
  {
   "cell_type": "markdown",
   "id": "bc359e68-b482-4cab-88c5-29ad3d33a0c9",
   "metadata": {},
   "source": [
    "### Evaluation set"
   ]
  },
  {
   "cell_type": "code",
   "execution_count": 14,
   "id": "5a3c47f8-6a65-4c81-ba43-c69bba97597b",
   "metadata": {},
   "outputs": [
    {
     "name": "stdout",
     "output_type": "stream",
     "text": [
      "cyberbullying_type\n",
      "0    1246\n",
      "1    1244\n",
      "Name: count, dtype: int64\n",
      "cyberbullying_type\n",
      "0    1066\n",
      "1    1064\n",
      "Name: count, dtype: int64\n",
      "cyberbullying_type\n",
      "0    1101\n",
      "1    1100\n",
      "Name: count, dtype: int64\n"
     ]
    }
   ],
   "source": [
    "print(evaluation_set_binarized_BERT['cyberbullying_type'].value_counts())\n",
    "print(evaluation_set_binarized_LSTM['cyberbullying_type'].value_counts())\n",
    "print(evaluation_set_binarized_NB['cyberbullying_type'].value_counts())"
   ]
  },
  {
   "cell_type": "code",
   "execution_count": 15,
   "id": "0cf5dcf3-7c22-44fe-8628-c12afee0b565",
   "metadata": {},
   "outputs": [
    {
     "data": {
      "text/html": [
       "<div>\n",
       "<style scoped>\n",
       "    .dataframe tbody tr th:only-of-type {\n",
       "        vertical-align: middle;\n",
       "    }\n",
       "\n",
       "    .dataframe tbody tr th {\n",
       "        vertical-align: top;\n",
       "    }\n",
       "\n",
       "    .dataframe thead th {\n",
       "        text-align: right;\n",
       "    }\n",
       "</style>\n",
       "<table border=\"1\" class=\"dataframe\">\n",
       "  <thead>\n",
       "    <tr style=\"text-align: right;\">\n",
       "      <th></th>\n",
       "      <th>tweet_text</th>\n",
       "      <th>cyberbullying_type</th>\n",
       "    </tr>\n",
       "  </thead>\n",
       "  <tbody>\n",
       "    <tr>\n",
       "      <th>0</th>\n",
       "      <td>hey, do you have a good way to consume multipl...</td>\n",
       "      <td>0</td>\n",
       "    </tr>\n",
       "    <tr>\n",
       "      <th>1</th>\n",
       "      <td>argg need sleep xx fuckin school today and foc...</td>\n",
       "      <td>0</td>\n",
       "    </tr>\n",
       "    <tr>\n",
       "      <th>6</th>\n",
       "      <td>now these are the texts i wanna see gt;gt;gt;g...</td>\n",
       "      <td>0</td>\n",
       "    </tr>\n",
       "    <tr>\n",
       "      <th>7</th>\n",
       "      <td>mkr maybe dan ; dennis will have a cook-off to...</td>\n",
       "      <td>0</td>\n",
       "    </tr>\n",
       "    <tr>\n",
       "      <th>11</th>\n",
       "      <td>~10% of the posts i've read on facebook today ...</td>\n",
       "      <td>0</td>\n",
       "    </tr>\n",
       "  </tbody>\n",
       "</table>\n",
       "</div>"
      ],
      "text/plain": [
       "                                           tweet_text  cyberbullying_type\n",
       "0   hey, do you have a good way to consume multipl...                   0\n",
       "1   argg need sleep xx fuckin school today and foc...                   0\n",
       "6   now these are the texts i wanna see gt;gt;gt;g...                   0\n",
       "7   mkr maybe dan ; dennis will have a cook-off to...                   0\n",
       "11  ~10% of the posts i've read on facebook today ...                   0"
      ]
     },
     "execution_count": 15,
     "metadata": {},
     "output_type": "execute_result"
    }
   ],
   "source": [
    "evaluation_set_binarized_BERT.head()"
   ]
  },
  {
   "cell_type": "code",
   "execution_count": 16,
   "id": "8f3b8e5a-07a7-4637-919d-35111fc81a5b",
   "metadata": {},
   "outputs": [
    {
     "data": {
      "text/html": [
       "<div>\n",
       "<style scoped>\n",
       "    .dataframe tbody tr th:only-of-type {\n",
       "        vertical-align: middle;\n",
       "    }\n",
       "\n",
       "    .dataframe tbody tr th {\n",
       "        vertical-align: top;\n",
       "    }\n",
       "\n",
       "    .dataframe thead th {\n",
       "        text-align: right;\n",
       "    }\n",
       "</style>\n",
       "<table border=\"1\" class=\"dataframe\">\n",
       "  <thead>\n",
       "    <tr style=\"text-align: right;\">\n",
       "      <th></th>\n",
       "      <th>tweet_text</th>\n",
       "      <th>cyberbullying_type</th>\n",
       "    </tr>\n",
       "  </thead>\n",
       "  <tbody>\n",
       "    <tr>\n",
       "      <th>0</th>\n",
       "      <td>hey good way consume multiple son dumps single...</td>\n",
       "      <td>0</td>\n",
       "    </tr>\n",
       "    <tr>\n",
       "      <th>1</th>\n",
       "      <td>are need sleep ex xx fucking school today focu...</td>\n",
       "      <td>0</td>\n",
       "    </tr>\n",
       "    <tr>\n",
       "      <th>5</th>\n",
       "      <td>want see it it it it it it it it it it it</td>\n",
       "      <td>0</td>\n",
       "    </tr>\n",
       "    <tr>\n",
       "      <th>6</th>\n",
       "      <td>maybe can dan tennis cookout see crisis divorce</td>\n",
       "      <td>0</td>\n",
       "    </tr>\n",
       "    <tr>\n",
       "      <th>10</th>\n",
       "      <td>10 read casebook today people looking work tho...</td>\n",
       "      <td>0</td>\n",
       "    </tr>\n",
       "  </tbody>\n",
       "</table>\n",
       "</div>"
      ],
      "text/plain": [
       "                                           tweet_text  cyberbullying_type\n",
       "0   hey good way consume multiple son dumps single...                   0\n",
       "1   are need sleep ex xx fucking school today focu...                   0\n",
       "5           want see it it it it it it it it it it it                   0\n",
       "6     maybe can dan tennis cookout see crisis divorce                   0\n",
       "10  10 read casebook today people looking work tho...                   0"
      ]
     },
     "execution_count": 16,
     "metadata": {},
     "output_type": "execute_result"
    }
   ],
   "source": [
    "evaluation_set_binarized_LSTM.head()"
   ]
  },
  {
   "cell_type": "code",
   "execution_count": 17,
   "id": "e9fd6f59-33df-49ca-81d7-ca27dcf59b42",
   "metadata": {},
   "outputs": [
    {
     "data": {
      "text/html": [
       "<div>\n",
       "<style scoped>\n",
       "    .dataframe tbody tr th:only-of-type {\n",
       "        vertical-align: middle;\n",
       "    }\n",
       "\n",
       "    .dataframe tbody tr th {\n",
       "        vertical-align: top;\n",
       "    }\n",
       "\n",
       "    .dataframe thead th {\n",
       "        text-align: right;\n",
       "    }\n",
       "</style>\n",
       "<table border=\"1\" class=\"dataframe\">\n",
       "  <thead>\n",
       "    <tr style=\"text-align: right;\">\n",
       "      <th></th>\n",
       "      <th>tweet_text</th>\n",
       "      <th>cyberbullying_type</th>\n",
       "    </tr>\n",
       "  </thead>\n",
       "  <tbody>\n",
       "    <tr>\n",
       "      <th>0</th>\n",
       "      <td>hey good way consume multiple json dump single...</td>\n",
       "      <td>0</td>\n",
       "    </tr>\n",
       "    <tr>\n",
       "      <th>1</th>\n",
       "      <td>argg need sleep xx fuckin school today focus d...</td>\n",
       "      <td>0</td>\n",
       "    </tr>\n",
       "    <tr>\n",
       "      <th>5</th>\n",
       "      <td>text want see gt gt gt gt gt gt gt gt gt gt gt</td>\n",
       "      <td>0</td>\n",
       "    </tr>\n",
       "    <tr>\n",
       "      <th>6</th>\n",
       "      <td>maybe dan dennis cookoff see win midlife crisi...</td>\n",
       "      <td>0</td>\n",
       "    </tr>\n",
       "    <tr>\n",
       "      <th>10</th>\n",
       "      <td>10 post read facebook today people look work j...</td>\n",
       "      <td>0</td>\n",
       "    </tr>\n",
       "  </tbody>\n",
       "</table>\n",
       "</div>"
      ],
      "text/plain": [
       "                                           tweet_text  cyberbullying_type\n",
       "0   hey good way consume multiple json dump single...                   0\n",
       "1   argg need sleep xx fuckin school today focus d...                   0\n",
       "5      text want see gt gt gt gt gt gt gt gt gt gt gt                   0\n",
       "6   maybe dan dennis cookoff see win midlife crisi...                   0\n",
       "10  10 post read facebook today people look work j...                   0"
      ]
     },
     "execution_count": 17,
     "metadata": {},
     "output_type": "execute_result"
    }
   ],
   "source": [
    "evaluation_set_binarized_NB.head()"
   ]
  }
 ],
 "metadata": {
  "kernelspec": {
   "display_name": "Python 3 (ipykernel)",
   "language": "python",
   "name": "python3"
  },
  "language_info": {
   "codemirror_mode": {
    "name": "ipython",
    "version": 3
   },
   "file_extension": ".py",
   "mimetype": "text/x-python",
   "name": "python",
   "nbconvert_exporter": "python",
   "pygments_lexer": "ipython3",
   "version": "3.11.5"
  }
 },
 "nbformat": 4,
 "nbformat_minor": 5
}
