{
 "cells": [
  {
   "cell_type": "code",
   "execution_count": 9,
   "metadata": {},
   "outputs": [],
   "source": [
    "import tensorflow as tf\n",
    "from tensorflow import keras\n",
    "from scipy.stats import uniform\n",
    "from keras.models import Sequential\n",
    "from keras.layers import Embedding, Dropout, LSTM, Dense, Attention, Bidirectional\n",
    "from sklearn.model_selection import train_test_split\n",
    "from keras.preprocessing.sequence import pad_sequences\n",
    "from sklearn.preprocessing import LabelEncoder\n",
    "from joblib import dump, load\n",
    "from scikeras.wrappers import KerasClassifier\n",
    "from keras.callbacks import EarlyStopping\n",
    "from keras import regularizers\n",
    "from sklearn.model_selection import  RandomizedSearchCV\n",
    "from collections import Counter\n",
    "import numpy as np\n",
    "import pandas as pd\n",
    "from keras.preprocessing.text import Tokenizer\n",
    "from keras.layers import Layer\n",
    "from keras import backend as K"
   ]
  },
  {
   "attachments": {},
   "cell_type": "markdown",
   "metadata": {},
   "source": [
    "## Definitions: Attention, early_stopping, model"
   ]
  },
  {
   "cell_type": "code",
   "execution_count": 10,
   "metadata": {},
   "outputs": [],
   "source": [
    "# define attention layer\n",
    "class AttentionLayer(Layer):\n",
    "    def __init__(self, **kwargs):\n",
    "        super(AttentionLayer, self).__init__(**kwargs)\n",
    "\n",
    "    def build(self, input_shape):\n",
    "        # Create a trainable weight variable for this layer.\n",
    "        self.W = self.add_weight(name='attention_weights', \n",
    "                                 shape=(input_shape[-1], 1),\n",
    "                                 initializer='uniform',\n",
    "                                 trainable=True)\n",
    "        super(AttentionLayer, self).build(input_shape)\n",
    "\n",
    "    def call(self, x):\n",
    "        # Compute attention scores\n",
    "        attention_scores = K.dot(x, self.W)\n",
    "        attention_scores = K.squeeze(attention_scores, axis=-1)\n",
    "        attention_weights = K.softmax(attention_scores)\n",
    "\n",
    "        # Apply attention weights\n",
    "        weighted_input = x * K.expand_dims(attention_weights)\n",
    "\n",
    "        # Sum over timesteps\n",
    "        context_vector = K.sum(weighted_input, axis=1)\n",
    "\n",
    "        return context_vector\n",
    "\n",
    "    def compute_output_shape(self, input_shape):\n",
    "        return input_shape[0], input_shape[-1]\n",
    "\n",
    "\n",
    "# Define early stopping\n",
    "early_stopping = EarlyStopping(monitor='val_loss', patience=4)\n",
    "\n",
    "# define the model\n",
    "def create_lstm_model(units, vocab_length, embedding_matrix, max_len, dropout, early_stopping):\n",
    "    lstm_model = Sequential()\n",
    "    embedding_layer = Embedding(vocab_length, 200, weights=[embedding_matrix], input_length=max_len, trainable=False)\n",
    "    lstm_model.add(embedding_layer)\n",
    "    lstm_model.add(Dropout(dropout))\n",
    "    lstm_model.add(Bidirectional(LSTM(units, return_sequences=True)))\n",
    "    lstm_model.add(AttentionLayer())\n",
    "    lstm_model.add(Dense(5, activation='softmax', kernel_initializer='ones'))\n",
    "    lstm_model.compile(optimizer='adam', loss=\"sparse_categorical_crossentropy\", metrics=['acc'])\n",
    "    return lstm_model"
   ]
  },
  {
   "attachments": {},
   "cell_type": "markdown",
   "metadata": {},
   "source": [
    "## Dataset loading and embeddings"
   ]
  },
  {
   "cell_type": "code",
   "execution_count": 11,
   "metadata": {},
   "outputs": [
    {
     "name": "stdout",
     "output_type": "stream",
     "text": [
      "Number of values greater than or equal to 35: 100\n",
      "31603\n",
      "8077\n"
     ]
    }
   ],
   "source": [
    "df = pd.read_csv('../../data/normalized_tweets.csv')\n",
    "df = df[df['cyberbullying_type'] != 'other_cyberbullying']\n",
    "# Reset index after filtering out the class\n",
    "df.reset_index(drop=True, inplace=True)\n",
    "\n",
    "### try different length based on tweet lentgh\n",
    "df['text_len'] = [len(text.split()) for text in df.tweet_text]\n",
    "avg_len = 35\n",
    "# checks on tweets length\n",
    "count = (df['text_len'] >= 35).sum()\n",
    "print(\"Number of values greater than or equal to 35:\", count)\n",
    "\n",
    "\n",
    "X, y = df[\"tweet_text\"], df[\"cyberbullying_type\"]\n",
    "\n",
    "# Initialize LabelEncoder\n",
    "label_encoder = LabelEncoder()\n",
    "\n",
    "# Fit and transform label encoder on the target variable\n",
    "y = label_encoder.fit_transform(y)\n",
    "\n",
    "x_train, x_test, y_train, y_test = train_test_split(X, y, test_size=0.2)\n",
    "#Each word in input used as a key, while a unique index is used as the value of the key \n",
    "word_tokenizer = Tokenizer()\n",
    "word_tokenizer.fit_on_texts(x_train)\n",
    "\n",
    "X_train = word_tokenizer.texts_to_sequences(x_train)\n",
    "X_test = word_tokenizer.texts_to_sequences(x_test)\n",
    "\n",
    "vocab_length = len(word_tokenizer.word_index) + 1\n",
    "\n",
    "print(vocab_length)\n",
    "\n",
    "####\n",
    "\n",
    "X_train = pad_sequences(X_train, padding = 'pre', maxlen = avg_len)\n",
    "X_test = pad_sequences(X_test, padding = 'pre', maxlen = avg_len)\n",
    "\n",
    "# Load GloVe word embeddings and create a dictionary that willl contain words as keys, and their corresponging embedding list as values. \n",
    "from numpy import asarray\n",
    "from numpy import zeros\n",
    "\n",
    "embeddings_dictionary = dict()\n",
    "glove_file = open('../../glove_embeddings/glove.twitter.27B.200d.txt', encoding=\"utf8\")\n",
    "\n",
    "for line in glove_file:\n",
    "    records = line.split()\n",
    "    word = records[0]\n",
    "    vector_dimensions = asarray(records[1:], dtype='float32')\n",
    "    embeddings_dictionary [word] = vector_dimensions\n",
    "glove_file.close()\n",
    "\n",
    "embedding_matrix = zeros((vocab_length, 200)) ## change if the dimention of embedding changes above\n",
    "i = 0\n",
    "for word, index in word_tokenizer.word_index.items():\n",
    "    embedding_vector = embeddings_dictionary.get(word)\n",
    "    if embedding_vector is not None:\n",
    "        embedding_matrix[index] = embedding_vector\n",
    "    else:\n",
    "        i = i + 1\n",
    "print(i)"
   ]
  },
  {
   "attachments": {},
   "cell_type": "markdown",
   "metadata": {},
   "source": [
    "## Print pad sequenced input "
   ]
  },
  {
   "cell_type": "code",
   "execution_count": 12,
   "metadata": {},
   "outputs": [
    {
     "data": {
      "text/plain": [
       "array([   0,    0,    0,    0,    0,    0,    0,    0,    0,    0,    0,\n",
       "          0,    0,   42, 9595,  606,   43,   23,  208, 1543,   49,  359,\n",
       "          2,    1,   54,  116,  737,  867,  256, 1925,   55,  538,   73,\n",
       "        341, 3103], dtype=int32)"
      ]
     },
     "execution_count": 12,
     "metadata": {},
     "output_type": "execute_result"
    }
   ],
   "source": [
    "X_train[1]"
   ]
  },
  {
   "attachments": {},
   "cell_type": "markdown",
   "metadata": {},
   "source": [
    "## Create model and GridSearcCV"
   ]
  },
  {
   "cell_type": "code",
   "execution_count": 13,
   "metadata": {},
   "outputs": [
    {
     "name": "stderr",
     "output_type": "stream",
     "text": [
      "/opt/anaconda3/envs/tf_env4/lib/python3.8/site-packages/sklearn/model_selection/_search.py:307: UserWarning: The total space of parameters 1 is smaller than n_iter=10. Running 1 iterations. For exhaustive searches, use GridSearchCV.\n",
      "  warnings.warn(\n"
     ]
    },
    {
     "name": "stdout",
     "output_type": "stream",
     "text": [
      "1205/1205 [==============================] - 8s 6ms/step - loss: 0.5312 - acc: 0.8365 - val_loss: 0.2907 - val_acc: 0.8985\n",
      "377/377 [==============================] - 1s 2ms/step\n",
      "1205/1205 [==============================] - 8s 6ms/step - loss: 0.5499 - acc: 0.8291 - val_loss: 0.2853 - val_acc: 0.9033\n",
      "377/377 [==============================] - 1s 2ms/step\n",
      "1205/1205 [==============================] - 8s 6ms/step - loss: 0.5170 - acc: 0.8314 - val_loss: 0.2721 - val_acc: 0.9064\n",
      "377/377 [==============================] - 1s 2ms/step\n",
      "1205/1205 [==============================] - 8s 6ms/step - loss: 0.5461 - acc: 0.8246 - val_loss: 0.2909 - val_acc: 0.8993\n",
      "377/377 [==============================] - 1s 2ms/step\n",
      "1205/1205 [==============================] - 8s 6ms/step - loss: 0.5477 - acc: 0.8295 - val_loss: 0.2953 - val_acc: 0.9074\n",
      "377/377 [==============================] - 1s 2ms/step\n",
      "1506/1506 [==============================] - 10s 6ms/step - loss: 0.4883 - acc: 0.8386 - val_loss: 0.2702 - val_acc: 0.9035\n"
     ]
    }
   ],
   "source": [
    "# create model \n",
    "model = KerasClassifier(model=create_lstm_model, early_stopping=early_stopping, metrics='accuracy', optimizer='adam', loss='sparse_categorical_crossentropy', validation_split=0.2, vocab_length=vocab_length, embedding_matrix=embedding_matrix, max_len=avg_len)\n",
    "\n",
    "# Define the grid search parameters\n",
    "param_grid = dict(\n",
    "                model__optimizer__learning_rate = [0.01, 0.1, 0.3],\n",
    "                model__dropout=[0.2, 0.5], epochs=[20],\n",
    "                model__units=[32, 64, 128], batch_size=[8, 16],\n",
    "                early_stopping=[early_stopping])\n",
    "\n",
    "# Perform grid search\n",
    "grid = RandomizedSearchCV(estimator=model, param_distributions=param_grid, refit=True, scoring='accuracy', cv=5)\n",
    "grid_result = grid.fit(X_train, y_train, callbacks=[early_stopping])"
   ]
  },
  {
   "attachments": {},
   "cell_type": "markdown",
   "metadata": {},
   "source": [
    "## Plot"
   ]
  },
  {
   "cell_type": "code",
   "execution_count": 15,
   "metadata": {},
   "outputs": [
    {
     "data": {
      "image/png": "[encoded data removed]",
      "text/plain": [
       "<Figure size 1200x600 with 4 Axes>"
      ]
     },
     "metadata": {},
     "output_type": "display_data"
    },
    {
     "name": "stdout",
     "output_type": "stream",
     "text": [
      "Best parameters: {'model__units': 32, 'model__optimizer__learning_rate': 0.01, 'model__dropout': 0.2, 'epochs': 1, 'early_stopping': <keras.src.callbacks.EarlyStopping object at 0x301b2ecd0>, 'batch_size': 16}\n",
      "Best mean test score: 0.9031657250564331\n"
     ]
    }
   ],
   "source": [
    "# Plotting\n",
    "import matplotlib.pyplot as plt\n",
    "\n",
    "# Access grid search results\n",
    "means = grid_result.cv_results_['mean_test_score']\n",
    "params = grid_result.cv_results_['params']\n",
    "\n",
    "# Extract parameter values for plotting\n",
    "learning_rates = [param['model__optimizer__learning_rate'] for param in params]\n",
    "dropouts = [param['model__dropout'] for param in params]\n",
    "units = [param['model__units'] for param in params]\n",
    "batch_sizes = [param['batch_size'] for param in params]\n",
    "\n",
    "# Plotting the mean test scores for different parameter combinations\n",
    "plt.figure(figsize=(12, 6))\n",
    "\n",
    "# Plot for learning rate vs mean test score\n",
    "plt.subplot(2, 2, 1)\n",
    "plt.scatter(learning_rates, means)\n",
    "plt.xlabel('Learning Rate')\n",
    "plt.ylabel('Mean Test Score')\n",
    "plt.title('Learning Rate vs Mean Test Score')\n",
    "\n",
    "# Plot for dropout vs mean test score\n",
    "plt.subplot(2, 2, 2)\n",
    "plt.scatter(dropouts, means)\n",
    "plt.xlabel('Dropout')\n",
    "plt.ylabel('Mean Test Score')\n",
    "plt.title('Dropout vs Mean Test Score')\n",
    "\n",
    "# Plot for units vs mean test score\n",
    "plt.subplot(2, 2, 3)\n",
    "plt.scatter(units, means)\n",
    "plt.xlabel('Units')\n",
    "plt.ylabel('Mean Test Score')\n",
    "plt.title('Units vs Mean Test Score')\n",
    "\n",
    "# Plot for batch size vs mean test score\n",
    "plt.subplot(2, 2, 4)\n",
    "plt.scatter(batch_sizes, means)\n",
    "plt.xlabel('Batch Size')\n",
    "plt.ylabel('Mean Test Score')\n",
    "plt.title('Batch Size vs Mean Test Score')\n",
    "\n",
    "plt.tight_layout()\n",
    "plt.show()\n",
    "\n",
    "# Print best parameters and best score\n",
    "print(\"Best parameters:\", grid_result.best_params_)\n",
    "print(\"Best mean test score:\", grid_result.best_score_)"
   ]
  },
  {
   "attachments": {},
   "cell_type": "markdown",
   "metadata": {},
   "source": [
    "## Save model"
   ]
  },
  {
   "cell_type": "code",
   "execution_count": null,
   "metadata": {},
   "outputs": [
    {
     "name": "stdout",
     "output_type": "stream",
     "text": [
      "INFO:tensorflow:Assets written to: ram://e29bff5162224e2cb2001604326e59f2/assets\n"
     ]
    },
    {
     "name": "stderr",
     "output_type": "stream",
     "text": [
      "INFO:tensorflow:Assets written to: ram://e29bff5162224e2cb2001604326e59f2/assets\n"
     ]
    },
    {
     "data": {
      "text/plain": [
       "['model_ES_093.joblib']"
      ]
     },
     "execution_count": 33,
     "metadata": {},
     "output_type": "execute_result"
    }
   ],
   "source": [
    "# save model\n",
    "estimator = grid_result.best_estimator_\n",
    "dump(estimator, \"BILSTM.joblib\")"
   ]
  }
 ],
 "metadata": {
  "kernelspec": {
   "display_name": "Python (tf_env4)",
   "language": "python",
   "name": "tf_env"
  },
  "language_info": {
   "codemirror_mode": {
    "name": "ipython",
    "version": 3
   },
   "file_extension": ".py",
   "mimetype": "text/x-python",
   "name": "python",
   "nbconvert_exporter": "python",
   "pygments_lexer": "ipython3",
   "version": "3.8.19 | packaged by conda-forge | (default, Mar 20 2024, 12:49:57) \n[Clang 16.0.6 ]"
  },
  "orig_nbformat": 4
 },
 "nbformat": 4,
 "nbformat_minor": 2
}
