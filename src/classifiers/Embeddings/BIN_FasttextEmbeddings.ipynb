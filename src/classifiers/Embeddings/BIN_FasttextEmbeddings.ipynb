{
 "cells": [
  {
   "cell_type": "markdown",
   "metadata": {},
   "source": [
    "# Binary FastText Embedding Creation"
   ]
  },
  {
   "cell_type": "code",
   "execution_count": 1,
   "metadata": {},
   "outputs": [],
   "source": [
    "import matplotlib.pyplot as plt\n",
    "from nltk.tokenize import word_tokenize\n",
    "from collections import Counter\n",
    "from nltk.tokenize import word_tokenize\n",
    "from gensim.models import FastText, KeyedVectors\n",
    "from gensim.models.word2vec import LineSentence\n",
    "import pandas as pd\n",
    "import numpy as np\n",
    "\n",
    "def corpus_analysis(corpus):\n",
    "    frequency = Counter()\n",
    "    with open(corpus, 'r', encoding='utf-8') as file:\n",
    "        for line in file:\n",
    "            tokens = word_tokenize(line)\n",
    "            frequency.update(tokens)\n",
    "\n",
    "    # Obtain frequency values and order them from higher to lower\n",
    "    freq_values = list(frequency.values())\n",
    "    freq_values_sorted = sorted(freq_values, reverse=True)\n",
    "\n",
    "    # Frequency distribution of words\n",
    "    plt.figure(figsize=(10, 6))\n",
    "    plt.loglog(freq_values_sorted)  \n",
    "    plt.title('Log-Log plot of words frequency')\n",
    "    plt.xlabel('Word rank')\n",
    "    plt.ylabel('Frequency')\n",
    "    plt.show()\n",
    "\n",
    "    # Count words only appearing once\n",
    "    words_with_one_occurrence = sum(1 for count in frequency.values() if count == 1)\n",
    "\n",
    "    # Count wordsa that appear twice\n",
    "    words_with_min_count_2 = sum(1 for count in frequency.values() if count >= 2)\n",
    "\n",
    "    print(\"Words that appear only once:\", words_with_one_occurrence)\n",
    "    print(\"Original vocabulary dimention:\", len(frequency))\n",
    "    print(\"Vocabulary dimention if we set min_count=2:\", words_with_min_count_2)\n",
    "    "
   ]
  },
  {
   "cell_type": "code",
   "execution_count": 2,
   "metadata": {},
   "outputs": [],
   "source": [
    "def fasttext_training(corpus, min_count = 1):\n",
    "\n",
    "    lee_data = LineSentence(corpus)\n",
    "    # The number of words decreases drastically if we change min_count even slightly (from 1 to 2, from 30k to 14k tokens)\n",
    "    # We leave it at 1 because we want to see how LSTM behaves if it has an embedding for each word (without OOV words), even if the quality of embeddings is lower\n",
    "    # Window = 5 (avg lenght of tweet is not much higher)\n",
    "    # sg = 1 we use skipgram\n",
    "    # epochs = 5 default\n",
    "    # min_n = 1 because there might also be very short words, of two characters\n",
    "    model = FastText(min_count = min_count, vector_size = 100, window = 5, sg = 1, epochs = 5, min_n = 1)\n",
    "\n",
    "    # Build the vocabulary\n",
    "    model.build_vocab(lee_data)\n",
    "    len_vocab = len(model.wv)\n",
    "    tot_sentences = model.corpus_count\n",
    "\n",
    "    # Train the model\n",
    "    model.train(lee_data, total_examples = tot_sentences, total_words = len_vocab, epochs = model.epochs)\n",
    "\n",
    "    wv = model.wv\n",
    "\n",
    "    return wv \n",
    "    "
   ]
  },
  {
   "cell_type": "code",
   "execution_count": 3,
   "metadata": {},
   "outputs": [],
   "source": [
    "def model_evaluation(model):\n",
    "    print(\"Is night in the vocabulary?\")\n",
    "    print('night' in model.key_to_index)\n",
    "    print()\n",
    "\n",
    "    print(\"Is nights in the vocabulary?\")\n",
    "    print('nights' in model.key_to_index)\n",
    "    print()\n",
    "\n",
    "    print(\"Similarity between nigth and nights:\")\n",
    "    print(model.similarity(\"night\", \"nights\"))\n",
    "    print()\n",
    "\n",
    "    print(\"Is dog in the vocabulary?\")\n",
    "    print('dog' in model.key_to_index)\n",
    "    print()\n",
    "\n",
    "    print(\"Most similar words to dog:\")\n",
    "    print(model.most_similar(\"dog\"))\n",
    "    print()\n",
    "\n",
    "\n",
    "    print(\"Is brothers in the vocabulary?\")\n",
    "    print('brothers' in model.key_to_index)\n",
    "    print()\n",
    "\n",
    "    print(\"Most similar words to brothers:\")\n",
    "    print(model.most_similar(\"brothers\"))\n",
    "    print()\n",
    "\n",
    "    print(\"Similarity between sushi shop and japanese restaurant:\")\n",
    "    print(model.n_similarity(['sushi', 'shop'], ['japanese', 'restaurant']))\n",
    "    print()\n"
   ]
  },
  {
   "cell_type": "code",
   "execution_count": 4,
   "metadata": {},
   "outputs": [],
   "source": [
    "def qw_acc(model):\n",
    "    fasttext_wAp_analogy = model.evaluate_word_analogies('questions-words.txt')\n",
    "\n",
    "    # Extracting the accuracy and category results\n",
    "    total_accuracy = fasttext_wAp_analogy[0]\n",
    "    category_results = fasttext_wAp_analogy[1]\n",
    "\n",
    "    # Processing the data\n",
    "    sections = []\n",
    "    accuracies = []\n",
    "    total_correct = 0\n",
    "    total_incorrect = 0\n",
    "\n",
    "    for entry in category_results:\n",
    "        section = entry['section']\n",
    "        correct = len(entry['correct'])\n",
    "        incorrect = len(entry['incorrect'])\n",
    "        total = correct + incorrect\n",
    "        accuracy = correct / total if total > 0 else 0\n",
    "        sections.append(section)\n",
    "        accuracies.append(accuracy)\n",
    "        total_correct += correct\n",
    "        total_incorrect += incorrect\n",
    "\n",
    "    # Total accuracy\n",
    "    total_accuracy = total_correct / (total_correct + total_incorrect)\n",
    "\n",
    "    # Creating DataFrame\n",
    "    df = pd.DataFrame({\n",
    "        'Section': sections,\n",
    "        'Accuracy': accuracies\n",
    "    })\n",
    "\n",
    "    print(\"Accuracy per Section:\")\n",
    "    print(df)"
   ]
  },
  {
   "cell_type": "code",
   "execution_count": 5,
   "metadata": {},
   "outputs": [],
   "source": [
    "#Txt file creation for both dataset (already in the folder, no need to run it)\n",
    "df = pd.read_csv('../../../data/New dataset/LSTM/no_preprocessing/train_tweets_LSTM_no_new_binary.csv')\n",
    "df['tweet_text'].to_csv('text_data_no_bin.txt', index=False, header=False)\n",
    "\n",
    "df = pd.read_csv('../../../data/New dataset/LSTM/preprocessing/train_tweets_LSTM_pre_new_binary.csv')\n",
    "df['tweet_text'].to_csv('text_data_pre_bin.txt', index=False, header=False)"
   ]
  },
  {
   "cell_type": "markdown",
   "metadata": {},
   "source": [
    "## Corpus Analysis"
   ]
  },
  {
   "cell_type": "code",
   "execution_count": 6,
   "metadata": {},
   "outputs": [
    {
     "data": {
      "image/png": "[encoded data removed]",
      "text/plain": [
       "<Figure size 1000x600 with 1 Axes>"
      ]
     },
     "metadata": {},
     "output_type": "display_data"
    },
    {
     "name": "stdout",
     "output_type": "stream",
     "text": [
      "Words that appear only once: 10157\n",
      "Original vocabulary dimention: 17472\n",
      "Vocabulary dimention if we set min_count=2: 7315\n"
     ]
    }
   ],
   "source": [
    "corpus_analysis('text_data_no_bin.txt')"
   ]
  },
  {
   "cell_type": "code",
   "execution_count": 7,
   "metadata": {},
   "outputs": [
    {
     "data": {
      "image/png": "[encoded data removed]",
      "text/plain": [
       "<Figure size 1000x600 with 1 Axes>"
      ]
     },
     "metadata": {},
     "output_type": "display_data"
    },
    {
     "name": "stdout",
     "output_type": "stream",
     "text": [
      "Words that appear only once: 4469\n",
      "Original vocabulary dimention: 10175\n",
      "Vocabulary dimention if we set min_count=2: 5706\n"
     ]
    }
   ],
   "source": [
    "corpus_analysis('text_data_pre_bin.txt')"
   ]
  },
  {
   "cell_type": "markdown",
   "metadata": {},
   "source": [
    "## Model Training"
   ]
  },
  {
   "cell_type": "code",
   "execution_count": 8,
   "metadata": {},
   "outputs": [],
   "source": [
    "model1 = fasttext_training('text_data_no_bin.txt')"
   ]
  },
  {
   "cell_type": "code",
   "execution_count": 9,
   "metadata": {},
   "outputs": [],
   "source": [
    "model2 = fasttext_training('text_data_pre_bin.txt')"
   ]
  },
  {
   "cell_type": "markdown",
   "metadata": {},
   "source": [
    "## Model Evaluation"
   ]
  },
  {
   "cell_type": "markdown",
   "metadata": {},
   "source": [
    "### General similarity tests "
   ]
  },
  {
   "cell_type": "code",
   "execution_count": 10,
   "metadata": {},
   "outputs": [
    {
     "name": "stdout",
     "output_type": "stream",
     "text": [
      "Is night in the vocabulary?\n",
      "True\n",
      "\n",
      "Is nights in the vocabulary?\n",
      "True\n",
      "\n",
      "Similarity between nigth and nights:\n",
      "0.9840889\n",
      "\n",
      "Is dog in the vocabulary?\n",
      "True\n",
      "\n",
      "Most similar words to dog:\n",
      "[('doug', 0.9991192817687988), ('dawg', 0.9978917837142944), ('yov', 0.9967654943466187), ('omgosh', 0.9967092871665955), ('fox', 0.9966763854026794), ('xbox', 0.9966602921485901), ('gotcha', 0.9965842366218567), ('odb', 0.9965735673904419), ('goddamn', 0.9964669346809387), ('128514', 0.9963899254798889)]\n",
      "\n",
      "Is brothers in the vocabulary?\n",
      "True\n",
      "\n",
      "Most similar words to brothers:\n",
      "[('foster', 0.9995064735412598), ('harassmentthreats', 0.9994651079177856), ('worlds', 0.9993655681610107), ('research', 0.999226987361908), ('retards', 0.9991983771324158), ('jetstar', 0.9991782903671265), ('spatchies', 0.9991735816001892), ('breasts', 0.999140202999115), ('looters', 0.9991125464439392), ('bystanders', 0.9991108179092407)]\n",
      "\n",
      "Similarity between sushi shop and japanese restaurant:\n",
      "0.9897259\n",
      "\n"
     ]
    }
   ],
   "source": [
    "model_evaluation(model1)"
   ]
  },
  {
   "cell_type": "code",
   "execution_count": 11,
   "metadata": {},
   "outputs": [
    {
     "name": "stdout",
     "output_type": "stream",
     "text": [
      "Is night in the vocabulary?\n",
      "True\n",
      "\n",
      "Is nights in the vocabulary?\n",
      "True\n",
      "\n",
      "Similarity between nigth and nights:\n",
      "0.98813415\n",
      "\n",
      "Is dog in the vocabulary?\n",
      "True\n",
      "\n",
      "Most similar words to dog:\n",
      "[('fog', 0.9936893582344055), ('13', 0.9922298192977905), ('115', 0.9916675090789795), ('11', 0.9916617274284363), ('15', 0.9913850426673889), ('52', 0.9912787079811096), ('175', 0.9912171959877014), ('155', 0.991155207157135), ('12', 0.9910576939582825), ('17', 0.9910504817962646)]\n",
      "\n",
      "Is brothers in the vocabulary?\n",
      "False\n",
      "\n",
      "Most similar words to brothers:\n",
      "[('brother', 0.9991603493690491), ('crackers', 0.9985184073448181), ('forgiveness', 0.9984504580497742), ('assured', 0.9981542229652405), ('sovereign', 0.9979348182678223), ('assertive', 0.997904360294342), ('rogers', 0.9977561235427856), ('syrup', 0.9976844787597656), ('superb', 0.9976609349250793), ('signer', 0.9975934624671936)]\n",
      "\n",
      "Similarity between sushi shop and japanese restaurant:\n",
      "0.98020226\n",
      "\n"
     ]
    }
   ],
   "source": [
    "model_evaluation(model2)"
   ]
  },
  {
   "cell_type": "markdown",
   "metadata": {},
   "source": [
    "### Question-words test"
   ]
  },
  {
   "cell_type": "code",
   "execution_count": 12,
   "metadata": {},
   "outputs": [
    {
     "name": "stdout",
     "output_type": "stream",
     "text": [
      "Accuracy per Section:\n",
      "                        Section  Accuracy\n",
      "0      capital-common-countries  0.000000\n",
      "1                 capital-world  0.000000\n",
      "2                      currency  0.000000\n",
      "3                 city-in-state  0.000000\n",
      "4                        family  0.015152\n",
      "5     gram1-adjective-to-adverb  0.075163\n",
      "6                gram2-opposite  0.157143\n",
      "7             gram3-comparative  0.033333\n",
      "8             gram4-superlative  0.000000\n",
      "9      gram5-present-participle  0.011858\n",
      "10  gram6-nationality-adjective  0.016260\n",
      "11             gram7-past-tense  0.022487\n",
      "12                 gram8-plural  0.109687\n",
      "13           gram9-plural-verbs  0.133987\n",
      "14               Total accuracy  0.054361\n"
     ]
    }
   ],
   "source": [
    "qw_acc(model1)"
   ]
  },
  {
   "cell_type": "code",
   "execution_count": 13,
   "metadata": {},
   "outputs": [
    {
     "name": "stdout",
     "output_type": "stream",
     "text": [
      "Accuracy per Section:\n",
      "                        Section  Accuracy\n",
      "0      capital-common-countries  0.000000\n",
      "1                 capital-world  0.000000\n",
      "2                      currency  0.000000\n",
      "3                 city-in-state  0.000000\n",
      "4                        family  0.000000\n",
      "5     gram1-adjective-to-adverb  0.168421\n",
      "6                gram2-opposite  0.285714\n",
      "7             gram3-comparative  0.091667\n",
      "8             gram4-superlative  0.000000\n",
      "9      gram5-present-participle  0.052632\n",
      "10  gram6-nationality-adjective  0.055556\n",
      "11             gram7-past-tense  0.010526\n",
      "12                 gram8-plural  0.066667\n",
      "13           gram9-plural-verbs  0.166667\n",
      "14               Total accuracy  0.083229\n"
     ]
    }
   ],
   "source": [
    "qw_acc(model2)"
   ]
  },
  {
   "cell_type": "markdown",
   "metadata": {},
   "source": [
    "Saving the models"
   ]
  },
  {
   "cell_type": "code",
   "execution_count": 14,
   "metadata": {},
   "outputs": [],
   "source": [
    "# Salva i vettori FastText\n",
    "model1.save(\"BIN_fasttext_model_no.bin\")\n",
    "model2.save(\"BIN_fasttext_model_pre.bin\")"
   ]
  },
  {
   "cell_type": "markdown",
   "metadata": {},
   "source": [
    "Create embedding matrix"
   ]
  },
  {
   "cell_type": "code",
   "execution_count": 15,
   "metadata": {},
   "outputs": [],
   "source": [
    "\n",
    "def create_embedding_matrix(wv_path, bool = 1):\n",
    "    try:\n",
    "        wv = KeyedVectors.load(wv_path)\n",
    "        print(\"VWords vectors successfully uploaded\")\n",
    "    except FileNotFoundError:\n",
    "        print(f\"Error: wrong path\")\n",
    "        exit()\n",
    "\n",
    "    vocab = list(wv.key_to_index.keys())\n",
    "\n",
    "    vector_size = wv.vector_size\n",
    "\n",
    "    embedding_matrix = np.zeros((len(vocab) + 1, vector_size))\n",
    "\n",
    "    for i, word in enumerate(vocab):\n",
    "        embedding_matrix[i] = wv[word]\n",
    "\n",
    "    if bool == 1:\n",
    "        embedding_matrix_path = \"BIN_fasttext_embeddingmatrix_pre.npy\"\n",
    "    else:\n",
    "        embedding_matrix_path = \"BIN_fasttext_embeddingmatrix_no.npy\"\n",
    "    \n",
    "    np.save(embedding_matrix_path, embedding_matrix)"
   ]
  },
  {
   "cell_type": "code",
   "execution_count": 16,
   "metadata": {},
   "outputs": [
    {
     "name": "stdout",
     "output_type": "stream",
     "text": [
      "VWords vectors successfully uploaded\n",
      "VWords vectors successfully uploaded\n"
     ]
    }
   ],
   "source": [
    "create_embedding_matrix('BIN_fasttext_model_no.bin', 0)\n",
    "create_embedding_matrix('BIN_fasttext_model_pre.bin', 1)"
   ]
  }
 ],
 "metadata": {
  "interpreter": {
   "hash": "7cc9b73884fc6dc94cb042d029db4d21e2f9331e7b6a549688c5b94abae7d991"
  },
  "kernelspec": {
   "display_name": "Python 3.9.19 ('ispr')",
   "language": "python",
   "name": "python3"
  },
  "language_info": {
   "codemirror_mode": {
    "name": "ipython",
    "version": 3
   },
   "file_extension": ".py",
   "mimetype": "text/x-python",
   "name": "python",
   "nbconvert_exporter": "python",
   "pygments_lexer": "ipython3",
   "version": "3.11.8"
  },
  "orig_nbformat": 4
 },
 "nbformat": 4,
 "nbformat_minor": 2
}
