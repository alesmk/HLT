{
 "cells": [
  {
   "cell_type": "markdown",
   "metadata": {},
   "source": [
    "# FastText Embedding Creation"
   ]
  },
  {
   "cell_type": "code",
   "execution_count": 270,
   "metadata": {},
   "outputs": [],
   "source": [
    "import matplotlib.pyplot as plt\n",
    "from nltk.tokenize import word_tokenize\n",
    "from collections import Counter\n",
    "from nltk.tokenize import word_tokenize\n",
    "from gensim.models import FastText, KeyedVectors\n",
    "from gensim.models.word2vec import LineSentence\n",
    "import pandas as pd\n",
    "import numpy as np\n",
    "\n",
    "def corpus_analysis(corpus):\n",
    "    frequency = Counter()\n",
    "    \n",
    "    # Leggi il file e aggiorna le frequenze delle parole\n",
    "    with open(corpus, 'r', encoding='utf-8') as file:\n",
    "        for line in file:\n",
    "            tokens = word_tokenize(line)\n",
    "            frequency.update(tokens)\n",
    "\n",
    "    # Ottieni i valori delle frequenze e ordina in modo decrescente\n",
    "    freq_values = list(frequency.values())\n",
    "    freq_values_sorted = sorted(freq_values, reverse=True)\n",
    "\n",
    "    # Visualizza la distribuzione delle frequenze delle parole\n",
    "    plt.figure(figsize=(10, 6))\n",
    "    plt.loglog(freq_values_sorted)  # Uso di una scala log-log per una migliore visualizzazione\n",
    "    plt.title('Log-Log plot of words frequency')\n",
    "    plt.xlabel('Word rank')\n",
    "    plt.ylabel('Frequency')\n",
    "    plt.show()\n",
    "\n",
    "    # Conta le parole con una sola occorrenza\n",
    "    words_with_one_occurrence = sum(1 for count in frequency.values() if count == 1)\n",
    "\n",
    "    # Conta le parole con almeno due occorrenze\n",
    "    words_with_min_count_2 = sum(1 for count in frequency.values() if count >= 2)\n",
    "\n",
    "    print(\"Words that appear only once:\", words_with_one_occurrence)\n",
    "    print(\"Original vocabulary dimention:\", len(frequency))\n",
    "    print(\"Vocabulary dimention if we set min_count=2:\", words_with_min_count_2)\n",
    "    "
   ]
  },
  {
   "cell_type": "code",
   "execution_count": 271,
   "metadata": {},
   "outputs": [],
   "source": [
    "def fasttext_training(corpus, min_count = 1):\n",
    "\n",
    "    lee_data = LineSentence(corpus)\n",
    "    # Il numero di parole si riduce drasticamente se cambiamo mincount anche di poco (da 1 a 2, da 30mil a a 14mila token)\n",
    "    # Lasciamo 1 perchè vogliamo vedere come si comporta LSTM se ha un emebdding per parola (senza oov words), anche se la qualità degli embedding è inferiore\n",
    "    # Window = 5, considerazioni riguardo la lunghezza media dei tweet\n",
    "    # sg = 1 usiamo skipgram \n",
    "    # epochs = 5 default\n",
    "    # min_n = 1 perchè magari ci sono anche parole molto corte, di due caratteri \n",
    "    model = FastText(min_count = min_count, vector_size = 100, window = 5, sg = 1, epochs = 5, min_n = 1)\n",
    "\n",
    "    # build the vocabulary\n",
    "    model.build_vocab(lee_data)\n",
    "    len_vocab = len(model.wv)\n",
    "    tot_sentences = model.corpus_count\n",
    "\n",
    "    # train the model\n",
    "    model.train(lee_data, total_examples = tot_sentences, total_words = len_vocab, epochs = model.epochs)\n",
    "\n",
    "    wv = model.wv\n",
    "\n",
    "    return wv \n",
    "    "
   ]
  },
  {
   "cell_type": "code",
   "execution_count": 272,
   "metadata": {},
   "outputs": [],
   "source": [
    "def model_evaluation(model):\n",
    "    print(\"Is night in the vocabulary?\")\n",
    "    print('night' in model.key_to_index)\n",
    "    print()\n",
    "\n",
    "    print(\"Is nights in the vocabulary?\")\n",
    "    print('nights' in model.key_to_index)\n",
    "    print()\n",
    "\n",
    "    print(\"Similarity between nigth and nights:\")\n",
    "    print(model.similarity(\"night\", \"nights\"))\n",
    "    print()\n",
    "\n",
    "    print(\"Is dog in the vocabulary?\")\n",
    "    print('dog' in model.key_to_index)\n",
    "    print()\n",
    "\n",
    "    print(\"Most similar words to dog:\")\n",
    "    print(model.most_similar(\"dog\"))\n",
    "    print()\n",
    "\n",
    "\n",
    "    print(\"Is brothers in the vocabulary?\")\n",
    "    print('brothers' in model.key_to_index)\n",
    "    print()\n",
    "\n",
    "    print(\"Most similar words to brothers:\")\n",
    "    print(model.most_similar(\"brothers\"))\n",
    "    print()\n",
    "\n",
    "    print(\"Similarity between sushi shop and japanese restaurant:\")\n",
    "    print(model.n_similarity(['sushi', 'shop'], ['japanese', 'restaurant']))\n",
    "    print()\n"
   ]
  },
  {
   "cell_type": "code",
   "execution_count": 273,
   "metadata": {},
   "outputs": [],
   "source": [
    "def qw_acc(model):\n",
    "    fasttext_wAp_analogy = model.evaluate_word_analogies('questions-words.txt')\n",
    "\n",
    "    # Extracting the accuracy and category results\n",
    "    total_accuracy = fasttext_wAp_analogy[0]\n",
    "    category_results = fasttext_wAp_analogy[1]\n",
    "\n",
    "    # Processing the data\n",
    "    sections = []\n",
    "    accuracies = []\n",
    "    total_correct = 0\n",
    "    total_incorrect = 0\n",
    "\n",
    "    for entry in category_results:\n",
    "        section = entry['section']\n",
    "        correct = len(entry['correct'])\n",
    "        incorrect = len(entry['incorrect'])\n",
    "        total = correct + incorrect\n",
    "        accuracy = correct / total if total > 0 else 0\n",
    "        sections.append(section)\n",
    "        accuracies.append(accuracy)\n",
    "        total_correct += correct\n",
    "        total_incorrect += incorrect\n",
    "\n",
    "    # Total accuracy\n",
    "    total_accuracy = total_correct / (total_correct + total_incorrect)\n",
    "\n",
    "    # Creating DataFrame\n",
    "    df = pd.DataFrame({\n",
    "        'Section': sections,\n",
    "        'Accuracy': accuracies\n",
    "    })\n",
    "\n",
    "    print(\"Accuracy per Section:\")\n",
    "    print(df)"
   ]
  },
  {
   "cell_type": "code",
   "execution_count": 274,
   "metadata": {},
   "outputs": [],
   "source": [
    "# Txt file creation for both dataset (already in the folder, no need to run it)\n",
    "#df = pd.read_csv('../../../data/New dataset/LSTM/no_preprocessing/train_tweets_LSTM_no_new.csv')\n",
    "#df['tweet_text'].to_csv('text_data_no.txt', index=False, header=False)\n",
    "\n",
    "#df = pd.read_csv('../../../data/New dataset/LSTM/preprocessing/train_tweets_LSTM_pre_new.csv')\n",
    "#df['tweet_text'].to_csv('text_data_pre.txt', index=False, header=False)"
   ]
  },
  {
   "cell_type": "markdown",
   "metadata": {},
   "source": [
    "## Corpus Analysis"
   ]
  },
  {
   "cell_type": "code",
   "execution_count": 275,
   "metadata": {},
   "outputs": [
    {
     "data": {
      "image/png": "[encoded data removed]",
      "text/plain": [
       "<Figure size 1000x600 with 1 Axes>"
      ]
     },
     "metadata": {},
     "output_type": "display_data"
    },
    {
     "name": "stdout",
     "output_type": "stream",
     "text": [
      "Words that appear only once: 17487\n",
      "Original vocabulary dimention: 31782\n",
      "Vocabulary dimention if we set min_count=2: 14295\n"
     ]
    }
   ],
   "source": [
    "corpus_analysis('text_data_no.txt')"
   ]
  },
  {
   "cell_type": "code",
   "execution_count": 276,
   "metadata": {},
   "outputs": [
    {
     "data": {
      "image/png": "[encoded data removed]",
      "text/plain": [
       "<Figure size 1000x600 with 1 Axes>"
      ]
     },
     "metadata": {},
     "output_type": "display_data"
    },
    {
     "name": "stdout",
     "output_type": "stream",
     "text": [
      "Words that appear only once: 5747\n",
      "Original vocabulary dimention: 15951\n",
      "Vocabulary dimention if we set min_count=2: 10204\n"
     ]
    }
   ],
   "source": [
    "corpus_analysis('text_data_pre.txt')"
   ]
  },
  {
   "cell_type": "markdown",
   "metadata": {},
   "source": [
    "## Model Training"
   ]
  },
  {
   "cell_type": "code",
   "execution_count": 277,
   "metadata": {},
   "outputs": [],
   "source": [
    "model1 = fasttext_training('text_data_no.txt')"
   ]
  },
  {
   "cell_type": "code",
   "execution_count": 278,
   "metadata": {},
   "outputs": [],
   "source": [
    "model2 = fasttext_training('text_data_pre.txt')"
   ]
  },
  {
   "cell_type": "markdown",
   "metadata": {},
   "source": [
    "## Model Evaluation"
   ]
  },
  {
   "cell_type": "markdown",
   "metadata": {},
   "source": [
    "### General similarity tests "
   ]
  },
  {
   "cell_type": "code",
   "execution_count": 279,
   "metadata": {},
   "outputs": [
    {
     "name": "stdout",
     "output_type": "stream",
     "text": [
      "Is night in the vocabulary?\n",
      "True\n",
      "\n",
      "Is nights in the vocabulary?\n",
      "True\n",
      "\n",
      "Similarity between nigth and nights:\n",
      "0.8708723\n",
      "\n",
      "Is dog in the vocabulary?\n",
      "True\n",
      "\n",
      "Most similar words to dog:\n",
      "[('dogg', 0.9703572392463684), ('doggo', 0.9393236637115479), ('og', 0.9135992527008057), ('doug', 0.9081555008888245), ('ofg', 0.9018085598945618), ('dogs', 0.8946580290794373), ('doggy', 0.8918026089668274), ('droog', 0.886388897895813), ('frog', 0.8796858787536621), ('dox', 0.8794143199920654)]\n",
      "\n",
      "Is brothers in the vocabulary?\n",
      "True\n",
      "\n",
      "Most similar words to brothers:\n",
      "[('brotherssisters', 0.9849886298179626), ('bothers', 0.9764004945755005), ('brotherssister', 0.9741512537002563), ('rioterslooters', 0.9718755483627319), ('looters', 0.9649954438209534), ('brotherhoods', 0.9615164399147034), ('rioters', 0.960638165473938), ('inothers', 0.9602214694023132), ('fighters', 0.9598827362060547), ('northerners', 0.959702730178833)]\n",
      "\n",
      "Similarity between sushi shop and japanese restaurant:\n",
      "0.8607003\n",
      "\n"
     ]
    }
   ],
   "source": [
    "model_evaluation(model1)"
   ]
  },
  {
   "cell_type": "code",
   "execution_count": 280,
   "metadata": {},
   "outputs": [
    {
     "name": "stdout",
     "output_type": "stream",
     "text": [
      "Is night in the vocabulary?\n",
      "True\n",
      "\n",
      "Is nights in the vocabulary?\n",
      "True\n",
      "\n",
      "Similarity between nigth and nights:\n",
      "0.96781003\n",
      "\n",
      "Is dog in the vocabulary?\n",
      "True\n",
      "\n",
      "Most similar words to dog:\n",
      "[('dogs', 0.9360858798027039), ('doggo', 0.9320464730262756), ('fog', 0.9076128005981445), ('doggy', 0.8958892822265625), ('doggie', 0.8856238126754761), ('doge', 0.8803799152374268), ('dg', 0.8695666193962097), ('cog', 0.8633638024330139), ('frog', 0.8627618551254272), ('dogwood', 0.8539823889732361)]\n",
      "\n",
      "Is brothers in the vocabulary?\n",
      "False\n",
      "\n",
      "Most similar words to brothers:\n",
      "[('brother', 0.9660890102386475), ('brotherhood', 0.9511023163795471), ('broth', 0.9437435269355774), ('motherhood', 0.943413257598877), ('bravery', 0.9350374341011047), ('publisher', 0.9343945384025574), ('unbothered', 0.9333058595657349), ('sherif', 0.9332993626594543), ('otherwise', 0.9316489100456238), ('sherry', 0.9311670660972595)]\n",
      "\n",
      "Similarity between sushi shop and japanese restaurant:\n",
      "0.807976\n",
      "\n"
     ]
    }
   ],
   "source": [
    "model_evaluation(model2)"
   ]
  },
  {
   "cell_type": "markdown",
   "metadata": {},
   "source": [
    "### Question-words test"
   ]
  },
  {
   "cell_type": "code",
   "execution_count": 281,
   "metadata": {},
   "outputs": [
    {
     "name": "stdout",
     "output_type": "stream",
     "text": [
      "Accuracy per Section:\n",
      "                        Section  Accuracy\n",
      "0      capital-common-countries  0.000000\n",
      "1                 capital-world  0.000000\n",
      "2                      currency  0.000000\n",
      "3                 city-in-state  0.000000\n",
      "4                        family  0.049451\n",
      "5     gram1-adjective-to-adverb  0.675725\n",
      "6                gram2-opposite  0.616667\n",
      "7             gram3-comparative  0.550538\n",
      "8             gram4-superlative  0.450000\n",
      "9      gram5-present-participle  0.491667\n",
      "10  gram6-nationality-adjective  0.104452\n",
      "11             gram7-past-tense  0.089247\n",
      "12                 gram8-plural  0.661290\n",
      "13           gram9-plural-verbs  0.719298\n",
      "14               Total accuracy  0.417775\n"
     ]
    }
   ],
   "source": [
    "qw_acc(model1)"
   ]
  },
  {
   "cell_type": "code",
   "execution_count": 282,
   "metadata": {},
   "outputs": [
    {
     "name": "stdout",
     "output_type": "stream",
     "text": [
      "Accuracy per Section:\n",
      "                        Section  Accuracy\n",
      "0      capital-common-countries  0.011111\n",
      "1                 capital-world  0.000000\n",
      "2                      currency  0.000000\n",
      "3                 city-in-state  0.003115\n",
      "4                        family  0.049451\n",
      "5     gram1-adjective-to-adverb  0.761538\n",
      "6                gram2-opposite  0.673810\n",
      "7             gram3-comparative  0.500000\n",
      "8             gram4-superlative  0.291667\n",
      "9      gram5-present-participle  0.645238\n",
      "10  gram6-nationality-adjective  0.203767\n",
      "11             gram7-past-tense  0.037549\n",
      "12                 gram8-plural  0.690476\n",
      "13           gram9-plural-verbs  0.666667\n",
      "14               Total accuracy  0.376815\n"
     ]
    }
   ],
   "source": [
    "qw_acc(model2)"
   ]
  },
  {
   "cell_type": "markdown",
   "metadata": {},
   "source": [
    "Saving the models"
   ]
  },
  {
   "cell_type": "code",
   "execution_count": 283,
   "metadata": {},
   "outputs": [],
   "source": [
    "# Salva i vettori FastText\n",
    "model1.save(\"fasttext_model_no.bin\")\n",
    "model2.save(\"fasttext_model_pre.bin\")"
   ]
  },
  {
   "cell_type": "markdown",
   "metadata": {},
   "source": [
    "Create embedding matrix"
   ]
  },
  {
   "cell_type": "code",
   "execution_count": 284,
   "metadata": {},
   "outputs": [],
   "source": [
    "\n",
    "def create_embedding_matrix(wv_path, bool = 1):\n",
    "    try:\n",
    "        wv = KeyedVectors.load(wv_path)\n",
    "        print(\"VWords vectors successfully uploaded\")\n",
    "    except FileNotFoundError:\n",
    "        print(f\"Error: wrong path\")\n",
    "        exit()\n",
    "\n",
    "    vocab = list(wv.key_to_index.keys())\n",
    "\n",
    "    vector_size = wv.vector_size\n",
    "\n",
    "    embedding_matrix = np.zeros((len(vocab) + 1, vector_size))\n",
    "\n",
    "    for i, word in enumerate(vocab):\n",
    "        embedding_matrix[i] = wv[word]\n",
    "\n",
    "    if bool == 1:\n",
    "        embedding_matrix_path = \"fasttext_embeddingmatrix_pre.npy\"\n",
    "    else:\n",
    "        embedding_matrix_path = \"fasttext_embeddingmatrix_no.npy\"\n",
    "    \n",
    "    np.save(embedding_matrix_path, embedding_matrix)"
   ]
  },
  {
   "cell_type": "code",
   "execution_count": 285,
   "metadata": {},
   "outputs": [
    {
     "name": "stdout",
     "output_type": "stream",
     "text": [
      "VWords vectors successfully uploaded\n",
      "VWords vectors successfully uploaded\n"
     ]
    }
   ],
   "source": [
    "create_embedding_matrix('fasttext_model_no.bin', 0)\n",
    "create_embedding_matrix('fasttext_model_pre.bin', 1)"
   ]
  }
 ],
 "metadata": {
  "interpreter": {
   "hash": "7cc9b73884fc6dc94cb042d029db4d21e2f9331e7b6a549688c5b94abae7d991"
  },
  "kernelspec": {
   "display_name": "Python 3.9.19 ('ispr')",
   "language": "python",
   "name": "python3"
  },
  "language_info": {
   "codemirror_mode": {
    "name": "ipython",
    "version": 3
   },
   "file_extension": ".py",
   "mimetype": "text/x-python",
   "name": "python",
   "nbconvert_exporter": "python",
   "pygments_lexer": "ipython3",
   "version": "3.9.19"
  },
  "orig_nbformat": 4
 },
 "nbformat": 4,
 "nbformat_minor": 2
}
