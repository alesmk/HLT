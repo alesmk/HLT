{
 "cells": [
  {
   "cell_type": "markdown",
   "id": "d6406adc-7273-4fbb-9dae-b6ee9e4fc153",
   "metadata": {},
   "source": [
    "# BERT"
   ]
  },
  {
   "cell_type": "code",
   "execution_count": 1,
   "id": "45eba00a-2705-4e87-aace-8b3e02bb270b",
   "metadata": {},
   "outputs": [],
   "source": [
    "from transformers import BertTokenizer, BertForSequenceClassification, AdamW\n",
    "import torch"
   ]
  },
  {
   "cell_type": "code",
   "execution_count": 2,
   "id": "f285e7f3-a708-435a-b0e6-a51679f36a5b",
   "metadata": {},
   "outputs": [],
   "source": [
    "tokenizer = BertTokenizer.from_pretrained('bert-base-uncased')\n",
    "device = torch.device(\"mps\" if torch.backends.mps.is_available() else \"cpu\")"
   ]
  },
  {
   "cell_type": "code",
   "execution_count": 3,
   "id": "62d31c07-b5b4-4dc8-b408-7bad08effcaf",
   "metadata": {},
   "outputs": [
    {
     "name": "stderr",
     "output_type": "stream",
     "text": [
      "Some weights of BertForSequenceClassification were not initialized from the model checkpoint at bert-base-uncased and are newly initialized: ['classifier.bias', 'classifier.weight']\n",
      "You should probably TRAIN this model on a down-stream task to be able to use it for predictions and inference.\n"
     ]
    },
    {
     "data": {
      "text/plain": [
       "BertForSequenceClassification(\n",
       "  (bert): BertModel(\n",
       "    (embeddings): BertEmbeddings(\n",
       "      (word_embeddings): Embedding(30522, 768, padding_idx=0)\n",
       "      (position_embeddings): Embedding(512, 768)\n",
       "      (token_type_embeddings): Embedding(2, 768)\n",
       "      (LayerNorm): LayerNorm((768,), eps=1e-12, elementwise_affine=True)\n",
       "      (dropout): Dropout(p=0.1, inplace=False)\n",
       "    )\n",
       "    (encoder): BertEncoder(\n",
       "      (layer): ModuleList(\n",
       "        (0-11): 12 x BertLayer(\n",
       "          (attention): BertAttention(\n",
       "            (self): BertSelfAttention(\n",
       "              (query): Linear(in_features=768, out_features=768, bias=True)\n",
       "              (key): Linear(in_features=768, out_features=768, bias=True)\n",
       "              (value): Linear(in_features=768, out_features=768, bias=True)\n",
       "              (dropout): Dropout(p=0.1, inplace=False)\n",
       "            )\n",
       "            (output): BertSelfOutput(\n",
       "              (dense): Linear(in_features=768, out_features=768, bias=True)\n",
       "              (LayerNorm): LayerNorm((768,), eps=1e-12, elementwise_affine=True)\n",
       "              (dropout): Dropout(p=0.1, inplace=False)\n",
       "            )\n",
       "          )\n",
       "          (intermediate): BertIntermediate(\n",
       "            (dense): Linear(in_features=768, out_features=3072, bias=True)\n",
       "            (intermediate_act_fn): GELUActivation()\n",
       "          )\n",
       "          (output): BertOutput(\n",
       "            (dense): Linear(in_features=3072, out_features=768, bias=True)\n",
       "            (LayerNorm): LayerNorm((768,), eps=1e-12, elementwise_affine=True)\n",
       "            (dropout): Dropout(p=0.1, inplace=False)\n",
       "          )\n",
       "        )\n",
       "      )\n",
       "    )\n",
       "    (pooler): BertPooler(\n",
       "      (dense): Linear(in_features=768, out_features=768, bias=True)\n",
       "      (activation): Tanh()\n",
       "    )\n",
       "  )\n",
       "  (dropout): Dropout(p=0.1, inplace=False)\n",
       "  (classifier): Linear(in_features=768, out_features=5, bias=True)\n",
       ")"
      ]
     },
     "execution_count": 3,
     "metadata": {},
     "output_type": "execute_result"
    }
   ],
   "source": [
    "# Carica il modello e utilizza la funzione di predizione\n",
    "model = BertForSequenceClassification.from_pretrained('bert-base-uncased', num_labels=5)\n",
    "\n",
    "model_save_path = \"bert_for_cyberbullying.pth\"\n",
    "model.load_state_dict(torch.load(model_save_path))\n",
    "model.to(device)"
   ]
  },
  {
   "cell_type": "code",
   "execution_count": 4,
   "id": "3d5a1019-4645-4097-a1b3-b3caf2c56f7f",
   "metadata": {},
   "outputs": [
    {
     "name": "stdout",
     "output_type": "stream",
     "text": [
      "Predicted Cyberbullying Category: gender\n"
     ]
    }
   ],
   "source": [
    "def predict(text, model, tokenizer, device):\n",
    "    model.eval()\n",
    "    encoded_dict = tokenizer.encode_plus(\n",
    "        text,\n",
    "        add_special_tokens=True,\n",
    "        max_length=128,\n",
    "        padding='max_length',\n",
    "        truncation=True,\n",
    "        return_attention_mask=True,\n",
    "        return_tensors='pt',\n",
    "    )\n",
    "\n",
    "    input_ids = encoded_dict['input_ids'].to(device)\n",
    "    attention_mask = encoded_dict['attention_mask'].to(device)\n",
    "\n",
    "    with torch.no_grad():\n",
    "        outputs = model(input_ids, attention_mask=attention_mask)\n",
    "    logits = outputs.logits\n",
    "    prediction = torch.argmax(logits, dim=1).cpu().numpy()[0]\n",
    "\n",
    "    return prediction  \n",
    "\n",
    "def invert_label(c_type):\n",
    "    if c_type == 0:\n",
    "        c_type = \"not_cyberbullying\"\n",
    "    elif c_type == 1:\n",
    "        c_type = \"age\" \n",
    "    elif c_type == 2:\n",
    "        c_type = \"gender\"\n",
    "    elif c_type == 3:\n",
    "        c_type = \"ethnicity\"\n",
    "    elif c_type == 4:\n",
    "        c_type = \"religion\"\n",
    "    return c_type\n",
    "    \n",
    "# Carica il modello e testa la funzione di predizione\n",
    "model.load_state_dict(torch.load(model_save_path))\n",
    "model.to(device)\n",
    "\n",
    "sample_text = \"Example of a new tweet that could be cyberbullying.\"\n",
    "predicted_category = predict(sample_text, model, tokenizer, device)\n",
    "\n",
    "predicted_category = invert_label(predicted_category)\n",
    "\n",
    "print(f\"Predicted Cyberbullying Category: {predicted_category}\")"
   ]
  },
  {
   "cell_type": "code",
   "execution_count": 5,
   "id": "65b08d70-00db-4388-8f86-46a69de4777c",
   "metadata": {},
   "outputs": [
    {
     "name": "stdout",
     "output_type": "stream",
     "text": [
      "Predicted Cyberbullying Category: ethnicity\n"
     ]
    }
   ],
   "source": [
    "sample_text = \"fuck you black\"\n",
    "predicted_category = predict(sample_text, model, tokenizer, device)\n",
    "predicted_category = invert_label(predicted_category)\n",
    "print(f\"Predicted Cyberbullying Category: {predicted_category}\")"
   ]
  },
  {
   "cell_type": "code",
   "execution_count": 6,
   "id": "03044154-66dd-4ebe-ad05-c1eebff04a66",
   "metadata": {},
   "outputs": [
    {
     "name": "stdout",
     "output_type": "stream",
     "text": [
      "Predicted Cyberbullying Category: gender\n"
     ]
    }
   ],
   "source": [
    "sample_text = \"i will rape you\"\n",
    "predicted_category = predict(sample_text, model, tokenizer, device)\n",
    "predicted_category = invert_label(predicted_category)\n",
    "print(f\"Predicted Cyberbullying Category: {predicted_category}\")"
   ]
  },
  {
   "cell_type": "code",
   "execution_count": 7,
   "id": "775d9d3c-09af-4fd3-8233-22d080f01c17",
   "metadata": {},
   "outputs": [
    {
     "name": "stdout",
     "output_type": "stream",
     "text": [
      "Predicted Cyberbullying Category: religion\n"
     ]
    }
   ],
   "source": [
    "sample_text = \"muslim idiot\"\n",
    "predicted_category = predict(sample_text, model, tokenizer, device)\n",
    "predicted_category = invert_label(predicted_category)\n",
    "print(f\"Predicted Cyberbullying Category: {predicted_category}\")"
   ]
  },
  {
   "cell_type": "code",
   "execution_count": 8,
   "id": "049d8bf0-43f1-46b2-9982-a47c6c019f4a",
   "metadata": {},
   "outputs": [
    {
     "name": "stdout",
     "output_type": "stream",
     "text": [
      "Predicted Cyberbullying Category: not_cyberbullying\n"
     ]
    }
   ],
   "source": [
    "sample_text = \"hello how are yu\"\n",
    "predicted_category = predict(sample_text, model, tokenizer, device)\n",
    "predicted_category = invert_label(predicted_category)\n",
    "print(f\"Predicted Cyberbullying Category: {predicted_category}\")"
   ]
  },
  {
   "cell_type": "code",
   "execution_count": 9,
   "id": "858370af-44e5-45a6-a8ea-9abaf9fd58db",
   "metadata": {},
   "outputs": [
    {
     "name": "stdout",
     "output_type": "stream",
     "text": [
      "Predicted Cyberbullying Category: ethnicity\n"
     ]
    }
   ],
   "source": [
    "sample_text = \"Can anyone else said to this nigger that the dress is blue?\"\n",
    "predicted_category = predict(sample_text, model, tokenizer, device)\n",
    "predicted_category = invert_label(predicted_category)\n",
    "print(f\"Predicted Cyberbullying Category: {predicted_category}\")"
   ]
  },
  {
   "cell_type": "code",
   "execution_count": 10,
   "id": "a609fad9-77d1-46f0-8ee2-92dadea259da",
   "metadata": {},
   "outputs": [
    {
     "name": "stdout",
     "output_type": "stream",
     "text": [
      "Predicted Cyberbullying Category: not_cyberbullying\n"
     ]
    }
   ],
   "source": [
    "sample_text = \"I'm really happy for your birthday\"\n",
    "predicted_category = predict(sample_text, model, tokenizer, device)\n",
    "predicted_category = invert_label(predicted_category)\n",
    "print(f\"Predicted Cyberbullying Category: {predicted_category}\")"
   ]
  },
  {
   "cell_type": "code",
   "execution_count": 11,
   "id": "58742534-37d1-42fe-9857-75f8268c46e9",
   "metadata": {},
   "outputs": [
    {
     "name": "stdout",
     "output_type": "stream",
     "text": [
      "Predicted Cyberbullying Category: religion\n"
     ]
    }
   ],
   "source": [
    "sample_text = \"In my opinion Allah is not a real god\"\n",
    "predicted_category = predict(sample_text, model, tokenizer, device)\n",
    "predicted_category = invert_label(predicted_category)\n",
    "print(f\"Predicted Cyberbullying Category: {predicted_category}\")"
   ]
  },
  {
   "cell_type": "code",
   "execution_count": 12,
   "id": "2ee292eb-302a-4775-adea-e8c4677bf9b5",
   "metadata": {},
   "outputs": [
    {
     "name": "stdout",
     "output_type": "stream",
     "text": [
      "Predicted Cyberbullying Category: religion\n"
     ]
    }
   ],
   "source": [
    "sample_text = \"I like Allah\"\n",
    "predicted_category = predict(sample_text, model, tokenizer, device)\n",
    "predicted_category = invert_label(predicted_category)\n",
    "print(f\"Predicted Cyberbullying Category: {predicted_category}\")"
   ]
  },
  {
   "cell_type": "code",
   "execution_count": 13,
   "id": "624a0772-65d6-4fc4-b7dd-d487c3044f12",
   "metadata": {},
   "outputs": [
    {
     "name": "stdout",
     "output_type": "stream",
     "text": [
      "Predicted Cyberbullying Category: not_cyberbullying\n"
     ]
    }
   ],
   "source": [
    "sample_text = \"I love Allah\"\n",
    "predicted_category = predict(sample_text, model, tokenizer, device)\n",
    "predicted_category = invert_label(predicted_category)\n",
    "print(f\"Predicted Cyberbullying Category: {predicted_category}\")"
   ]
  },
  {
   "cell_type": "code",
   "execution_count": 17,
   "id": "1b6b50fa-8efb-4f94-bdd2-a4e7880c42fa",
   "metadata": {},
   "outputs": [
    {
     "name": "stdout",
     "output_type": "stream",
     "text": [
      "Predicted Cyberbullying Category: not_cyberbullying\n"
     ]
    }
   ],
   "source": [
    "sample_text = \"Men are better than women\"\n",
    "predicted_category = predict(sample_text, model, tokenizer, device)\n",
    "predicted_category = invert_label(predicted_category)\n",
    "print(f\"Predicted Cyberbullying Category: {predicted_category}\")"
   ]
  },
  {
   "cell_type": "code",
   "execution_count": null,
   "id": "d7552399-e94e-481a-8d64-b8ff9e8040bb",
   "metadata": {},
   "outputs": [],
   "source": []
  }
 ],
 "metadata": {
  "kernelspec": {
   "display_name": "Python 3 (ipykernel)",
   "language": "python",
   "name": "python3"
  },
  "language_info": {
   "codemirror_mode": {
    "name": "ipython",
    "version": 3
   },
   "file_extension": ".py",
   "mimetype": "text/x-python",
   "name": "python",
   "nbconvert_exporter": "python",
   "pygments_lexer": "ipython3",
   "version": "3.11.7"
  }
 },
 "nbformat": 4,
 "nbformat_minor": 5
}
