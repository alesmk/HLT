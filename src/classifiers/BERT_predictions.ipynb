{
 "cells": [
  {
   "cell_type": "markdown",
   "id": "d6406adc-7273-4fbb-9dae-b6ee9e4fc153",
   "metadata": {},
   "source": [
    "# BERT"
   ]
  },
  {
   "cell_type": "code",
   "execution_count": 1,
   "id": "45eba00a-2705-4e87-aace-8b3e02bb270b",
   "metadata": {},
   "outputs": [],
   "source": [
    "from transformers import BertTokenizer, BertForSequenceClassification, AdamW\n",
    "import torch"
   ]
  },
  {
   "cell_type": "code",
   "execution_count": 2,
   "id": "6bab402a-0028-4829-8064-4de4d6fc70e7",
   "metadata": {},
   "outputs": [],
   "source": [
    "import tarfile\n",
    "\n",
    "# Percorso del file tar.gz\n",
    "tar_file_path = \"bert_for_cyberbullying.tar.gz\"\n",
    "# Nome del file da estrarre\n",
    "file_to_extract = \"bert_for_cyberbullying.pth\"\n",
    "\n",
    "with tarfile.open(tar_file_path, \"r:gz\") as tar:\n",
    "    tar.extract(file_to_extract)\n"
   ]
  },
  {
   "cell_type": "code",
   "execution_count": 3,
   "id": "f285e7f3-a708-435a-b0e6-a51679f36a5b",
   "metadata": {},
   "outputs": [
    {
     "name": "stderr",
     "output_type": "stream",
     "text": [
      "Some weights of BertForSequenceClassification were not initialized from the model checkpoint at bert-base-uncased and are newly initialized: ['classifier.bias', 'classifier.weight']\n",
      "You should probably TRAIN this model on a down-stream task to be able to use it for predictions and inference.\n"
     ]
    },
    {
     "data": {
      "text/plain": [
       "<All keys matched successfully>"
      ]
     },
     "execution_count": 3,
     "metadata": {},
     "output_type": "execute_result"
    }
   ],
   "source": [
    "tokenizer = BertTokenizer.from_pretrained('bert-base-uncased')\n",
    "\n",
    "# Specify a path to save to\n",
    "model_save_path = \"bert_for_cyberbullying.pth\"\n",
    "\n",
    "# Carica il modello e utilizza la funzione di predizione\n",
    "model = BertForSequenceClassification.from_pretrained('bert-base-uncased', num_labels=5)\n",
    "device = torch.device(\"mps\" if torch.backends.mps.is_available() else \"cuda\" if torch.cuda.is_available() else \"cpu\")\n",
    "\n",
    "# Load\n",
    "model.load_state_dict(torch.load(model_save_path, map_location=device))"
   ]
  },
  {
   "cell_type": "code",
   "execution_count": 4,
   "id": "3d5a1019-4645-4097-a1b3-b3caf2c56f7f",
   "metadata": {},
   "outputs": [],
   "source": [
    "def invert_label(c_type):\n",
    "    if c_type == 0:\n",
    "        c_type = \"not_cyberbullying\"\n",
    "    elif c_type == 1:\n",
    "        c_type = \"age\" \n",
    "    elif c_type == 2:\n",
    "        c_type = \"gender\"\n",
    "    elif c_type == 3:\n",
    "        c_type = \"ethnicity\"\n",
    "    elif c_type == 4:\n",
    "        c_type = \"religion\"\n",
    "    return c_type\n",
    "\n",
    "def predict(text, model, tokenizer, device):\n",
    "    model.eval()\n",
    "    encoded_dict = tokenizer.encode_plus(\n",
    "        text,\n",
    "        add_special_tokens=True,\n",
    "        max_length=128,\n",
    "        padding='max_length',\n",
    "        truncation=True,\n",
    "        return_attention_mask=True,\n",
    "        return_tensors='pt',\n",
    "    )\n",
    "\n",
    "    input_ids = encoded_dict['input_ids'].to(device)\n",
    "    attention_mask = encoded_dict['attention_mask'].to(device)\n",
    "\n",
    "    with torch.no_grad():\n",
    "        outputs = model(input_ids, attention_mask=attention_mask)\n",
    "    logits = outputs.logits\n",
    "    prediction = torch.argmax(logits, dim=1).cpu().numpy()[0]\n",
    "\n",
    "    return invert_label(prediction)  \n",
    "\n",
    "    \n",
    "def print_category(sentence):\n",
    "    predicted_category = predict(sentence, model, tokenizer, device)\n",
    "    print(f\"Text: {sentence} \\nPredicted Cyberbullying Category: {predicted_category}\")\n",
    "    print(\"----------------\")\n",
    "    return"
   ]
  },
  {
   "cell_type": "code",
   "execution_count": 5,
   "id": "5696c425-222e-4186-8312-4c84dd4a20ed",
   "metadata": {},
   "outputs": [
    {
     "name": "stdout",
     "output_type": "stream",
     "text": [
      "Text: Example of a new tweet that could be cyberbullying. \n",
      "Predicted Cyberbullying Category: gender\n",
      "----------------\n",
      "Text: fuck you black \n",
      "Predicted Cyberbullying Category: ethnicity\n",
      "----------------\n",
      "Text: i will rape you \n",
      "Predicted Cyberbullying Category: gender\n",
      "----------------\n",
      "Text: muslim idiot \n",
      "Predicted Cyberbullying Category: religion\n",
      "----------------\n",
      "Text: muslim idiot \n",
      "Predicted Cyberbullying Category: religion\n",
      "----------------\n",
      "Text: hello how are you \n",
      "Predicted Cyberbullying Category: not_cyberbullying\n",
      "----------------\n",
      "Text: Can anyone else said to this nigger that the dress is blue? \n",
      "Predicted Cyberbullying Category: ethnicity\n",
      "----------------\n",
      "Text: I'm really happy for your birthday \n",
      "Predicted Cyberbullying Category: not_cyberbullying\n",
      "----------------\n",
      "Text: In my opinion Allah is not a real god \n",
      "Predicted Cyberbullying Category: religion\n",
      "----------------\n",
      "Text: I fucking hate Allah \n",
      "Predicted Cyberbullying Category: religion\n",
      "----------------\n",
      "Text: I appreciate Allah \n",
      "Predicted Cyberbullying Category: religion\n",
      "----------------\n",
      "Text: Men are better than women \n",
      "Predicted Cyberbullying Category: not_cyberbullying\n",
      "----------------\n",
      "Text: Bro, you are a Nigga!!! \n",
      "Predicted Cyberbullying Category: ethnicity\n",
      "----------------\n",
      "Text: You are a shit!!! \n",
      "Predicted Cyberbullying Category: not_cyberbullying\n",
      "----------------\n",
      "Text: dickhead! \n",
      "Predicted Cyberbullying Category: not_cyberbullying\n",
      "----------------\n"
     ]
    }
   ],
   "source": [
    "print_category(\"Example of a new tweet that could be cyberbullying.\")\n",
    "print_category(\"fuck you black\")\n",
    "print_category(\"i will rape you\")\n",
    "print_category(\"muslim idiot\")\n",
    "print_category(\"muslim idiot\")\n",
    "print_category(\"hello how are you\")\n",
    "print_category(\"Can anyone else said to this nigger that the dress is blue?\")\n",
    "print_category(\"I'm really happy for your birthday\")\n",
    "print_category(\"In my opinion Allah is not a real god\")\n",
    "print_category(\"I fucking hate Allah\")\n",
    "print_category(\"I appreciate Allah\")\n",
    "print_category(\"Men are better than women\")\n",
    "print_category(\"Bro, you are a Nigga!!!\")\n",
    "print_category(\"You are a shit!!!\")\n",
    "print_category(\"dickhead!\")"
   ]
  },
  {
   "cell_type": "code",
   "execution_count": null,
   "id": "aa7c5fbc-94a6-48f9-99e8-beddf8644692",
   "metadata": {},
   "outputs": [],
   "source": []
  }
 ],
 "metadata": {
  "kernelspec": {
   "display_name": "Python 3 (ipykernel)",
   "language": "python",
   "name": "python3"
  },
  "language_info": {
   "codemirror_mode": {
    "name": "ipython",
    "version": 3
   },
   "file_extension": ".py",
   "mimetype": "text/x-python",
   "name": "python",
   "nbconvert_exporter": "python",
   "pygments_lexer": "ipython3",
   "version": "3.11.5"
  }
 },
 "nbformat": 4,
 "nbformat_minor": 5
}
