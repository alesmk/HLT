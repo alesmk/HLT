{
 "cells": [
  {
   "cell_type": "markdown",
   "id": "d6406adc-7273-4fbb-9dae-b6ee9e4fc153",
   "metadata": {
    "id": "d6406adc-7273-4fbb-9dae-b6ee9e4fc153"
   },
   "source": [
    "# BERT large whole word masking"
   ]
  },
  {
   "cell_type": "markdown",
   "id": "2b92bcc2",
   "metadata": {
    "id": "2b92bcc2"
   },
   "source": [
    "This notebook demonstrates the process of fine-tuning two BERT models for a sequence classification task\n",
    "\n",
    "**For convenience, we have separated the two executions into different files so that they can be viewed**\n",
    "\n",
    "#### Steps\n",
    "1. **Configuration and Setup**:\n",
    "    - Define model configurations and hyperparameters.\n",
    "    - Initialize the tokenizer and model configurations.\n",
    "\n",
    "2. **Data Preparation**:\n",
    "    - Load and preprocess the dataset.\n",
    "    - Encode the data using the BERT tokenizer.\n",
    "    - Create DataLoader objects for training, validation, and test sets.\n",
    "\n",
    "3. **Model Training**:\n",
    "    - Define utility functions for training and evaluation.\n",
    "    - Implement early stopping to prevent overfitting.\n",
    "    - Train the model for a specified number of epochs, evaluating on the validation set after each epoch.\n",
    "\n",
    "4. **Evaluation**:\n",
    "    - Evaluate the model on the validation set.\n",
    "    - Calculate and display metrics such as accuracy, confusion matrix, and classification report.\n",
    "    - Save the trained model for future use.\n",
    "\n",
    "#### Key Hyperparameters\n",
    "- **Learning Rate (`LR`)**: Controls the step size during optimization.\n",
    "- **Batch Size (`BATCH_SIZE`)**: Number of samples processed before the model's internal parameters are updated.\n",
    "- **Epochs (`EPOCHS`)**: Number of times the entire dataset is passed through the model.\n",
    "- **Dropout Probabilities (`hidden_dropout_prob` and `attention_probs_dropout_prob`)**: Probabilities of dropping units during training to prevent overfitting.\n",
    "\n",
    "#### Important Notes\n",
    "- **Early Stopping**: Implemented to halt training if the validation loss does not improve for a certain number of epochs.\n",
    "- **Gradient Clipping**: Used to prevent exploding gradients by capping the gradient values during backpropagation.\n",
    "- **Model Saving**: The trained model is saved at the end of the training process for future inference or fine-tuning.\n"
   ]
  },
  {
   "cell_type": "markdown",
   "id": "40a6b2a0",
   "metadata": {
    "id": "40a6b2a0"
   },
   "source": [
    "- bert-base-uncased (model_1)\n",
    "- bert-large-whole-word-masking (model_2)"
   ]
  },
  {
   "cell_type": "markdown",
   "id": "56d0925a",
   "metadata": {
    "id": "56d0925a"
   },
   "source": [
    "## Importing libraries"
   ]
  },
  {
   "cell_type": "code",
   "execution_count": 1,
   "id": "915407b7-3e37-45b3-882e-83ca4bb8b06d",
   "metadata": {},
   "outputs": [],
   "source": [
    "import os\n",
    "os.environ[\"CUDA_VISIBLE_DEVICES\"]=\"0\""
   ]
  },
  {
   "cell_type": "code",
   "execution_count": 2,
   "id": "56c11e6d-ea4b-4f37-bb7d-d9bc77b7a8cf",
   "metadata": {
    "id": "56c11e6d-ea4b-4f37-bb7d-d9bc77b7a8cf"
   },
   "outputs": [],
   "source": [
    "import pandas as pd\n",
    "import numpy as np\n",
    "import matplotlib.pyplot as plt\n",
    "import seaborn as sns\n",
    "\n",
    "import torch\n",
    "from torch.utils.data import TensorDataset, DataLoader, RandomSampler, SequentialSampler\n",
    "\n",
    "from transformers import BertConfig, BertTokenizer, BertForSequenceClassification\n",
    "from torch.optim import AdamW\n",
    "\n",
    "from tqdm.notebook import tqdm\n",
    "from colorama import Fore, Style\n",
    "from sklearn.metrics import confusion_matrix, classification_report\n",
    "from sklearn.metrics import accuracy_score, precision_score, recall_score"
   ]
  },
  {
   "cell_type": "markdown",
   "id": "e8f74782",
   "metadata": {
    "id": "e8f74782"
   },
   "source": [
    "## Model Configuration"
   ]
  },
  {
   "cell_type": "code",
   "execution_count": 3,
   "id": "7704334d",
   "metadata": {
    "id": "7704334d"
   },
   "outputs": [],
   "source": [
    "# Dictionary for bert-base-uncased\n",
    "model_1_info = {\n",
    "    \"NAME\": \"bert-base-uncased\",\n",
    "    \"BATCH_SIZE\": 64,\n",
    "    \"EPOCHS\": 3,\n",
    "    \"LR\": 5e-05,\n",
    "    \"HID_DP\": 0.3,\n",
    "    \"ATT_DP\": 0.3\n",
    "}\n",
    "\n",
    "# Dictionary for bert-large-whole-word-masking\n",
    "model_2_info = {\n",
    "    \"NAME\": \"bert-large-uncased-whole-word-masking\",\n",
    "    \"BATCH_SIZE\": 64,\n",
    "    \"EPOCHS\": 3,\n",
    "    \"LR\": 2e-05,\n",
    "    \"HID_DP\": 0.3,\n",
    "    \"ATT_DP\": 0.3\n",
    "}"
   ]
  },
  {
   "cell_type": "code",
   "execution_count": 4,
   "id": "f447cef7",
   "metadata": {
    "id": "f447cef7"
   },
   "outputs": [],
   "source": [
    "MAX_LEN = 70    # From BERT-like_grids.ipynb\n",
    "\n",
    "# Early stopping parameters\n",
    "MIN_DELTA = 20\n",
    "PATIENCE = 2"
   ]
  },
  {
   "cell_type": "code",
   "execution_count": 5,
   "id": "5fvJ_1LpKsWS",
   "metadata": {
    "id": "5fvJ_1LpKsWS"
   },
   "outputs": [
    {
     "name": "stdout",
     "output_type": "stream",
     "text": [
      "True\n"
     ]
    }
   ],
   "source": [
    "print(torch.cuda.is_available())"
   ]
  },
  {
   "cell_type": "code",
   "execution_count": 6,
   "id": "5577ecaf",
   "metadata": {
    "id": "5577ecaf"
   },
   "outputs": [
    {
     "name": "stdout",
     "output_type": "stream",
     "text": [
      "cuda:0\n"
     ]
    }
   ],
   "source": [
    "device = torch.device(\"cuda:0\" if torch.cuda.is_available() else \"cpu\")\n",
    "#device = \"cpu\"\n",
    "print(device)"
   ]
  },
  {
   "cell_type": "markdown",
   "id": "4f65c6ac",
   "metadata": {
    "id": "4f65c6ac"
   },
   "source": [
    "## Data Preprocessing"
   ]
  },
  {
   "cell_type": "code",
   "execution_count": 7,
   "id": "33b6f2f1-3ee0-4e3c-ab04-4ff181694ed0",
   "metadata": {
    "id": "33b6f2f1-3ee0-4e3c-ab04-4ff181694ed0",
    "tags": []
   },
   "outputs": [],
   "source": [
    "# Load the train, validation and test datasets\n",
    "train_url = '../../data/New dataset/BERT/train_tweets_Transformers_new.csv'\n",
    "val_url = '../../data/New dataset/BERT/eval_tweets_Transformers_new.csv'\n",
    "test_url = '../../data/New dataset/BERT/test_tweets_Transformers_new.csv'\n",
    "\n",
    "train_df = pd.read_csv(train_url)\n",
    "eval_df = pd.read_csv(val_url)\n",
    "test_df = pd.read_csv(test_url)"
   ]
  },
  {
   "cell_type": "markdown",
   "id": "a39e0ad8-0e47-4732-9677-ab5317586490",
   "metadata": {
    "id": "a39e0ad8-0e47-4732-9677-ab5317586490"
   },
   "source": [
    "### Labels encoding"
   ]
  },
  {
   "cell_type": "code",
   "execution_count": 8,
   "id": "bf879a08-3774-4c1f-8d44-5931d715e9d6",
   "metadata": {
    "id": "bf879a08-3774-4c1f-8d44-5931d715e9d6",
    "tags": []
   },
   "outputs": [
    {
     "name": "stdout",
     "output_type": "stream",
     "text": [
      "{'ethnicity': 0, 'age': 1, 'gender': 2, 'not_cyberbullying': 3, 'religion': 4} \n",
      "\n"
     ]
    },
    {
     "name": "stderr",
     "output_type": "stream",
     "text": [
      "/tmp/ipykernel_2316038/422983025.py:13: FutureWarning: Downcasting behavior in `replace` is deprecated and will be removed in a future version. To retain the old behavior, explicitly call `result.infer_objects(copy=False)`. To opt-in to the future behavior, set `pd.set_option('future.no_silent_downcasting', True)`\n",
      "  train_df['label'] = train_df.cyberbullying_type.replace(label_dict).infer_objects(copy=False)\n",
      "/tmp/ipykernel_2316038/422983025.py:16: FutureWarning: Downcasting behavior in `replace` is deprecated and will be removed in a future version. To retain the old behavior, explicitly call `result.infer_objects(copy=False)`. To opt-in to the future behavior, set `pd.set_option('future.no_silent_downcasting', True)`\n",
      "  eval_df['label'] = eval_df.cyberbullying_type.replace(label_dict).infer_objects(copy=False)\n",
      "/tmp/ipykernel_2316038/422983025.py:17: FutureWarning: Downcasting behavior in `replace` is deprecated and will be removed in a future version. To retain the old behavior, explicitly call `result.infer_objects(copy=False)`. To opt-in to the future behavior, set `pd.set_option('future.no_silent_downcasting', True)`\n",
      "  test_df['label'] = test_df.cyberbullying_type.replace(label_dict).infer_objects(copy=False)\n"
     ]
    },
    {
     "data": {
      "text/html": [
       "<div>\n",
       "<style scoped>\n",
       "    .dataframe tbody tr th:only-of-type {\n",
       "        vertical-align: middle;\n",
       "    }\n",
       "\n",
       "    .dataframe tbody tr th {\n",
       "        vertical-align: top;\n",
       "    }\n",
       "\n",
       "    .dataframe thead th {\n",
       "        text-align: right;\n",
       "    }\n",
       "</style>\n",
       "<table border=\"1\" class=\"dataframe\">\n",
       "  <thead>\n",
       "    <tr style=\"text-align: right;\">\n",
       "      <th></th>\n",
       "      <th>tweet_text</th>\n",
       "      <th>cyberbullying_type</th>\n",
       "      <th>label</th>\n",
       "    </tr>\n",
       "  </thead>\n",
       "  <tbody>\n",
       "    <tr>\n",
       "      <th>0</th>\n",
       "      <td>not true but when world colored by bigotry/rac...</td>\n",
       "      <td>ethnicity</td>\n",
       "      <td>0</td>\n",
       "    </tr>\n",
       "    <tr>\n",
       "      <th>1</th>\n",
       "      <td>u bully one white kid in ur school's christian...</td>\n",
       "      <td>age</td>\n",
       "      <td>1</td>\n",
       "    </tr>\n",
       "    <tr>\n",
       "      <th>2</th>\n",
       "      <td>its not a gay rape joke which i often complain...</td>\n",
       "      <td>gender</td>\n",
       "      <td>2</td>\n",
       "    </tr>\n",
       "    <tr>\n",
       "      <th>3</th>\n",
       "      <td>nah dont need explain hope ur well how r u</td>\n",
       "      <td>not_cyberbullying</td>\n",
       "      <td>3</td>\n",
       "    </tr>\n",
       "    <tr>\n",
       "      <th>4</th>\n",
       "      <td>hahahaha</td>\n",
       "      <td>not_cyberbullying</td>\n",
       "      <td>3</td>\n",
       "    </tr>\n",
       "  </tbody>\n",
       "</table>\n",
       "</div>"
      ],
      "text/plain": [
       "                                          tweet_text cyberbullying_type  label\n",
       "0  not true but when world colored by bigotry/rac...          ethnicity      0\n",
       "1  u bully one white kid in ur school's christian...                age      1\n",
       "2  its not a gay rape joke which i often complain...             gender      2\n",
       "3         nah dont need explain hope ur well how r u  not_cyberbullying      3\n",
       "4                                           hahahaha  not_cyberbullying      3"
      ]
     },
     "execution_count": 8,
     "metadata": {},
     "output_type": "execute_result"
    }
   ],
   "source": [
    "# Identify all unique labels in the training dataset\n",
    "possible_labels = train_df.cyberbullying_type.unique()\n",
    "\n",
    "# Create a dictionary to map each unique label to a numeric index\n",
    "label_dict = {}\n",
    "for index, possible_label in enumerate(possible_labels):\n",
    "    label_dict[possible_label] = index\n",
    "\n",
    "print(label_dict, \"\\n\")\n",
    "\n",
    "# Replace the text labels with numeric labels in the training dataframe\n",
    "# and ensure the column is inferred as the correct data type without copying the data\n",
    "train_df['label'] = train_df.cyberbullying_type.replace(label_dict).infer_objects(copy=False)\n",
    "\n",
    "# Do the same replacement for the validation and test dataframes\n",
    "eval_df['label'] = eval_df.cyberbullying_type.replace(label_dict).infer_objects(copy=False)\n",
    "test_df['label'] = test_df.cyberbullying_type.replace(label_dict).infer_objects(copy=False)\n",
    "\n",
    "train_df.head()"
   ]
  },
  {
   "cell_type": "markdown",
   "id": "e725ddd8-9b25-4b09-808a-6c03872bb315",
   "metadata": {
    "id": "e725ddd8-9b25-4b09-808a-6c03872bb315"
   },
   "source": [
    "## Define utility functions to prepare the data"
   ]
  },
  {
   "cell_type": "code",
   "execution_count": 9,
   "id": "f86a94e0-5b3b-4060-887e-c27898f5a1a2",
   "metadata": {
    "id": "f86a94e0-5b3b-4060-887e-c27898f5a1a2",
    "tags": []
   },
   "outputs": [],
   "source": [
    "# Encode the data using the specified tokenizer\n",
    "def encode_data(df, tokenizer):\n",
    "    encoded_data = tokenizer.batch_encode_plus(\n",
    "        df.tweet_text.values,               # The tweet texts to be encoded\n",
    "        add_special_tokens = True,          # Add [CLS] and [SEP] special tokens\n",
    "        return_attention_mask = True,       # Return attention masks\n",
    "        max_length = MAX_LEN,\n",
    "        padding = 'max_length',             # Pad to the maximum length\n",
    "        truncation = True,                  # Truncate to the maximum length\n",
    "        return_tensors = 'pt'               # Return PyTorch tensors\n",
    "    )\n",
    "    return encoded_data"
   ]
  },
  {
   "cell_type": "code",
   "execution_count": 10,
   "id": "e44888af",
   "metadata": {
    "id": "e44888af"
   },
   "outputs": [],
   "source": [
    "# Encodes the data and create DataLoader objects for training and validation datasets\n",
    "def get_dataloaders(tokenizer, batch_size):\n",
    "\n",
    "    # Encode data\n",
    "    encoded_data_train = encode_data(train_df, tokenizer)\n",
    "    encoded_data_val = encode_data(eval_df, tokenizer)\n",
    "    encoded_data_test = encode_data(test_df, tokenizer)\n",
    "\n",
    "    # Extract input_ids_train and attention_masks_train; convert labels into tensors\n",
    "    input_ids_train = encoded_data_train['input_ids']\n",
    "    attention_masks_train = encoded_data_train['attention_mask']\n",
    "    labels_train = torch.tensor(train_df.label.values)\n",
    "\n",
    "    input_ids_val = encoded_data_val['input_ids']\n",
    "    attention_masks_val = encoded_data_val['attention_mask']\n",
    "    labels_val = torch.tensor(eval_df.label.values)\n",
    "\n",
    "    input_ids_test = encoded_data_test['input_ids']\n",
    "    attention_masks_test = encoded_data_test['attention_mask']\n",
    "    labels_test = torch.tensor(test_df.label.values)\n",
    "\n",
    "    # Create datasets based on tensors, combining the input IDs, attention masks, and labels for the training set into a TensorDataset.\n",
    "    # This allows the data to be easily accessed and used by PyTorch's DataLoader.\n",
    "    dataset_train = TensorDataset(input_ids_train, attention_masks_train, labels_train)\n",
    "    dataset_val = TensorDataset(input_ids_val, attention_masks_val, labels_val)\n",
    "    dataset_test = TensorDataset(input_ids_test, attention_masks_test, labels_test)\n",
    "\n",
    "    # Create DataLoader for the training set with random sampling\n",
    "    dataloader_train = DataLoader(dataset_train,\n",
    "                              sampler=RandomSampler(dataset_train),\n",
    "                              batch_size=batch_size)\n",
    "\n",
    "    # Create DataLoader for the validation set and test set with sequential sampling\n",
    "    dataloader_validation = DataLoader(dataset_val,\n",
    "                                   sampler=SequentialSampler(dataset_val),\n",
    "                                   batch_size=batch_size)\n",
    "\n",
    "    dataloader_test = DataLoader(dataset_test,\n",
    "                                   sampler=SequentialSampler(dataset_test),\n",
    "                                   batch_size=batch_size)\n",
    "\n",
    "    return dataloader_train, dataloader_validation, dataloader_test"
   ]
  },
  {
   "cell_type": "markdown",
   "id": "632cfbe7",
   "metadata": {
    "id": "632cfbe7"
   },
   "source": [
    "## Define utility functions for compute the metrics"
   ]
  },
  {
   "cell_type": "code",
   "execution_count": 11,
   "id": "ff1aa890-f7b0-47a4-987d-d343c087e5c1",
   "metadata": {
    "id": "ff1aa890-f7b0-47a4-987d-d343c087e5c1",
    "tags": []
   },
   "outputs": [],
   "source": [
    "# Calculate the accuracy for each class\n",
    "# Parameters\n",
    "# - predictions: predicted values from the model\n",
    "# - labels: true labels from the dataset\n",
    "def accuracy_per_class(predictions, labels):\n",
    "\n",
    "    # Create an inverse label dictionary to map numeric labels back to their original class names\n",
    "    label_dict_inverse = {v: k for k, v in label_dict.items()}\n",
    "\n",
    "    # Flatten the predictions and labels\n",
    "    preds_flat = np.argmax(predictions, axis=1).flatten()\n",
    "    labels_flat = labels.flatten()\n",
    "\n",
    "    # Calculate and print the accuracy for each class\n",
    "    for label in np.unique(labels_flat):\n",
    "        y_preds = preds_flat[labels_flat==label]    # Predictions for the current class\n",
    "        y_true = labels_flat[labels_flat==label]    # True labels for the current class\n",
    "        print(f'Class: {label_dict_inverse[label]}')\n",
    "        print(f'Accuracy: {len(y_preds[y_preds==label])}/{len(y_true)}\\n')\n",
    "\n",
    "# Calculate the overall accuracy of the predictions\n",
    "def calculate_accuracy(predictions, true_vals):\n",
    "    # Flatten the predictions and labels\n",
    "    preds_flat = np.argmax(predictions, axis=1).flatten()\n",
    "    labels_flat = true_vals.flatten()\n",
    "\n",
    "    # Calculate and return the accuracy score\n",
    "    return accuracy_score(labels_flat, preds_flat)"
   ]
  },
  {
   "cell_type": "markdown",
   "id": "132f0ba2",
   "metadata": {
    "id": "132f0ba2"
   },
   "source": [
    "## Training"
   ]
  },
  {
   "cell_type": "code",
   "execution_count": 12,
   "id": "0d0494fe-1780-4438-a34b-3cf334fb0c92",
   "metadata": {
    "id": "0d0494fe-1780-4438-a34b-3cf334fb0c92",
    "tags": []
   },
   "outputs": [],
   "source": [
    "#Train the model for one epoch.\n",
    "def train_one_epoch(model, history, dataloader_train, optimizer):\n",
    "\n",
    "    # Set the model to training mode\n",
    "    model.train()\n",
    "\n",
    "    # Initialize progress bar for training\n",
    "    train_progress = tqdm(dataloader_train, desc=\"Training\", leave=False, disable=False)\n",
    "    loss_train_total = 0\n",
    "    correct_train, total_train = 0, 0\n",
    "\n",
    "    for batch in train_progress:\n",
    "\n",
    "        # Zero the gradients\n",
    "        model.zero_grad()\n",
    "\n",
    "        # Move batch to the specified device\n",
    "        batch = tuple(b.to(device) for b in batch)\n",
    "\n",
    "        # Prepare inputs for the model\n",
    "        inputs = {'input_ids':    batch[0],\n",
    "                'attention_mask': batch[1],\n",
    "                'labels':         batch[2].long(),\n",
    "                }\n",
    "\n",
    "        # Forward pass: compute predictions and loss\n",
    "        outputs = model(**inputs)\n",
    "\n",
    "        # Get the loss from the outputs\n",
    "        loss = outputs[0]\n",
    "        loss_train_total += loss.item()\n",
    "\n",
    "        # Backward pass: compute the gradients\n",
    "        loss.backward()\n",
    "\n",
    "        # Clip the gradients to prevent exploding gradients\n",
    "        torch.nn.utils.clip_grad_norm_(model.parameters(), 1.0)\n",
    "\n",
    "        optimizer.step()\n",
    "\n",
    "        # Update progress bar\n",
    "        train_progress.set_postfix({'training_loss': '{:.3f}'.format(loss.item()/len(batch))})\n",
    "\n",
    "        # Calculate the number of correct predictions and total samples\n",
    "        _, preds = torch.max(outputs[1], dim=1)\n",
    "        correct_train += torch.sum(preds == inputs['labels'])\n",
    "        total_train += len(inputs['labels'])\n",
    "\n",
    "    # Calculate the average training loss and accuracy\n",
    "    loss_train_avg = loss_train_total / len(dataloader_train)\n",
    "    train_acc = correct_train.double() / total_train\n",
    "    tqdm.write(f'Average Training loss: {loss_train_avg}')\n",
    "\n",
    "    # Append metrics to history\n",
    "    history['train_loss'].append(loss_train_avg)\n",
    "    history['train_acc'].append(train_acc)\n",
    "\n",
    "    return loss_train_avg, history"
   ]
  },
  {
   "cell_type": "code",
   "execution_count": 13,
   "id": "592fc221-4039-440f-a8bf-8749c8068847",
   "metadata": {
    "id": "592fc221-4039-440f-a8bf-8749c8068847",
    "tags": []
   },
   "outputs": [],
   "source": [
    "# Evaluate the model for one epoch on the validation set\n",
    "def eval_one_epoch(model, history, dataloader_val):\n",
    "\n",
    "    # Set the model to evaluation mode\n",
    "    model.eval()\n",
    "\n",
    "    loss_val_total = 0\n",
    "    predictions, true_vals = [], []\n",
    "\n",
    "    for batch in dataloader_val:\n",
    "\n",
    "        # Move batch to the specified device\n",
    "        batch = tuple(b.to(device) for b in batch)\n",
    "\n",
    "        # Prepare inputs for the model\n",
    "        inputs = {'input_ids':      batch[0],\n",
    "                  'attention_mask': batch[1],\n",
    "                  'labels':         batch[2],\n",
    "                 }\n",
    "\n",
    "        # Forward pass: compute predictions and loss without gradient calculation\n",
    "        with torch.no_grad():\n",
    "            outputs = model(**inputs)\n",
    "\n",
    "        loss = outputs[0]\n",
    "        logits = outputs[1]\n",
    "        loss_val_total += loss.item()\n",
    "\n",
    "        # Move logits and labels to CPU and convert to numpy arrays\n",
    "        logits = logits.detach().cpu().numpy()\n",
    "        label_ids = inputs['labels'].cpu().numpy()\n",
    "\n",
    "        predictions.append(logits)\n",
    "        true_vals.append(label_ids)\n",
    "\n",
    "    # Concatenate all predictions and true labels\n",
    "    predictions = np.concatenate(predictions, axis=0)\n",
    "    true_vals = np.concatenate(true_vals, axis=0)\n",
    "\n",
    "    val_accuracy = calculate_accuracy(predictions, true_vals)\n",
    "\n",
    "    avg_val_loss = loss_val_total/len(dataloader_val)\n",
    "    avg_val_acc = val_accuracy / len(dataloader_val)\n",
    "\n",
    "    tqdm.write(f'Validation loss: {avg_val_loss}')\n",
    "    tqdm.write(f'Validation Accuracy: {val_accuracy}')\n",
    "\n",
    "    # Append metrics to history\n",
    "    history['val_loss'].append(avg_val_loss)\n",
    "    history['val_acc'].append(val_accuracy)\n",
    "\n",
    "    return avg_val_acc, avg_val_loss, predictions, true_vals, history"
   ]
  },
  {
   "cell_type": "code",
   "execution_count": 14,
   "id": "5fdd01f5",
   "metadata": {
    "id": "5fdd01f5"
   },
   "outputs": [],
   "source": [
    "class EarlyStopping(object):\n",
    "    \"\"\"\n",
    "    Implements early stopping to terminate training when the validation loss stops improving.\n",
    "\n",
    "    Parameters:\n",
    "    - min_delta: minimum change in the monitored metric to qualify as an improvement\n",
    "    - patience: number of epochs to wait for an improvement before stopping.\n",
    "    - percentage: whether to interpret min_delta as a percentage or an absolute number.\n",
    "    \"\"\"\n",
    "\n",
    "    def __init__(self, min_delta=0, patience=1, percentage=True):\n",
    "        self.min_delta = min_delta\n",
    "        self.patience = patience\n",
    "        self.best = None            # Best metric observed so far\n",
    "        self.num_bad_epochs = 0     # Counter for epochs with no improvement\n",
    "        self.is_better = None       # Function to determine if the current metric is better than the best observed\n",
    "        self._init_is_better(min_delta, percentage)     # Initialize the comparison function\n",
    "\n",
    "    def step(self, metrics):\n",
    "        if self.best is None:\n",
    "            self.best = metrics     # Initialize the best metric with the first value\n",
    "            return False            # Continue training\n",
    "\n",
    "        if not isinstance(metrics, torch.Tensor):\n",
    "            metrics = torch.tensor(metrics)\n",
    "\n",
    "        if torch.isnan(metrics):\n",
    "            print(\"Error: TORCH IS NAN\")\n",
    "            return True\n",
    "\n",
    "        if self.is_better(metrics, self.best):\n",
    "            # If an improvement is registered, reset the counter and update the best metric\n",
    "            self.num_bad_epochs = 0\n",
    "            self.best = metrics\n",
    "        else:\n",
    "            # If no improvement, increase the counter\n",
    "            self.num_bad_epochs += 1\n",
    "\n",
    "        if self.num_bad_epochs >= self.patience:\n",
    "            # Stop training if the number of bad epochs exceeds patience\n",
    "            print(Fore.BLUE + Style.BRIGHT + 'terminating because of early stopping!'+ Style.RESET_ALL)\n",
    "            return True\n",
    "\n",
    "        return False    # Continue training\n",
    "\n",
    "    def _init_is_better(self, min_delta, percentage):\n",
    "        if not percentage:\n",
    "            # Use absolute change for comparison\n",
    "            self.is_better = lambda a, best: a < best - min_delta\n",
    "        else:\n",
    "            # Use percentage change for comparison\n",
    "            self.is_better = lambda a, best: a < best - (best * min_delta / 100)"
   ]
  },
  {
   "cell_type": "code",
   "execution_count": 15,
   "id": "3d9bca08-996b-4367-a422-98a3a79f66e9",
   "metadata": {
    "id": "3d9bca08-996b-4367-a422-98a3a79f66e9"
   },
   "outputs": [],
   "source": [
    "def execute(model_info):\n",
    "\n",
    "    \"\"\"\n",
    "    Execute the training and evaluation process for a BERT model.\n",
    "\n",
    "    Parameters:\n",
    "    - model_info: a dictionary containing model configuration such as NAME, BATCH_SIZE, EPOCHS, LR, ...\n",
    "\n",
    "    Returns:\n",
    "    - model: the trained BERT model\n",
    "    - tokenizer: the tokenizer used for encoding the data\n",
    "    - history: a dictionary containing the training and validation loss and accuracy history\n",
    "    - dataloader_test: DataLoader for the test data\n",
    "    \"\"\"\n",
    "\n",
    "    # Initialize history dictionary\n",
    "    history = {\n",
    "        'train_loss': [],\n",
    "        'val_loss': [],\n",
    "        'train_acc': [],\n",
    "        'val_acc': []\n",
    "    }\n",
    "\n",
    "    # Extract model configuration from the dictionary\n",
    "    name = model_info[\"NAME\"]\n",
    "    batch_size = model_info[\"BATCH_SIZE\"]\n",
    "    epochs = model_info[\"EPOCHS\"]\n",
    "    lr = model_info[\"LR\"]\n",
    "    hid_dp = model_info[\"HID_DP\"]\n",
    "    att_dp = model_info[\"ATT_DP\"]\n",
    "\n",
    "    tokenizer = BertTokenizer.from_pretrained(name, do_lower_case=True)\n",
    "\n",
    "    # Get DataLoader objects for training, validation and test sets\n",
    "    dataloader_train, dataloader_validation, dataloader_test = get_dataloaders(tokenizer, batch_size)\n",
    "\n",
    "    # Initialize the BERT configuration\n",
    "    config = BertConfig.from_pretrained(name,\n",
    "                                    hidden_dropout_prob=hid_dp,\n",
    "                                    attention_probs_dropout_prob=att_dp,\n",
    "                                    num_labels=len(label_dict),\n",
    "                                    output_attentions=False,\n",
    "                                    output_hidden_states=False)\n",
    "\n",
    "    model = BertForSequenceClassification.from_pretrained(name, config=config)\n",
    "\n",
    "    optimizer = AdamW(model.parameters(), lr)\n",
    "\n",
    "    # Move the model to the specified device\n",
    "    model.to(device)\n",
    "\n",
    "    print(\"\\n*** Start TRAINING ***\")\n",
    "\n",
    "    early_stopping = EarlyStopping(min_delta=MIN_DELTA, patience=PATIENCE)\n",
    "    train_loss, validation_loss, validation_acc = [], [], []\n",
    "    total_acc_score = 0\n",
    "\n",
    "    for i in range(0, epochs):\n",
    "        print(Fore.GREEN + Style.BRIGHT + f\"Epoch {i+1}\" +Style.RESET_ALL)\n",
    "\n",
    "        # Train the model for one epoch\n",
    "        avg_train_loss_one_epoch, history = train_one_epoch(model, history, dataloader_train, optimizer)\n",
    "        train_loss.append(avg_train_loss_one_epoch)\n",
    "\n",
    "        # Validate the model\n",
    "        epoch_acc_score, avg_val_loss_one_epoch, predictions, true_vals, history = eval_one_epoch(model, history, dataloader_validation)\n",
    "        validation_loss.append(avg_val_loss_one_epoch)\n",
    "        validation_acc.append(epoch_acc_score)\n",
    "\n",
    "        total_acc_score += epoch_acc_score\n",
    "\n",
    "        # Check for early stopping\n",
    "        if early_stopping.step(avg_val_loss_one_epoch):\n",
    "            print(\"We are at epoch:\", i+1)\n",
    "            break\n",
    "\n",
    "\n",
    "    print(\"\\n*** END ***\")\n",
    "\n",
    "    # Save the trained model\n",
    "    model_name = model.config.name_or_path\n",
    "    torch.save(model.state_dict(), f'../../data/Transformers/finetuned_{model_name}.model')\n",
    "    print(\"\\tModel saved successfully!\")\n",
    "\n",
    "    # Calculate accuracy per class\n",
    "    accuracy_per_class(predictions, true_vals)\n",
    "\n",
    "    # Flatten predictions and labels for confusion matrix and classification report\n",
    "    preds_flat = np.argmax(predictions, axis=1).flatten()\n",
    "    labels_flat = true_vals.flatten()\n",
    "\n",
    "    # Print classification Report\n",
    "    print(\"Classification Report:\\n\")\n",
    "    print(classification_report(labels_flat, preds_flat, target_names=possible_labels))\n",
    "\n",
    "    print(\"\\n\\n\\t***************************\\n\\n\")\n",
    "\n",
    "    # Print confusion Matrix\n",
    "    # Calculate confusion matrix\n",
    "    cm = confusion_matrix(labels_flat, preds_flat)\n",
    "    \n",
    "    # Plot confusion matrix with title\n",
    "    sns.heatmap(cm, annot=True, fmt='d', cmap='Blues', xticklabels=possible_labels, yticklabels=possible_labels, cbar=False)\n",
    "    plt.title(\"Test\")\n",
    "    plt.ylabel('Actual')\n",
    "    plt.xlabel('Predicted')\n",
    "    plt.show()\n",
    "\n",
    "    return model, tokenizer, history, dataloader_test"
   ]
  },
  {
   "cell_type": "code",
   "execution_count": 16,
   "id": "a922bbea",
   "metadata": {
    "id": "a922bbea"
   },
   "outputs": [],
   "source": [
    "def show_plots(history):\n",
    "    def convert_to_numpy(val):\n",
    "        if isinstance(val, torch.Tensor):\n",
    "            return val.cpu()\n",
    "        return val\n",
    "\n",
    "    # Extract and convert the values\n",
    "    train_loss = [convert_to_numpy(t) for t in history['train_loss']]\n",
    "    val_loss = [convert_to_numpy(t) for t in history['val_loss']]\n",
    "    train_acc = [convert_to_numpy(t) for t in history['train_acc']]\n",
    "    val_acc = [convert_to_numpy(t) for t in history['val_acc']]\n",
    "\n",
    "    # Plot training & validation loss values\n",
    "    plt.figure(figsize=(12, 4))\n",
    "\n",
    "    plt.subplot(1, 2, 1)\n",
    "    plt.plot(train_loss, label='Training Loss')\n",
    "    plt.plot(val_loss, label='Validation Loss')\n",
    "    plt.title('Loss')\n",
    "    plt.xlabel('Epochs')\n",
    "    plt.ylabel('Loss')\n",
    "    plt.legend()\n",
    "\n",
    "    # Plot training & validation accuracy values\n",
    "    plt.subplot(1, 2, 2)\n",
    "    plt.plot(train_acc, label='Training Accuracy')\n",
    "    plt.plot(val_acc, label='Validation Accuracy')\n",
    "    plt.title('Accuracy')\n",
    "    plt.xlabel('Epochs')\n",
    "    plt.ylabel('Accuracy')\n",
    "    plt.legend()\n",
    "\n",
    "    plt.show()"
   ]
  },
  {
   "cell_type": "code",
   "execution_count": 17,
   "id": "07897c6e",
   "metadata": {
    "id": "07897c6e"
   },
   "outputs": [
    {
     "name": "stderr",
     "output_type": "stream",
     "text": [
      "/home/g.russo55/HLT/lib/python3.10/site-packages/huggingface_hub/file_download.py:1132: FutureWarning: `resume_download` is deprecated and will be removed in version 1.0.0. Downloads always resume when possible. If you want to force a new download, use `force_download=True`.\n",
      "  warnings.warn(\n",
      "Some weights of BertForSequenceClassification were not initialized from the model checkpoint at bert-large-uncased-whole-word-masking and are newly initialized: ['classifier.bias', 'classifier.weight']\n",
      "You should probably TRAIN this model on a down-stream task to be able to use it for predictions and inference.\n"
     ]
    },
    {
     "name": "stdout",
     "output_type": "stream",
     "text": [
      "\n",
      "*** Start TRAINING ***\n",
      "\u001b[32m\u001b[1mEpoch 1\u001b[0m\n"
     ]
    },
    {
     "data": {
      "application/vnd.jupyter.widget-view+json": {
       "model_id": "",
       "version_major": 2,
       "version_minor": 0
      },
      "text/plain": [
       "Training:   0%|          | 0/394 [00:00<?, ?it/s]"
      ]
     },
     "metadata": {},
     "output_type": "display_data"
    },
    {
     "name": "stdout",
     "output_type": "stream",
     "text": [
      "Average Training loss: 0.3984033662771456\n",
      "Validation loss: 0.26007476313547656\n",
      "Validation Accuracy: 0.9174703557312253\n",
      "\u001b[32m\u001b[1mEpoch 2\u001b[0m\n"
     ]
    },
    {
     "data": {
      "application/vnd.jupyter.widget-view+json": {
       "model_id": "",
       "version_major": 2,
       "version_minor": 0
      },
      "text/plain": [
       "Training:   0%|          | 0/394 [00:00<?, ?it/s]"
      ]
     },
     "metadata": {},
     "output_type": "display_data"
    },
    {
     "name": "stdout",
     "output_type": "stream",
     "text": [
      "Average Training loss: 0.21051818551259294\n",
      "Validation loss: 0.2776137871874703\n",
      "Validation Accuracy: 0.9171541501976285\n",
      "\u001b[32m\u001b[1mEpoch 3\u001b[0m\n"
     ]
    },
    {
     "data": {
      "application/vnd.jupyter.widget-view+json": {
       "model_id": "",
       "version_major": 2,
       "version_minor": 0
      },
      "text/plain": [
       "Training:   0%|          | 0/394 [00:00<?, ?it/s]"
      ]
     },
     "metadata": {},
     "output_type": "display_data"
    },
    {
     "name": "stdout",
     "output_type": "stream",
     "text": [
      "Average Training loss: 0.1910820367088929\n",
      "Validation loss: 0.24390758404677565\n",
      "Validation Accuracy: 0.9245849802371542\n",
      "\u001b[34m\u001b[1mterminating because of early stopping!\u001b[0m\n",
      "We are at epoch: 3\n",
      "\n",
      "*** END ***\n",
      "\tModel saved successfully!\n",
      "Class: ethnicity\n",
      "Accuracy: 1243/1290\n",
      "\n",
      "Class: age\n",
      "Accuracy: 1245/1266\n",
      "\n",
      "Class: gender\n",
      "Accuracy: 1097/1220\n",
      "\n",
      "Class: not_cyberbullying\n",
      "Accuracy: 1011/1246\n",
      "\n",
      "Class: religion\n",
      "Accuracy: 1252/1303\n",
      "\n",
      "Classification Report:\n",
      "\n",
      "                   precision    recall  f1-score   support\n",
      "\n",
      "        ethnicity       0.99      0.96      0.98      1290\n",
      "              age       0.96      0.98      0.97      1266\n",
      "           gender       0.88      0.90      0.89      1220\n",
      "not_cyberbullying       0.84      0.81      0.82      1246\n",
      "         religion       0.95      0.96      0.96      1303\n",
      "\n",
      "         accuracy                           0.92      6325\n",
      "        macro avg       0.92      0.92      0.92      6325\n",
      "     weighted avg       0.92      0.92      0.92      6325\n",
      "\n",
      "\n",
      "\n",
      "\t***************************\n",
      "\n",
      "\n"
     ]
    },
    {
     "data": {
      "image/png": "[encoded data removed]",
      "text/plain": [
       "<Figure size 640x480 with 1 Axes>"
      ]
     },
     "metadata": {},
     "output_type": "display_data"
    }
   ],
   "source": [
    "model_2, tokenizer_2, history_2, dataloader_test_2 = execute(model_2_info)"
   ]
  },
  {
   "cell_type": "markdown",
   "id": "460f8dd7",
   "metadata": {},
   "source": [
    "***Here we show the plots of the loss and accuracy by counting the number of epochs from 0***"
   ]
  },
  {
   "cell_type": "code",
   "execution_count": 18,
   "id": "37d7336f-c7f1-46cc-8efd-8ffda7b4b57a",
   "metadata": {},
   "outputs": [
    {
     "data": {
      "image/png": "[encoded data removed]",
      "text/plain": [
       "<Figure size 1200x400 with 2 Axes>"
      ]
     },
     "metadata": {},
     "output_type": "display_data"
    }
   ],
   "source": [
    "show_plots(history_2)"
   ]
  },
  {
   "cell_type": "markdown",
   "id": "52aeda6e",
   "metadata": {
    "id": "52aeda6e"
   },
   "source": [
    "## Evaluate test set"
   ]
  },
  {
   "cell_type": "code",
   "execution_count": 21,
   "id": "575f2cac",
   "metadata": {
    "id": "575f2cac"
   },
   "outputs": [],
   "source": [
    "def evaluate_model(model, dataloader_test):\n",
    "    model.eval()\n",
    "    predictions, true_labels = [], []\n",
    "\n",
    "    for batch in dataloader_test:\n",
    "\n",
    "        input_ids, attention_masks, labels = batch\n",
    "\n",
    "        input_ids = input_ids.to(device)\n",
    "        attention_masks = attention_masks.to(device)\n",
    "        labels = labels.to(device)\n",
    "\n",
    "        with torch.no_grad():\n",
    "            outputs = model(input_ids, token_type_ids=None,\n",
    "                        attention_mask=attention_masks)\n",
    "\n",
    "        logits = outputs.logits\n",
    "\n",
    "        logits = torch.argmax(logits, dim=1).flatten().cpu().numpy()\n",
    "        label_ids = labels.cpu().numpy()\n",
    "\n",
    "        predictions.extend(logits)\n",
    "        true_labels.extend(label_ids)\n",
    "\n",
    "    accuracy = accuracy_score(true_labels, predictions)\n",
    "    precision = precision_score(true_labels, predictions, average='weighted')\n",
    "    recall = recall_score(true_labels, predictions, average='weighted')\n",
    "\n",
    "    print(f'Accuracy: {accuracy}')\n",
    "    print(f'Precision: {precision}')\n",
    "    print(f'Recall: {recall}')\n",
    "\n",
    "    \n",
    "    # Print classification Report\n",
    "    print(\"Classification Report:\\n\")\n",
    "    print(classification_report(true_labels, predictions, target_names=possible_labels))\n",
    "\n",
    "    print(\"\\n\\n\\t***************************\\n\\n\")\n",
    "\n",
    "    # Print confusion Matrix\n",
    "    # Calculate confusion matrix\n",
    "    cm = confusion_matrix(true_labels, predictions)\n",
    "    \n",
    "    # Plot confusion matrix with title\n",
    "    sns.heatmap(cm, annot=True, fmt='d', cmap='Blues', xticklabels=possible_labels, yticklabels=possible_labels, cbar=False)\n",
    "    plt.title(\"Test\")\n",
    "    plt.ylabel('Actual')\n",
    "    plt.xlabel('Predicted')\n",
    "    plt.show()"
   ]
  },
  {
   "cell_type": "code",
   "execution_count": 22,
   "id": "94053833-4297-417e-b1a8-97e7585a9d06",
   "metadata": {
    "id": "94053833-4297-417e-b1a8-97e7585a9d06"
   },
   "outputs": [
    {
     "name": "stdout",
     "output_type": "stream",
     "text": [
      "Accuracy: 0.9382896661790132\n",
      "Precision: 0.9382241640568804\n",
      "Recall: 0.9382896661790132\n",
      "Classification Report:\n",
      "\n",
      "                   precision    recall  f1-score   support\n",
      "\n",
      "        ethnicity       0.99      0.97      0.98      1502\n",
      "              age       0.97      0.98      0.98      1568\n",
      "           gender       0.90      0.93      0.91      1497\n",
      "not_cyberbullying       0.86      0.84      0.85      1338\n",
      "         religion       0.96      0.96      0.96      1614\n",
      "\n",
      "         accuracy                           0.94      7519\n",
      "        macro avg       0.94      0.94      0.94      7519\n",
      "     weighted avg       0.94      0.94      0.94      7519\n",
      "\n",
      "\n",
      "\n",
      "\t***************************\n",
      "\n",
      "\n"
     ]
    },
    {
     "data": {
      "image/png": "[encoded data removed]",
      "text/plain": [
       "<Figure size 640x480 with 1 Axes>"
      ]
     },
     "metadata": {},
     "output_type": "display_data"
    }
   ],
   "source": [
    "evaluate_model(model_2, dataloader_test_2)"
   ]
  }
 ],
 "metadata": {
  "accelerator": "GPU",
  "colab": {
   "gpuType": "T4",
   "provenance": []
  },
  "kernelspec": {
   "display_name": "Python 3 (ipykernel)",
   "language": "python",
   "name": "python3"
  },
  "language_info": {
   "codemirror_mode": {
    "name": "ipython",
    "version": 3
   },
   "file_extension": ".py",
   "mimetype": "text/x-python",
   "name": "python",
   "nbconvert_exporter": "python",
   "pygments_lexer": "ipython3",
   "version": "3.10.12"
  }
 },
 "nbformat": 4,
 "nbformat_minor": 5
}
