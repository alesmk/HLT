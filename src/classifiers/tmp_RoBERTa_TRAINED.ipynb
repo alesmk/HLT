{
 "cells": [
  {
   "cell_type": "markdown",
   "id": "d6406adc-7273-4fbb-9dae-b6ee9e4fc153",
   "metadata": {},
   "source": [
    "# RoBERTa"
   ]
  },
  {
   "cell_type": "code",
   "execution_count": 1,
   "id": "90fff070-230e-47ad-975c-436c0800d7f0",
   "metadata": {
    "tags": []
   },
   "outputs": [
    {
     "name": "stdout",
     "output_type": "stream",
     "text": [
      "importing Jupyter notebook from /Users/alessia/UniProjects/HLT/src/classifiers/../data_preparation/Preprocessing.ipynb\n"
     ]
    }
   ],
   "source": [
    "import sys\n",
    "sys.path.append('..')\n",
    "\n",
    "import import_ipynb\n",
    "from data_preparation import Preprocessing"
   ]
  },
  {
   "cell_type": "code",
   "execution_count": 2,
   "id": "56c11e6d-ea4b-4f37-bb7d-d9bc77b7a8cf",
   "metadata": {},
   "outputs": [],
   "source": [
    "import pandas as pd\n",
    "import numpy as np\n",
    "from sklearn.model_selection import train_test_split\n",
    "\n",
    "# Transformers library for BERT\n",
    "import transformers\n",
    "from transformers import AdamW, get_linear_schedule_with_warmup\n",
    "from sklearn.metrics import classification_report, confusion_matrix\n",
    "from transformers import RobertaModel, RobertaTokenizer\n",
    "\n",
    "# PyTorch LSTM\n",
    "import torch\n",
    "import torch.nn as nn\n",
    "import torch.nn.functional as F\n",
    "import torch.optim as optim\n",
    "from torch.utils.data import TensorDataset, DataLoader, RandomSampler, SequentialSampler\n",
    "import time\n",
    "\n",
    "# Set seed for reproducibility\n",
    "import random\n",
    "seed_value = 2042\n",
    "random.seed(seed_value)\n",
    "np.random.seed(seed_value)\n",
    "torch.manual_seed(seed_value)\n",
    "torch.cuda.manual_seed_all(seed_value)"
   ]
  },
  {
   "cell_type": "code",
   "execution_count": 3,
   "id": "33b6f2f1-3ee0-4e3c-ab04-4ff181694ed0",
   "metadata": {
    "tags": []
   },
   "outputs": [],
   "source": [
    "df = pd.read_csv('../../data/updated_tweets.csv')"
   ]
  },
  {
   "cell_type": "markdown",
   "id": "e196a56f-d3b3-4a12-aa88-bed2620b4943",
   "metadata": {},
   "source": [
    "### Normalize"
   ]
  },
  {
   "cell_type": "code",
   "execution_count": 4,
   "id": "66a232c0-d63b-4d7a-a5e1-1e6176db611c",
   "metadata": {},
   "outputs": [],
   "source": [
    "def normalize_tweet_BERT(tweet):\n",
    "    tweet = Preprocessing.remove_links_mentions(tweet)\n",
    "    tweet = tweet.lower()\n",
    "    tweet = Preprocessing.remove_hashtag(tweet)\n",
    "    tweet = Preprocessing.remove_special_characters(tweet)\n",
    " \n",
    "    tweet = Preprocessing.remove_spaces(tweet)\n",
    "    tweet = Preprocessing.remove_textual_emojis(tweet)\n",
    "    tweet = Preprocessing.remove_not_ASCII(tweet)\n",
    "\n",
    "    return tweet"
   ]
  },
  {
   "cell_type": "code",
   "execution_count": 5,
   "id": "2f2104fe-5603-444d-b2e9-f7a44c08505f",
   "metadata": {
    "tags": []
   },
   "outputs": [],
   "source": [
    "df['tweet_text'] = df['tweet_text'].apply(normalize_tweet_BERT)\n",
    "df = Preprocessing.clean_normalized_df(df)"
   ]
  },
  {
   "cell_type": "code",
   "execution_count": 6,
   "id": "afb15ce3-cccc-43ab-81ac-20d91dcd016f",
   "metadata": {
    "tags": []
   },
   "outputs": [
    {
     "data": {
      "text/plain": [
       "cyberbullying_type\n",
       "religion             7963\n",
       "age                  7949\n",
       "ethnicity            7893\n",
       "not_cyberbullying    7711\n",
       "gender               7665\n",
       "Name: count, dtype: int64"
      ]
     },
     "execution_count": 6,
     "metadata": {},
     "output_type": "execute_result"
    }
   ],
   "source": [
    "df['cyberbullying_type'].value_counts()"
   ]
  },
  {
   "cell_type": "markdown",
   "id": "7f1948bb-5530-49b1-a236-a91c156d182d",
   "metadata": {},
   "source": [
    "In seguito a questo risultato, confermiamo che i dati sono bilanciati"
   ]
  },
  {
   "cell_type": "markdown",
   "id": "a39e0ad8-0e47-4732-9677-ab5317586490",
   "metadata": {},
   "source": [
    "### Labels encoding"
   ]
  },
  {
   "cell_type": "code",
   "execution_count": 7,
   "id": "bf879a08-3774-4c1f-8d44-5931d715e9d6",
   "metadata": {
    "tags": []
   },
   "outputs": [
    {
     "data": {
      "text/plain": [
       "{'not_cyberbullying': 0, 'gender': 1, 'religion': 2, 'age': 3, 'ethnicity': 4}"
      ]
     },
     "execution_count": 7,
     "metadata": {},
     "output_type": "execute_result"
    }
   ],
   "source": [
    "possible_labels = df.cyberbullying_type.unique()\n",
    "\n",
    "label_dict = {}\n",
    "for index, possible_label in enumerate(possible_labels):\n",
    "    label_dict[possible_label] = index\n",
    "label_dict"
   ]
  },
  {
   "cell_type": "markdown",
   "id": "e725ddd8-9b25-4b09-808a-6c03872bb315",
   "metadata": {},
   "source": [
    "Sostituiamo nel dataset"
   ]
  },
  {
   "cell_type": "code",
   "execution_count": 8,
   "id": "95cecf9f-88dc-4547-8261-5c42cc9ea66e",
   "metadata": {
    "tags": []
   },
   "outputs": [
    {
     "data": {
      "text/html": [
       "<div>\n",
       "<style scoped>\n",
       "    .dataframe tbody tr th:only-of-type {\n",
       "        vertical-align: middle;\n",
       "    }\n",
       "\n",
       "    .dataframe tbody tr th {\n",
       "        vertical-align: top;\n",
       "    }\n",
       "\n",
       "    .dataframe thead th {\n",
       "        text-align: right;\n",
       "    }\n",
       "</style>\n",
       "<table border=\"1\" class=\"dataframe\">\n",
       "  <thead>\n",
       "    <tr style=\"text-align: right;\">\n",
       "      <th></th>\n",
       "      <th>tweet_text</th>\n",
       "      <th>cyberbullying_type</th>\n",
       "      <th>label</th>\n",
       "    </tr>\n",
       "  </thead>\n",
       "  <tbody>\n",
       "    <tr>\n",
       "      <th>0</th>\n",
       "      <td>in other words katandandre, your food was crap...</td>\n",
       "      <td>not_cyberbullying</td>\n",
       "      <td>0</td>\n",
       "    </tr>\n",
       "    <tr>\n",
       "      <th>1</th>\n",
       "      <td>why is aussietv so white?</td>\n",
       "      <td>not_cyberbullying</td>\n",
       "      <td>0</td>\n",
       "    </tr>\n",
       "    <tr>\n",
       "      <th>2</th>\n",
       "      <td>a classy whore? or more red velvet cupcakes?</td>\n",
       "      <td>not_cyberbullying</td>\n",
       "      <td>0</td>\n",
       "    </tr>\n",
       "  </tbody>\n",
       "</table>\n",
       "</div>"
      ],
      "text/plain": [
       "                                          tweet_text cyberbullying_type  label\n",
       "0  in other words katandandre, your food was crap...  not_cyberbullying      0\n",
       "1                          why is aussietv so white?  not_cyberbullying      0\n",
       "2       a classy whore? or more red velvet cupcakes?  not_cyberbullying      0"
      ]
     },
     "execution_count": 8,
     "metadata": {},
     "output_type": "execute_result"
    }
   ],
   "source": [
    "df['label'] = df.cyberbullying_type.replace(label_dict)\n",
    "df.head(3)"
   ]
  },
  {
   "cell_type": "markdown",
   "id": "c654eea2",
   "metadata": {},
   "source": [
    "### Dataset split"
   ]
  },
  {
   "cell_type": "code",
   "execution_count": 9,
   "id": "9558e8c4-83cf-43cf-b402-4a793c5e8d4b",
   "metadata": {
    "tags": []
   },
   "outputs": [],
   "source": [
    "X = df['tweet_text'].values\n",
    "y = df['label'].values\n",
    "\n",
    "X_train, X_test, y_train, y_test = train_test_split(X, y, test_size=0.2, stratify=y, random_state=seed_value)\n",
    "X_train, X_valid, y_train, y_valid = train_test_split(X_train, y_train, test_size=0.2, stratify=y_train, random_state=seed_value)"
   ]
  },
  {
   "cell_type": "markdown",
   "id": "42ee57b7-80cb-4c05-be58-b3304bbc4a34",
   "metadata": {},
   "source": [
    "### RoBERTa Tokenization"
   ]
  },
  {
   "cell_type": "code",
   "execution_count": 10,
   "id": "941c3709-bfb1-4a68-a006-b1bc086f8310",
   "metadata": {
    "tags": []
   },
   "outputs": [],
   "source": [
    "model_name = 'roberta-base'\n",
    "tokenizer = RobertaTokenizer.from_pretrained(model_name, truncation=True, do_lower_case=True)"
   ]
  },
  {
   "cell_type": "code",
   "execution_count": 11,
   "id": "f2e5cd0f",
   "metadata": {},
   "outputs": [
    {
     "name": "stdout",
     "output_type": "stream",
     "text": [
      "La lunghezza media dei tweet è: 135.88479109772595\n"
     ]
    }
   ],
   "source": [
    "def calcola_media_lunghezza_tweet(tweets):\n",
    "    \"\"\"\n",
    "    Calcola la lunghezza media dei tweet in una lista.\n",
    "\n",
    "    Args:\n",
    "    tweets (list of str): Lista di tweet.\n",
    "\n",
    "    Returns:\n",
    "    float: Lunghezza media dei tweet.\n",
    "    \"\"\"\n",
    "    if not tweets:\n",
    "        return 0.0\n",
    "\n",
    "    lunghezze = [len(tweet) for tweet in tweets]\n",
    "    media_lunghezza = sum(lunghezze) / len(lunghezze)\n",
    "    return media_lunghezza\n",
    "\n",
    "tweets = df['tweet_text'].tolist()\n",
    "media_lunghezza = calcola_media_lunghezza_tweet(tweets)\n",
    "print(f\"La lunghezza media dei tweet è: {media_lunghezza}\")\n"
   ]
  },
  {
   "cell_type": "code",
   "execution_count": 12,
   "id": "c4443727-24e1-40e9-aafb-ac19f24846c1",
   "metadata": {},
   "outputs": [],
   "source": [
    "MAX_LEN = 150"
   ]
  },
  {
   "cell_type": "code",
   "execution_count": 13,
   "id": "7e389956",
   "metadata": {},
   "outputs": [],
   "source": [
    "#pip install keras"
   ]
  },
  {
   "cell_type": "code",
   "execution_count": 14,
   "id": "93cb196a",
   "metadata": {},
   "outputs": [
    {
     "name": "stdout",
     "output_type": "stream",
     "text": [
      "Requirement already satisfied: tensorflow in /opt/anaconda3/lib/python3.11/site-packages (2.16.1)\n",
      "Requirement already satisfied: absl-py>=1.0.0 in /opt/anaconda3/lib/python3.11/site-packages (from tensorflow) (2.1.0)\n",
      "Requirement already satisfied: astunparse>=1.6.0 in /opt/anaconda3/lib/python3.11/site-packages (from tensorflow) (1.6.3)\n",
      "Requirement already satisfied: flatbuffers>=23.5.26 in /opt/anaconda3/lib/python3.11/site-packages (from tensorflow) (24.3.25)\n",
      "Requirement already satisfied: gast!=0.5.0,!=0.5.1,!=0.5.2,>=0.2.1 in /opt/anaconda3/lib/python3.11/site-packages (from tensorflow) (0.5.4)\n",
      "Requirement already satisfied: google-pasta>=0.1.1 in /opt/anaconda3/lib/python3.11/site-packages (from tensorflow) (0.2.0)\n",
      "Requirement already satisfied: h5py>=3.10.0 in /opt/anaconda3/lib/python3.11/site-packages (from tensorflow) (3.11.0)\n",
      "Requirement already satisfied: libclang>=13.0.0 in /opt/anaconda3/lib/python3.11/site-packages (from tensorflow) (18.1.1)\n",
      "Requirement already satisfied: ml-dtypes~=0.3.1 in /opt/anaconda3/lib/python3.11/site-packages (from tensorflow) (0.3.2)\n",
      "Requirement already satisfied: opt-einsum>=2.3.2 in /opt/anaconda3/lib/python3.11/site-packages (from tensorflow) (3.3.0)\n",
      "Requirement already satisfied: packaging in /opt/anaconda3/lib/python3.11/site-packages (from tensorflow) (23.1)\n",
      "Requirement already satisfied: protobuf!=4.21.0,!=4.21.1,!=4.21.2,!=4.21.3,!=4.21.4,!=4.21.5,<5.0.0dev,>=3.20.3 in /opt/anaconda3/lib/python3.11/site-packages (from tensorflow) (3.20.3)\n",
      "Requirement already satisfied: requests<3,>=2.21.0 in /opt/anaconda3/lib/python3.11/site-packages (from tensorflow) (2.31.0)\n",
      "Requirement already satisfied: setuptools in /opt/anaconda3/lib/python3.11/site-packages (from tensorflow) (68.2.2)\n",
      "Requirement already satisfied: six>=1.12.0 in /opt/anaconda3/lib/python3.11/site-packages (from tensorflow) (1.16.0)\n",
      "Requirement already satisfied: termcolor>=1.1.0 in /opt/anaconda3/lib/python3.11/site-packages (from tensorflow) (2.4.0)\n",
      "Requirement already satisfied: typing-extensions>=3.6.6 in /opt/anaconda3/lib/python3.11/site-packages (from tensorflow) (4.9.0)\n",
      "Requirement already satisfied: wrapt>=1.11.0 in /opt/anaconda3/lib/python3.11/site-packages (from tensorflow) (1.14.1)\n",
      "Requirement already satisfied: grpcio<2.0,>=1.24.3 in /opt/anaconda3/lib/python3.11/site-packages (from tensorflow) (1.63.0)\n",
      "Requirement already satisfied: tensorboard<2.17,>=2.16 in /opt/anaconda3/lib/python3.11/site-packages (from tensorflow) (2.16.2)\n",
      "Requirement already satisfied: keras>=3.0.0 in /opt/anaconda3/lib/python3.11/site-packages (from tensorflow) (3.3.3)\n",
      "Requirement already satisfied: tensorflow-io-gcs-filesystem>=0.23.1 in /opt/anaconda3/lib/python3.11/site-packages (from tensorflow) (0.37.0)\n",
      "Requirement already satisfied: numpy<2.0.0,>=1.23.5 in /opt/anaconda3/lib/python3.11/site-packages (from tensorflow) (1.26.4)\n",
      "Requirement already satisfied: wheel<1.0,>=0.23.0 in /opt/anaconda3/lib/python3.11/site-packages (from astunparse>=1.6.0->tensorflow) (0.41.2)\n",
      "Requirement already satisfied: rich in /opt/anaconda3/lib/python3.11/site-packages (from keras>=3.0.0->tensorflow) (13.3.5)\n",
      "Requirement already satisfied: namex in /opt/anaconda3/lib/python3.11/site-packages (from keras>=3.0.0->tensorflow) (0.0.8)\n",
      "Requirement already satisfied: optree in /opt/anaconda3/lib/python3.11/site-packages (from keras>=3.0.0->tensorflow) (0.11.0)\n",
      "Requirement already satisfied: charset-normalizer<4,>=2 in /opt/anaconda3/lib/python3.11/site-packages (from requests<3,>=2.21.0->tensorflow) (2.0.4)\n",
      "Requirement already satisfied: idna<4,>=2.5 in /opt/anaconda3/lib/python3.11/site-packages (from requests<3,>=2.21.0->tensorflow) (3.4)\n",
      "Requirement already satisfied: urllib3<3,>=1.21.1 in /opt/anaconda3/lib/python3.11/site-packages (from requests<3,>=2.21.0->tensorflow) (2.0.7)\n",
      "Requirement already satisfied: certifi>=2017.4.17 in /opt/anaconda3/lib/python3.11/site-packages (from requests<3,>=2.21.0->tensorflow) (2024.2.2)\n",
      "Requirement already satisfied: markdown>=2.6.8 in /opt/anaconda3/lib/python3.11/site-packages (from tensorboard<2.17,>=2.16->tensorflow) (3.4.1)\n",
      "Requirement already satisfied: tensorboard-data-server<0.8.0,>=0.7.0 in /opt/anaconda3/lib/python3.11/site-packages (from tensorboard<2.17,>=2.16->tensorflow) (0.7.2)\n",
      "Requirement already satisfied: werkzeug>=1.0.1 in /opt/anaconda3/lib/python3.11/site-packages (from tensorboard<2.17,>=2.16->tensorflow) (2.2.3)\n",
      "Requirement already satisfied: MarkupSafe>=2.1.1 in /opt/anaconda3/lib/python3.11/site-packages (from werkzeug>=1.0.1->tensorboard<2.17,>=2.16->tensorflow) (2.1.3)\n",
      "Requirement already satisfied: markdown-it-py<3.0.0,>=2.2.0 in /opt/anaconda3/lib/python3.11/site-packages (from rich->keras>=3.0.0->tensorflow) (2.2.0)\n",
      "Requirement already satisfied: pygments<3.0.0,>=2.13.0 in /opt/anaconda3/lib/python3.11/site-packages (from rich->keras>=3.0.0->tensorflow) (2.15.1)\n",
      "Requirement already satisfied: mdurl~=0.1 in /opt/anaconda3/lib/python3.11/site-packages (from markdown-it-py<3.0.0,>=2.2.0->rich->keras>=3.0.0->tensorflow) (0.1.0)\n",
      "Note: you may need to restart the kernel to use updated packages.\n"
     ]
    }
   ],
   "source": [
    "pip install tensorflow"
   ]
  },
  {
   "cell_type": "code",
   "execution_count": 15,
   "id": "f86a94e0-5b3b-4060-887e-c27898f5a1a2",
   "metadata": {
    "tags": []
   },
   "outputs": [
    {
     "name": "stdout",
     "output_type": "stream",
     "text": [
      "Max length:  415\n"
     ]
    }
   ],
   "source": [
    "from keras.preprocessing.sequence import pad_sequences\n",
    "\n",
    "\n",
    "'''def encode_data(data_type):\n",
    "    encoded_data = tokenizer.batch_encode_plus(\n",
    "        df[df.data_type == data_type].tweet_text.values, \n",
    "        add_special_tokens = True,         # Add [CLS] and [SEP] special tokens\n",
    "        return_attention_mask = True,      # it will return the attention mask according to the specific tokenizer defined by the max_length attribute\n",
    "        max_length = MAX_LEN,\n",
    "        padding = 'max_length', \n",
    "        truncation = True,\n",
    "        return_tensors = 'pt'              # return pytorch, i tensori servono a rappresentare e manipolare dati multidimensionali in modo efficiente\n",
    "    )\n",
    "    return encoded_data\n",
    "'''\n",
    "\n",
    "def roberta_tokenizer(data, max_len=MAX_LEN):\n",
    "    print(MAX_LEN)\n",
    "    input_ids = []\n",
    "    attention_masks = []\n",
    "    for sent in data:\n",
    "        encoded_sent = tokenizer.encode_plus(\n",
    "            text=sent,\n",
    "            add_special_tokens=True,        # Add [CLS] and [SEP] special tokens\n",
    "            max_length=max_len,             # Choose max length to truncate/pad\n",
    "            padding = 'max_length', \n",
    "            return_attention_mask=True      # Return attention mask\n",
    "            )\n",
    "        input_ids.append(encoded_sent.get('input_ids'))\n",
    "        attention_masks.append(encoded_sent.get('attention_mask'))\n",
    "\n",
    "    input_ids = pad_sequences(input_ids, maxlen=max_len, dtype=\"long\", value=0, truncating=\"post\", padding=\"post\")\n",
    "    attention_masks = pad_sequences(attention_masks, maxlen=max_len, dtype=\"long\", value=0, truncating=\"post\", padding=\"post\")\n",
    "\n",
    "    # Convert lists to tensors\n",
    "    input_ids = torch.tensor(input_ids)\n",
    "    attention_masks = torch.tensor(attention_masks)\n",
    "\n",
    "    return input_ids, attention_masks\n",
    "\n",
    "# Tokenize train tweets\n",
    "encoded_tweets = [tokenizer.encode(sent, add_special_tokens=True) for sent in X_train]\n",
    "\n",
    "# Find the longest tokenized tweet\n",
    "maxx_len = max([len(sent) for sent in encoded_tweets])\n",
    "print('Max length: ', maxx_len)"
   ]
  },
  {
   "cell_type": "markdown",
   "id": "f2b995a0-8a2e-414b-84b6-2c8ef8126e6c",
   "metadata": {},
   "source": [
    "Tokenize the train, validation and test tweets using the custom define tokenizer."
   ]
  },
  {
   "cell_type": "code",
   "execution_count": 16,
   "id": "e9272843-4c82-47f0-87f2-c81c2dc361f0",
   "metadata": {},
   "outputs": [
    {
     "name": "stdout",
     "output_type": "stream",
     "text": [
      "150\n",
      "150\n",
      "150\n"
     ]
    }
   ],
   "source": [
    "train_inputs, train_masks = roberta_tokenizer(X_train)\n",
    "val_inputs, val_masks = roberta_tokenizer(X_valid)\n",
    "test_inputs, test_masks = roberta_tokenizer(X_test)"
   ]
  },
  {
   "cell_type": "code",
   "execution_count": 17,
   "id": "8a6c06bb-4e06-436b-923a-a4a671c95f11",
   "metadata": {},
   "outputs": [],
   "source": [
    "#print(train_inputs[1])\n",
    "#train_masks[1]"
   ]
  },
  {
   "cell_type": "markdown",
   "id": "2e6bab98-e703-4889-93ef-da55a21f5efc",
   "metadata": {},
   "source": [
    "Since we are using the BERT model built on PyTorch, we need to convert the arrays to pytorch tensors and create *dataloaders* for the data.\n"
   ]
  },
  {
   "cell_type": "code",
   "execution_count": 18,
   "id": "e21dd865-9e0b-4b6d-a3cf-1b5e16ae7c29",
   "metadata": {},
   "outputs": [
    {
     "data": {
      "text/plain": [
       "tensor([1, 3, 3,  ..., 1, 1, 2])"
      ]
     },
     "execution_count": 18,
     "metadata": {},
     "output_type": "execute_result"
    }
   ],
   "source": [
    "# Convert target columns to pytorch tensors format\n",
    "train_labels = torch.from_numpy(y_train)\n",
    "val_labels = torch.from_numpy(y_valid)\n",
    "test_labels = torch.from_numpy(y_test)\n",
    "train_labels"
   ]
  },
  {
   "cell_type": "markdown",
   "id": "035262d6-0fc3-40e0-929a-66f55acb0f49",
   "metadata": {},
   "source": [
    "#### Dataloaders"
   ]
  },
  {
   "cell_type": "code",
   "execution_count": 19,
   "id": "0a859dac-9f77-4bac-aa4a-56d1813748a4",
   "metadata": {},
   "outputs": [],
   "source": [
    "batch_size = 32\n",
    "# Create the DataLoader for our training set\n",
    "train_data = TensorDataset(train_inputs, train_masks, train_labels)\n",
    "train_sampler = RandomSampler(train_data)\n",
    "train_dataloader = DataLoader(train_data, sampler=train_sampler, batch_size=batch_size)\n",
    "\n",
    "# Create the DataLoader for our validation set\n",
    "val_data = TensorDataset(val_inputs, val_masks, val_labels)\n",
    "val_sampler = SequentialSampler(val_data)\n",
    "val_dataloader = DataLoader(val_data, sampler=val_sampler, batch_size=batch_size)\n",
    "\n",
    "# Create the DataLoader for our test set\n",
    "test_data = TensorDataset(test_inputs, test_masks, test_labels)\n",
    "test_sampler = SequentialSampler(test_data)\n",
    "test_dataloader = DataLoader(test_data, sampler=test_sampler, batch_size=batch_size)"
   ]
  },
  {
   "cell_type": "markdown",
   "id": "30f67249-dabf-478e-8ddd-eba0ecc86e69",
   "metadata": {},
   "source": [
    "#### ROBERTA Modeling"
   ]
  },
  {
   "cell_type": "code",
   "execution_count": 20,
   "id": "001eb01a-0a3a-4709-9cef-caabe454923f",
   "metadata": {},
   "outputs": [
    {
     "name": "stderr",
     "output_type": "stream",
     "text": [
      "Some weights of RobertaModel were not initialized from the model checkpoint at roberta-base and are newly initialized: ['roberta.pooler.dense.bias', 'roberta.pooler.dense.weight']\n",
      "You should probably TRAIN this model on a down-stream task to be able to use it for predictions and inference.\n",
      "/opt/anaconda3/lib/python3.11/site-packages/transformers/optimization.py:521: FutureWarning: This implementation of AdamW is deprecated and will be removed in a future version. Use the PyTorch implementation torch.optim.AdamW instead, or set `no_deprecation_warning=True` to disable this warning\n",
      "  warnings.warn(\n"
     ]
    }
   ],
   "source": [
    "#La classe Roberta_Classifier eredita da nn.Module e rappresenta \n",
    "# il modello di classificazione basato su RoBERTa\n",
    "\n",
    "class Roberta_Classifier(nn.Module):\n",
    "    def __init__(self, freeze_bert=False):\n",
    "        super(Roberta_Classifier, self).__init__()\n",
    "        # Specify hidden size of BERT, hidden size of the classifier, and number of labels\n",
    "        n_input = 768\n",
    "        n_hidden = 50\n",
    "        n_output = 6\n",
    "\n",
    "        # Instantiate BERT model (pre-trained)\n",
    "        self.roberta = RobertaModel.from_pretrained(\"roberta-base\")\n",
    "\n",
    "        # Instantiate the classifier (a fully connected layer followed by a ReLU activation and another fully connected layer)\n",
    "        self.classifier = nn.Sequential(\n",
    "            nn.Linear(n_input, n_hidden),   #Un classificatore sequenziale con un livello lineare, dropout, attivazione LeakyReLU, e un altro livello lineare\n",
    "            nn.Dropout(0.2),    #definisce un livello di dropout con una probabilità di 0.3 per prevenire l'overfitting\n",
    "            nn.LeakyReLU(),\n",
    "            nn.Linear(n_hidden, n_output)\n",
    "        )\n",
    "\n",
    "        # Freeze the BERT model weights if freeze_bert is True (useful for feature extraction without fine-tuning)\n",
    "        if freeze_bert:\n",
    "            for param in self.roberta.parameters():\n",
    "                param.requires_grad = False\n",
    "\n",
    "    def forward(self, input_ids, attention_mask):\n",
    "        # Feed input data (input_ids and attention_mask) to BERT\n",
    "        outputs = self.roberta(input_ids=input_ids,\n",
    "                            attention_mask=attention_mask)\n",
    "\n",
    "        # Extract the last hidden state of the `[CLS]` token from the BERT output (useful for classification tasks)\n",
    "        last_hidden_state_cls = outputs[0][:, 0, :]\n",
    "\n",
    "        # Feed the extracted hidden state to the classifier to compute logits\n",
    "        logits = self.classifier(last_hidden_state_cls)\n",
    "\n",
    "        return logits\n",
    "\n",
    "#Moreover, since we want to define a learning rate scheduler, we define a custom \"initalize_model\" function as follows.\n",
    "\n",
    "# Function for initializing the BERT Classifier model, optimizer, and learning rate scheduler\n",
    "def initialize_roberta_model(epochs):\n",
    "    # Instantiate Bert Classifier\n",
    "    roberta_classifier = Roberta_Classifier(freeze_bert=False)\n",
    "\n",
    "    roberta_classifier.to(device)\n",
    "\n",
    "    # Set up optimizer\n",
    "    optimizer = AdamW(roberta_classifier.parameters(),\n",
    "                      lr=2e-05,    # learning rate, set to default value\n",
    "                      eps=1e-8    # decay, set to default value\n",
    "                      )\n",
    "\n",
    "    # Calculate total number of training steps\n",
    "    total_steps = len(train_dataloader) * epochs\n",
    "\n",
    "    # Define the learning rate scheduler\n",
    "    scheduler = get_linear_schedule_with_warmup(optimizer,\n",
    "                                                num_warmup_steps=0, # Default value\n",
    "                                                num_training_steps=total_steps)\n",
    "    return roberta_classifier, optimizer, scheduler\n",
    "\n",
    "\n",
    "device = 'cuda' if torch.cuda.is_available() else 'cpu'\n",
    "EPOCHS=2\n",
    "\n",
    "#And then we intialize the BERT model calling the \"initialize_model\" function we defined.\n",
    "\n",
    "roberta_classifier, roberta_optimizer, roberta_scheduler = initialize_roberta_model(epochs=EPOCHS)"
   ]
  },
  {
   "cell_type": "markdown",
   "id": "9237b77e-f954-4479-a73f-35a8c46f3ac5",
   "metadata": {},
   "source": [
    "#### ROBERTA Training\n",
    "After defining the custom BERT classifier model, we are ready to start the training.\n",
    "\n"
   ]
  },
  {
   "cell_type": "code",
   "execution_count": 21,
   "id": "a9fc32dd-9d57-44cf-adec-2662c620ffbd",
   "metadata": {},
   "outputs": [
    {
     "data": {
      "text/plain": [
       "'# Define Cross entropy Loss function for the multiclass classification task\\nloss_fn = nn.CrossEntropyLoss()\\n\\ndef train(model, train_dataloader, optimizer, scheduler, epochs, val_dataloader=None, evaluation=False):\\n\\n    print(\"Start training...\\n\")\\n    for epoch_i in range(epochs):\\n        print(\"-\"*10)\\n        print(\"Epoch : {}\".format(epoch_i+1))\\n        print(\"-\"*10)\\n        print(\"-\"*38)\\n        print(f\"{\\'BATCH NO.\\':^7} | {\\'TRAIN LOSS\\':^12} | {\\'ELAPSED (s)\\':^9}\")\\n        print(\"-\"*38)\\n\\n        # Measure the elapsed time of each epoch\\n        t0_epoch, t0_batch = time.time(), time.time()\\n\\n        # Reset tracking variables at the beginning of each epoch\\n        total_loss, batch_loss, batch_counts = 0, 0, 0\\n        \\n        ###TRAINING###\\n\\n        # Put the model into the training mode\\n        model.train()\\n\\n        for step, batch in enumerate(train_dataloader):\\n            batch_counts +=1\\n            \\n            b_input_ids, b_attn_mask, b_labels = tuple(t.to(device) for t in batch)\\n\\n            # Zero out any previously calculated gradients\\n            model.zero_grad()\\n\\n            # Perform a forward pass and get logits.\\n            logits = model(b_input_ids, b_attn_mask)\\n\\n            # Compute loss and accumulate the loss values\\n            loss = loss_fn(logits, b_labels)\\n            batch_loss += loss.item()\\n            total_loss += loss.item()\\n\\n            # Perform a backward pass to calculate gradients\\n            loss.backward()\\n\\n            # Clip the norm of the gradients to 1.0 to prevent \"exploding gradients\"\\n            #torch.nn.utils.clip_grad_norm_(model.parameters(), 1.0)\\n\\n            # Update model parameters:\\n            # fine tune BERT params and train additional dense layers\\n            optimizer.step()\\n            # update learning rate\\n            scheduler.step()\\n\\n            # Print the loss values and time elapsed for every 100 batches\\n            if (step % 100 == 0 and step != 0) or (step == len(train_dataloader) - 1):\\n                # Calculate time elapsed for 20 batches\\n                time_elapsed = time.time() - t0_batch\\n                \\n                print(f\"{step:^9} | {batch_loss / batch_counts:^12.6f} | {time_elapsed:^9.2f}\")\\n\\n                # Reset batch tracking variables\\n                batch_loss, batch_counts = 0, 0\\n                t0_batch = time.time()\\n\\n        # Calculate the average loss over the entire training data\\n        avg_train_loss = total_loss / len(train_dataloader)\\n\\n        ###EVALUATION###\\n        \\n        # Put the model into the evaluation mode\\n        model.eval()\\n        \\n        # Define empty lists to host accuracy and validation for each batch\\n        val_accuracy = []\\n        val_loss = []\\n\\n        for batch in val_dataloader:\\n            batch_input_ids, batch_attention_mask, batch_labels = tuple(t.to(device) for t in batch)\\n            \\n            # We do not want to update the params during the evaluation,\\n            # So we specify that we dont want to compute the gradients of the tensors\\n            # by calling the torch.no_grad() method\\n            with torch.no_grad():\\n                logits = model(batch_input_ids, batch_attention_mask)\\n\\n            loss = loss_fn(logits, batch_labels)\\n\\n            val_loss.append(loss.item())\\n\\n            # Get the predictions starting from the logits (get index of highest logit)\\n            preds = torch.argmax(logits, dim=1).flatten()\\n\\n            # Calculate the validation accuracy \\n            accuracy = (preds == batch_labels).cpu().numpy().mean() * 100\\n            val_accuracy.append(accuracy)\\n\\n        # Compute the average accuracy and loss over the validation set\\n        val_loss = np.mean(val_loss)\\n        val_accuracy = np.mean(val_accuracy)\\n        \\n        # Print performance over the entire training data\\n        time_elapsed = time.time() - t0_epoch\\n        print(\"-\"*61)\\n        print(f\"{\\'AVG TRAIN LOSS\\':^12} | {\\'VAL LOSS\\':^10} | {\\'VAL ACCURACY (%)\\':^9} | {\\'ELAPSED (s)\\':^9}\")\\n        print(\"-\"*61)\\n        print(f\"{avg_train_loss:^14.6f} | {val_loss:^10.6f} | {val_accuracy:^17.2f} | {time_elapsed:^9.2f}\")\\n        print(\"-\"*61)\\n        print(\"\\n\")\\n    \\n    print(\"Training complete!\")\\n\\n#Roberta Training\\ntrain(roberta_classifier, train_dataloader,roberta_optimizer, roberta_scheduler, EPOCHS, val_dataloader)'"
      ]
     },
     "execution_count": 21,
     "metadata": {},
     "output_type": "execute_result"
    }
   ],
   "source": [
    "'''# Define Cross entropy Loss function for the multiclass classification task\n",
    "loss_fn = nn.CrossEntropyLoss()\n",
    "\n",
    "def train(model, train_dataloader, optimizer, scheduler, epochs, val_dataloader=None, evaluation=False):\n",
    "\n",
    "    print(\"Start training...\\n\")\n",
    "    for epoch_i in range(epochs):\n",
    "        print(\"-\"*10)\n",
    "        print(\"Epoch : {}\".format(epoch_i+1))\n",
    "        print(\"-\"*10)\n",
    "        print(\"-\"*38)\n",
    "        print(f\"{'BATCH NO.':^7} | {'TRAIN LOSS':^12} | {'ELAPSED (s)':^9}\")\n",
    "        print(\"-\"*38)\n",
    "\n",
    "        # Measure the elapsed time of each epoch\n",
    "        t0_epoch, t0_batch = time.time(), time.time()\n",
    "\n",
    "        # Reset tracking variables at the beginning of each epoch\n",
    "        total_loss, batch_loss, batch_counts = 0, 0, 0\n",
    "        \n",
    "        ###TRAINING###\n",
    "\n",
    "        # Put the model into the training mode\n",
    "        model.train()\n",
    "\n",
    "        for step, batch in enumerate(train_dataloader):\n",
    "            batch_counts +=1\n",
    "            \n",
    "            b_input_ids, b_attn_mask, b_labels = tuple(t.to(device) for t in batch)\n",
    "\n",
    "            # Zero out any previously calculated gradients\n",
    "            model.zero_grad()\n",
    "\n",
    "            # Perform a forward pass and get logits.\n",
    "            logits = model(b_input_ids, b_attn_mask)\n",
    "\n",
    "            # Compute loss and accumulate the loss values\n",
    "            loss = loss_fn(logits, b_labels)\n",
    "            batch_loss += loss.item()\n",
    "            total_loss += loss.item()\n",
    "\n",
    "            # Perform a backward pass to calculate gradients\n",
    "            loss.backward()\n",
    "\n",
    "            # Clip the norm of the gradients to 1.0 to prevent \"exploding gradients\"\n",
    "            #torch.nn.utils.clip_grad_norm_(model.parameters(), 1.0)\n",
    "\n",
    "            # Update model parameters:\n",
    "            # fine tune BERT params and train additional dense layers\n",
    "            optimizer.step()\n",
    "            # update learning rate\n",
    "            scheduler.step()\n",
    "\n",
    "            # Print the loss values and time elapsed for every 100 batches\n",
    "            if (step % 100 == 0 and step != 0) or (step == len(train_dataloader) - 1):\n",
    "                # Calculate time elapsed for 20 batches\n",
    "                time_elapsed = time.time() - t0_batch\n",
    "                \n",
    "                print(f\"{step:^9} | {batch_loss / batch_counts:^12.6f} | {time_elapsed:^9.2f}\")\n",
    "\n",
    "                # Reset batch tracking variables\n",
    "                batch_loss, batch_counts = 0, 0\n",
    "                t0_batch = time.time()\n",
    "\n",
    "        # Calculate the average loss over the entire training data\n",
    "        avg_train_loss = total_loss / len(train_dataloader)\n",
    "\n",
    "        ###EVALUATION###\n",
    "        \n",
    "        # Put the model into the evaluation mode\n",
    "        model.eval()\n",
    "        \n",
    "        # Define empty lists to host accuracy and validation for each batch\n",
    "        val_accuracy = []\n",
    "        val_loss = []\n",
    "\n",
    "        for batch in val_dataloader:\n",
    "            batch_input_ids, batch_attention_mask, batch_labels = tuple(t.to(device) for t in batch)\n",
    "            \n",
    "            # We do not want to update the params during the evaluation,\n",
    "            # So we specify that we dont want to compute the gradients of the tensors\n",
    "            # by calling the torch.no_grad() method\n",
    "            with torch.no_grad():\n",
    "                logits = model(batch_input_ids, batch_attention_mask)\n",
    "\n",
    "            loss = loss_fn(logits, batch_labels)\n",
    "\n",
    "            val_loss.append(loss.item())\n",
    "\n",
    "            # Get the predictions starting from the logits (get index of highest logit)\n",
    "            preds = torch.argmax(logits, dim=1).flatten()\n",
    "\n",
    "            # Calculate the validation accuracy \n",
    "            accuracy = (preds == batch_labels).cpu().numpy().mean() * 100\n",
    "            val_accuracy.append(accuracy)\n",
    "\n",
    "        # Compute the average accuracy and loss over the validation set\n",
    "        val_loss = np.mean(val_loss)\n",
    "        val_accuracy = np.mean(val_accuracy)\n",
    "        \n",
    "        # Print performance over the entire training data\n",
    "        time_elapsed = time.time() - t0_epoch\n",
    "        print(\"-\"*61)\n",
    "        print(f\"{'AVG TRAIN LOSS':^12} | {'VAL LOSS':^10} | {'VAL ACCURACY (%)':^9} | {'ELAPSED (s)':^9}\")\n",
    "        print(\"-\"*61)\n",
    "        print(f\"{avg_train_loss:^14.6f} | {val_loss:^10.6f} | {val_accuracy:^17.2f} | {time_elapsed:^9.2f}\")\n",
    "        print(\"-\"*61)\n",
    "        print(\"\\n\")\n",
    "    \n",
    "    print(\"Training complete!\")\n",
    "\n",
    "#Roberta Training\n",
    "train(roberta_classifier, train_dataloader,roberta_optimizer, roberta_scheduler, EPOCHS, val_dataloader)'''"
   ]
  },
  {
   "cell_type": "code",
   "execution_count": 22,
   "id": "690555c6",
   "metadata": {},
   "outputs": [
    {
     "name": "stdout",
     "output_type": "stream",
     "text": [
      "Start training...\n",
      "\n",
      "----------\n",
      "Epoch : 1\n",
      "----------\n",
      "--------------------------------------\n",
      "BATCH NO. |  TRAIN LOSS  | ELAPSED (s)\n",
      "--------------------------------------\n"
     ]
    },
    {
     "name": "stderr",
     "output_type": "stream",
     "text": [
      "Epoch 1:  13%|█▎        | 101/784 [11:39<1:17:45,  6.83s/it, train_loss=0.956]"
     ]
    },
    {
     "name": "stdout",
     "output_type": "stream",
     "text": [
      "   100    |   0.956399   |  699.37  \n"
     ]
    },
    {
     "name": "stderr",
     "output_type": "stream",
     "text": [
      "Epoch 1:  26%|██▌       | 201/784 [22:44<1:04:12,  6.61s/it, train_loss=0.672]"
     ]
    },
    {
     "name": "stdout",
     "output_type": "stream",
     "text": [
      "   200    |   0.385137   |  664.76  \n"
     ]
    },
    {
     "name": "stderr",
     "output_type": "stream",
     "text": [
      "Epoch 1:  38%|███▊      | 301/784 [34:00<55:13,  6.86s/it, train_loss=0.55]   "
     ]
    },
    {
     "name": "stdout",
     "output_type": "stream",
     "text": [
      "   300    |   0.304871   |  676.70  \n"
     ]
    },
    {
     "name": "stderr",
     "output_type": "stream",
     "text": [
      "Epoch 1:  51%|█████     | 401/784 [45:22<42:31,  6.66s/it, train_loss=0.489]"
     ]
    },
    {
     "name": "stdout",
     "output_type": "stream",
     "text": [
      "   400    |   0.304346   |  682.09  \n"
     ]
    },
    {
     "name": "stderr",
     "output_type": "stream",
     "text": [
      "Epoch 1:  64%|██████▍   | 501/784 [56:21<30:49,  6.54s/it, train_loss=0.451]"
     ]
    },
    {
     "name": "stdout",
     "output_type": "stream",
     "text": [
      "   500    |   0.298851   |  659.08  \n"
     ]
    },
    {
     "name": "stderr",
     "output_type": "stream",
     "text": [
      "Epoch 1:  77%|███████▋  | 601/784 [1:07:20<20:19,  6.66s/it, train_loss=0.42] "
     ]
    },
    {
     "name": "stdout",
     "output_type": "stream",
     "text": [
      "   600    |   0.267284   |  658.63  \n"
     ]
    },
    {
     "name": "stderr",
     "output_type": "stream",
     "text": [
      "Epoch 1:  89%|████████▉ | 701/784 [1:18:20<09:41,  7.00s/it, train_loss=0.401]"
     ]
    },
    {
     "name": "stdout",
     "output_type": "stream",
     "text": [
      "   700    |   0.285680   |  659.86  \n"
     ]
    },
    {
     "name": "stderr",
     "output_type": "stream",
     "text": [
      "Epoch 1: 100%|██████████| 784/784 [1:27:42<00:00,  6.71s/it, train_loss=0.386]"
     ]
    },
    {
     "name": "stdout",
     "output_type": "stream",
     "text": [
      "   783    |   0.261819   |  561.61  \n"
     ]
    },
    {
     "name": "stderr",
     "output_type": "stream",
     "text": [
      "\n"
     ]
    },
    {
     "name": "stdout",
     "output_type": "stream",
     "text": [
      "-------------------------------------------------------------\n",
      "AVG TRAIN LOSS |  VAL LOSS  | VAL ACCURACY (%) | ELAPSED (s)\n",
      "-------------------------------------------------------------\n",
      "   0.386408    |  0.232688  |       92.82       |  5553.12 \n",
      "-------------------------------------------------------------\n",
      "\n",
      "\n",
      "----------\n",
      "Epoch : 2\n",
      "----------\n",
      "--------------------------------------\n",
      "BATCH NO. |  TRAIN LOSS  | ELAPSED (s)\n",
      "--------------------------------------\n"
     ]
    },
    {
     "name": "stderr",
     "output_type": "stream",
     "text": [
      "Epoch 2:  13%|█▎        | 101/784 [11:32<1:17:06,  6.77s/it, train_loss=0.229]"
     ]
    },
    {
     "name": "stdout",
     "output_type": "stream",
     "text": [
      "   100    |   0.229102   |  692.23  \n"
     ]
    },
    {
     "name": "stderr",
     "output_type": "stream",
     "text": [
      "Epoch 2:  26%|██▌       | 201/784 [22:43<1:04:17,  6.62s/it, train_loss=0.209]"
     ]
    },
    {
     "name": "stdout",
     "output_type": "stream",
     "text": [
      "   200    |   0.187900   |  670.96  \n"
     ]
    },
    {
     "name": "stderr",
     "output_type": "stream",
     "text": [
      "Epoch 2:  38%|███▊      | 301/784 [33:44<53:23,  6.63s/it, train_loss=0.215]  "
     ]
    },
    {
     "name": "stdout",
     "output_type": "stream",
     "text": [
      "   300    |   0.226992   |  660.88  \n"
     ]
    },
    {
     "name": "stderr",
     "output_type": "stream",
     "text": [
      "Epoch 2:  51%|█████     | 401/784 [44:38<42:27,  6.65s/it, train_loss=0.217]"
     ]
    },
    {
     "name": "stdout",
     "output_type": "stream",
     "text": [
      "   400    |   0.223603   |  654.81  \n"
     ]
    },
    {
     "name": "stderr",
     "output_type": "stream",
     "text": [
      "Epoch 2:  64%|██████▍   | 501/784 [55:35<30:50,  6.54s/it, train_loss=0.214]"
     ]
    },
    {
     "name": "stdout",
     "output_type": "stream",
     "text": [
      "   500    |   0.203608   |  656.81  \n"
     ]
    },
    {
     "name": "stderr",
     "output_type": "stream",
     "text": [
      "Epoch 2:  77%|███████▋  | 601/784 [1:06:32<19:42,  6.46s/it, train_loss=0.211]"
     ]
    },
    {
     "name": "stdout",
     "output_type": "stream",
     "text": [
      "   600    |   0.197479   |  657.10  \n"
     ]
    },
    {
     "name": "stderr",
     "output_type": "stream",
     "text": [
      "Epoch 2:  89%|████████▉ | 701/784 [1:17:29<09:06,  6.59s/it, train_loss=0.209]"
     ]
    },
    {
     "name": "stdout",
     "output_type": "stream",
     "text": [
      "   700    |   0.193903   |  656.44  \n"
     ]
    },
    {
     "name": "stderr",
     "output_type": "stream",
     "text": [
      "Epoch 2: 100%|██████████| 784/784 [1:26:37<00:00,  6.63s/it, train_loss=0.207]"
     ]
    },
    {
     "name": "stdout",
     "output_type": "stream",
     "text": [
      "   783    |   0.186227   |  548.06  \n"
     ]
    },
    {
     "name": "stderr",
     "output_type": "stream",
     "text": [
      "\n"
     ]
    },
    {
     "name": "stdout",
     "output_type": "stream",
     "text": [
      "-------------------------------------------------------------\n",
      "AVG TRAIN LOSS |  VAL LOSS  | VAL ACCURACY (%) | ELAPSED (s)\n",
      "-------------------------------------------------------------\n",
      "   0.206562    |  0.205949  |       93.95       |  5492.50 \n",
      "-------------------------------------------------------------\n",
      "\n",
      "\n",
      "Training complete!\n"
     ]
    }
   ],
   "source": [
    "import time\n",
    "import torch\n",
    "import numpy as np\n",
    "from tqdm import tqdm\n",
    "from torch import nn\n",
    "\n",
    "# Define Cross entropy Loss function for the multiclass classification task\n",
    "loss_fn = nn.CrossEntropyLoss()\n",
    "\n",
    "def train(model, train_dataloader, optimizer, scheduler, epochs, val_dataloader=None, evaluation=False):\n",
    "\n",
    "    print(\"Start training...\\n\")\n",
    "    for epoch_i in range(epochs):\n",
    "        print(\"-\"*10)\n",
    "        print(\"Epoch : {}\".format(epoch_i+1))\n",
    "        print(\"-\"*10)\n",
    "        print(\"-\"*38)\n",
    "        print(f\"{'BATCH NO.':^7} | {'TRAIN LOSS':^12} | {'ELAPSED (s)':^9}\")\n",
    "        print(\"-\"*38)\n",
    "\n",
    "        # Measure the elapsed time of each epoch\n",
    "        t0_epoch, t0_batch = time.time(), time.time()\n",
    "\n",
    "        # Reset tracking variables at the beginning of each epoch\n",
    "        total_loss, batch_loss, batch_counts = 0, 0, 0\n",
    "        \n",
    "        ###TRAINING###\n",
    "\n",
    "        # Put the model into the training mode\n",
    "        model.train()\n",
    "\n",
    "        # Initialize the progress bar\n",
    "        progress_bar = tqdm(train_dataloader, desc=f\"Epoch {epoch_i+1}\")\n",
    "\n",
    "        for step, batch in enumerate(progress_bar):\n",
    "            batch_counts += 1\n",
    "            \n",
    "            b_input_ids, b_attn_mask, b_labels = tuple(t.to(device) for t in batch)\n",
    "\n",
    "            # Zero out any previously calculated gradients\n",
    "            model.zero_grad()\n",
    "\n",
    "            # Perform a forward pass and get logits.\n",
    "            logits = model(b_input_ids, b_attn_mask)\n",
    "\n",
    "            # Compute loss and accumulate the loss values\n",
    "            loss = loss_fn(logits, b_labels)\n",
    "            batch_loss += loss.item()\n",
    "            total_loss += loss.item()\n",
    "\n",
    "            # Perform a backward pass to calculate gradients\n",
    "            loss.backward()\n",
    "\n",
    "            # Clip the norm of the gradients to 1.0 to prevent \"exploding gradients\"\n",
    "            torch.nn.utils.clip_grad_norm_(model.parameters(), 1.0)\n",
    "\n",
    "            # Update model parameters:\n",
    "            # fine tune BERT params and train additional dense layers\n",
    "            optimizer.step()\n",
    "            # update learning rate\n",
    "            scheduler.step()\n",
    "\n",
    "            # Print the loss values and time elapsed for every 100 batches\n",
    "            if (step % 100 == 0 and step != 0) or (step == len(train_dataloader) - 1):\n",
    "                # Calculate time elapsed for 100 batches\n",
    "                time_elapsed = time.time() - t0_batch\n",
    "                \n",
    "                print(f\"{step:^9} | {batch_loss / batch_counts:^12.6f} | {time_elapsed:^9.2f}\")\n",
    "\n",
    "                # Reset batch tracking variables\n",
    "                batch_loss, batch_counts = 0, 0\n",
    "                t0_batch = time.time()\n",
    "\n",
    "            # Update the progress bar description with the current loss\n",
    "            progress_bar.set_postfix({'train_loss': total_loss / (step + 1)})\n",
    "\n",
    "        # Calculate the average loss over the entire training data\n",
    "        avg_train_loss = total_loss / len(train_dataloader)\n",
    "\n",
    "        ###EVALUATION###\n",
    "        \n",
    "        if evaluation and val_dataloader is not None:\n",
    "            # Put the model into the evaluation mode\n",
    "            model.eval()\n",
    "            \n",
    "            # Define empty lists to host accuracy and validation for each batch\n",
    "            val_accuracy = []\n",
    "            val_loss = []\n",
    "\n",
    "            for batch in val_dataloader:\n",
    "                batch_input_ids, batch_attention_mask, batch_labels = tuple(t.to(device) for t in batch)\n",
    "                \n",
    "                # We do not want to update the params during the evaluation,\n",
    "                # So we specify that we dont want to compute the gradients of the tensors\n",
    "                # by calling the torch.no_grad() method\n",
    "                with torch.no_grad():\n",
    "                    logits = model(batch_input_ids, batch_attention_mask)\n",
    "\n",
    "                loss = loss_fn(logits, batch_labels)\n",
    "\n",
    "                val_loss.append(loss.item())\n",
    "\n",
    "                # Get the predictions starting from the logits (get index of highest logit)\n",
    "                preds = torch.argmax(logits, dim=1).flatten()\n",
    "\n",
    "                # Calculate the validation accuracy \n",
    "                accuracy = (preds == batch_labels).cpu().numpy().mean() * 100\n",
    "                val_accuracy.append(accuracy)\n",
    "\n",
    "            # Compute the average accuracy and loss over the validation set\n",
    "            val_loss = np.mean(val_loss)\n",
    "            val_accuracy = np.mean(val_accuracy)\n",
    "        \n",
    "            # Print performance over the entire training data\n",
    "            time_elapsed = time.time() - t0_epoch\n",
    "            print(\"-\"*61)\n",
    "            print(f\"{'AVG TRAIN LOSS':^12} | {'VAL LOSS':^10} | {'VAL ACCURACY (%)':^9} | {'ELAPSED (s)':^9}\")\n",
    "            print(\"-\"*61)\n",
    "            print(f\"{avg_train_loss:^14.6f} | {val_loss:^10.6f} | {val_accuracy:^17.2f} | {time_elapsed:^9.2f}\")\n",
    "            print(\"-\"*61)\n",
    "            print(\"\\n\")\n",
    "    \n",
    "    print(\"Training complete!\")\n",
    "\n",
    "# Roberta Training\n",
    "train(roberta_classifier, train_dataloader, roberta_optimizer, roberta_scheduler, EPOCHS, val_dataloader, evaluation=True)\n"
   ]
  },
  {
   "cell_type": "code",
   "execution_count": 23,
   "id": "3ed2d571-fce5-4a9f-ab50-9201e921f4db",
   "metadata": {},
   "outputs": [],
   "source": [
    "torch.save(roberta_classifier, \"../../data/RoBERTa/RoBERTa_model.pth\")\n"
   ]
  },
  {
   "cell_type": "markdown",
   "id": "4cc2fc14-086d-4120-a119-c54c5e27bb43",
   "metadata": {},
   "source": [
    "-----"
   ]
  },
  {
   "cell_type": "code",
   "execution_count": 24,
   "id": "98222d73-97cb-4a5f-90d9-497d33051686",
   "metadata": {},
   "outputs": [],
   "source": [
    "\"\"\"\n",
    "def predict(model, test_dataloader):\n",
    "    \n",
    "    # Define empty list to host the predictions\n",
    "    preds_list = []\n",
    "    \n",
    "    # Put the model into evaluation mode\n",
    "    model.eval()\n",
    "    \n",
    "    # Initialize the progress bar\n",
    "    progress_bar = tqdm(test_dataloader, desc=\"Predicting\")\n",
    "    \n",
    "    for batch in progress_bar:\n",
    "        batch_input_ids, batch_attention_mask = tuple(t.to(device) for t in batch)[:2]\n",
    "        \n",
    "        # Avoid gradient calculation of tensors by using \"no_grad()\" method\n",
    "        with torch.no_grad():\n",
    "            logits = model(batch_input_ids, batch_attention_mask)\n",
    "        \n",
    "        # Get index of highest logit\n",
    "        preds = torch.argmax(logits, dim=1).cpu().numpy()\n",
    "        # Append predicted class to list\n",
    "        preds_list.extend(preds)\n",
    "    \n",
    "    return preds_list\n",
    "\n",
    "import torch\n",
    "from tqdm import tqdm\n",
    "\"\"\"\n",
    "def predict(model, test_dataloader, portion=None):\n",
    "    \"\"\"\n",
    "    Predict the classes for the data in the test_dataloader.\n",
    "\n",
    "    Parameters:\n",
    "    - model: The trained model for prediction.\n",
    "    - test_dataloader: DataLoader containing the test data.\n",
    "    - portion: The number of batches to consider from the test_dataloader. If None, consider all batches.\n",
    "\n",
    "    Returns:\n",
    "    - preds_list: List of predicted classes.\n",
    "    \"\"\"\n",
    "    # Define empty list to host the predictions\n",
    "    preds_list = []\n",
    "    \n",
    "    # Put the model into evaluation mode\n",
    "    model.eval()\n",
    "    \n",
    "    # Initialize the progress bar\n",
    "    progress_bar = tqdm(test_dataloader, desc=\"Predicting\")\n",
    "    \n",
    "    # Initialize a counter to limit the number of batches processed\n",
    "    batch_count = 0\n",
    "    \n",
    "    for batch in progress_bar:\n",
    "        batch_input_ids, batch_attention_mask = tuple(t.to(device) for t in batch)[:2]\n",
    "        \n",
    "        # Avoid gradient calculation of tensors by using \"no_grad()\" method\n",
    "        with torch.no_grad():\n",
    "            logits = model(batch_input_ids, batch_attention_mask)\n",
    "        \n",
    "        # Get index of highest logit\n",
    "        preds = torch.argmax(logits, dim=1).cpu().numpy()\n",
    "        # Append predicted class to list\n",
    "        preds_list.extend(preds)\n",
    "        \n",
    "        # Increment the batch counter\n",
    "        batch_count += 1\n",
    "        \n",
    "        # Check if we have processed the specified portion of the dataloader\n",
    "        if portion is not None and batch_count >= portion:\n",
    "            break\n",
    "    \n",
    "    return preds_list\n",
    "\n"
   ]
  },
  {
   "cell_type": "code",
   "execution_count": 25,
   "id": "800a0160-6d5c-4fc0-97ab-6d26d2fa6525",
   "metadata": {},
   "outputs": [
    {
     "name": "stderr",
     "output_type": "stream",
     "text": [
      "Predicting: 100%|██████████| 245/245 [06:11<00:00,  1.51s/it]\n"
     ]
    }
   ],
   "source": [
    "roberta_preds = predict(roberta_classifier, test_dataloader)\n",
    "#roberta_preds = predict(roberta_classifier, test_dataloader, portion=2)\n"
   ]
  },
  {
   "cell_type": "code",
   "execution_count": 26,
   "id": "76fd75bc",
   "metadata": {},
   "outputs": [
    {
     "name": "stdout",
     "output_type": "stream",
     "text": [
      "7837\n",
      "7837\n"
     ]
    }
   ],
   "source": [
    "import matplotlib.pyplot as plt\n",
    "from sklearn.metrics import classification_report\n",
    "\n",
    "print(len(roberta_preds))\n",
    "print(len(y_test))\n",
    "\n",
    "#print(len(y_test[:(len(roberta_preds))]))\n",
    "#y_test = y_test[:(len(roberta_preds))]\n",
    "\n"
   ]
  },
  {
   "cell_type": "code",
   "execution_count": 27,
   "id": "d3611102-197b-47c7-b31f-f62de33b2c73",
   "metadata": {},
   "outputs": [
    {
     "name": "stdout",
     "output_type": "stream",
     "text": [
      "Classification Report for ROBERTA :\n",
      "                    precision    recall  f1-score   support\n",
      "\n",
      "not_cyberbullying       0.84      0.89      0.86      1542\n",
      "           gender       0.93      0.87      0.90      1533\n",
      "         religion       0.95      0.97      0.96      1593\n",
      "              age       0.99      0.98      0.98      1590\n",
      "        ethnicity       0.99      0.97      0.98      1579\n",
      "\n",
      "         accuracy                           0.94      7837\n",
      "        macro avg       0.94      0.94      0.94      7837\n",
      "     weighted avg       0.94      0.94      0.94      7837\n",
      "\n"
     ]
    }
   ],
   "source": [
    "print('Classification Report for ROBERTA :\\n', classification_report(y_test, roberta_preds, target_names=possible_labels))"
   ]
  },
  {
   "cell_type": "code",
   "execution_count": 28,
   "id": "bbf91ca4-0154-4aee-9e57-4716961bf35d",
   "metadata": {},
   "outputs": [
    {
     "name": "stdout",
     "output_type": "stream",
     "text": [
      "Categories: ['not_cyberbullying', 'gender', 'religion', 'age', 'ethnicity']\n"
     ]
    },
    {
     "data": {
      "image/png": "[encoded data removed]",
      "text/plain": [
       "<Figure size 640x480 with 1 Axes>"
      ]
     },
     "metadata": {},
     "output_type": "display_data"
    }
   ],
   "source": [
    "# Generate the classification report\n",
    "report = classification_report(y_test, roberta_preds, target_names=possible_labels, output_dict=True)\n",
    "\n",
    "# Extract categories for classification (excluding the overall metrics like 'accuracy', 'macro avg', 'weighted avg')\n",
    "categories = [label for label in possible_labels if label in report]\n",
    "print(\"Categories:\", categories)\n",
    "\n",
    "# Extracting precision, recall, and f1-score\n",
    "precision = [report[category]['precision'] for category in categories]\n",
    "recall = [report[category]['recall'] for category in categories]\n",
    "f1_score = [report[category]['f1-score'] for category in categories]\n",
    "\n",
    "# Setting the positions and width for the bars\n",
    "pos = list(range(len(categories)))\n",
    "width = 0.25 \n",
    "\n",
    "# Plotting each metric\n",
    "plt.bar(pos, precision, width, alpha=0.5, color='#ff33cc', label='Precision')\n",
    "plt.bar([p + width for p in pos], recall, width, alpha=0.5, color='#6600ff', label='Recall')\n",
    "plt.bar([p + width*2 for p in pos], f1_score, width, alpha=0.5, color='#00cc99', label='F1-Score')\n",
    "\n",
    "# Adding the aesthetics\n",
    "plt.xlabel('Category')\n",
    "plt.ylabel('Score')\n",
    "plt.title('Classification Report')\n",
    "\n",
    "# Ensure the number of x-ticks matches the number of categories\n",
    "plt.xticks([p + width for p in pos], categories)\n",
    "\n",
    "# Adding the legend and showing the plot\n",
    "plt.legend(['Precision', 'Recall', 'F1-Score'], loc='upper left')\n",
    "plt.grid()\n",
    "plt.show()\n"
   ]
  },
  {
   "cell_type": "code",
   "execution_count": null,
   "id": "9bec161f-f62b-4e4b-9529-ecd3f3faefd7",
   "metadata": {},
   "outputs": [],
   "source": []
  }
 ],
 "metadata": {
  "kernelspec": {
   "display_name": "Python 3 (ipykernel)",
   "language": "python",
   "name": "python3"
  },
  "language_info": {
   "codemirror_mode": {
    "name": "ipython",
    "version": 3
   },
   "file_extension": ".py",
   "mimetype": "text/x-python",
   "name": "python",
   "nbconvert_exporter": "python",
   "pygments_lexer": "ipython3",
   "version": "3.10.12"
  }
 },
 "nbformat": 4,
 "nbformat_minor": 5
}
